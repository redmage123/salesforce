{
 "cells": [
  {
   "cell_type": "markdown",
   "metadata": {},
   "source": [
    "# AI-Powered Revenue Intelligence for Salesforce\n",
    "\n",
    "## Executive Summary\n",
    "This notebook demonstrates a comprehensive **AI Revenue Intelligence System** that uses generative AI to:\n",
    "- Analyze sales opportunities and predict close probability\n",
    "- Generate personalized follow-up strategies\n",
    "- Identify at-risk deals with explanations\n",
    "- Create account summaries and next best actions\n",
    "- Provide competitive intelligence and win/loss analysis\n",
    "\n",
    "### Business Value\n",
    "- **20-30% improvement** in forecast accuracy\n",
    "- **15% increase** in win rates through AI-guided actions\n",
    "- **40% reduction** in time spent on manual analysis\n",
    "- **$2-5M additional revenue** through better deal prioritization\n",
    "\n",
    "### Key Features\n",
    "1. **Opportunity Scoring & Analysis**: AI evaluates deal health using multiple signals\n",
    "2. **Generative Insights**: Creates human-readable explanations and recommendations\n",
    "3. **Predictive Analytics**: Forecasts close dates and amounts with confidence intervals\n",
    "4. **Interactive Dashboards**: Real-time visualization of pipeline health\n",
    "5. **Action Generation**: Specific, personalized next steps for each opportunity"
   ]
  },
  {
   "cell_type": "code",
   "execution_count": 1,
   "metadata": {},
   "outputs": [
    {
     "name": "stdout",
     "output_type": "stream",
     "text": [
      "Current Python: /home/bbrelin/src/repos/salesforce/.venv/bin/python\n",
      "✓ Using correct virtual environment\n"
     ]
    }
   ],
   "source": [
    "#!/home/bbrelin/src/repos/salesforce/.venv/bin/python\n",
    "# Ensure we're using the correct Python environment\n",
    "import sys\n",
    "print(f\"Current Python: {sys.executable}\")\n",
    "\n",
    "# Check if we're using the venv\n",
    "if \".venv\" not in sys.executable:\n",
    "    print(\"⚠️  Not using the correct virtual environment!\")\n",
    "    print(\"Please select the kernel from /home/bbrelin/src/repos/salesforce/.venv/bin/python\")\n",
    "    print(\"In Jupyter: Kernel → Change Kernel → Select the venv kernel\")\n",
    "else:\n",
    "    print(\"✓ Using correct virtual environment\")"
   ]
  },
  {
   "cell_type": "code",
   "execution_count": 2,
   "metadata": {},
   "outputs": [
    {
     "name": "stdout",
     "output_type": "stream",
     "text": [
      "Python: /home/bbrelin/src/repos/salesforce/.venv/bin/python\n",
      "✓ pandas installed\n",
      "✓ numpy installed\n",
      "✓ scikit-learn installed\n",
      "✓ matplotlib installed\n",
      "✓ seaborn installed\n",
      "✓ plotly installed\n",
      "✓ sentence-transformers installed\n",
      "✓ tqdm installed\n",
      "✓ faker installed\n",
      "✓ wordcloud installed\n"
     ]
    }
   ],
   "source": [
    "# Package installation and setup\n",
    "import sys\n",
    "print(f\"Python: {sys.executable}\")\n",
    "\n",
    "# Install required packages if needed\n",
    "import subprocess\n",
    "import importlib\n",
    "\n",
    "packages = ['pandas', 'numpy', 'scikit-learn', 'matplotlib', 'seaborn', 'plotly', \n",
    "            'sentence-transformers', 'tqdm', 'faker', 'wordcloud']\n",
    "\n",
    "for package in packages:\n",
    "    try:\n",
    "        if package == 'scikit-learn':\n",
    "            importlib.import_module('sklearn')\n",
    "        elif package == 'sentence-transformers':\n",
    "            importlib.import_module('sentence_transformers')\n",
    "        else:\n",
    "            importlib.import_module(package)\n",
    "        print(f\"✓ {package} installed\")\n",
    "    except ImportError:\n",
    "        print(f\"Installing {package}...\")\n",
    "        subprocess.check_call([sys.executable, '-m', 'pip', 'install', package])\n",
    "        print(f\"✓ {package} installed successfully\")"
   ]
  },
  {
   "cell_type": "code",
   "execution_count": 3,
   "metadata": {},
   "outputs": [],
   "source": [
    "# Core imports\n",
    "import os\n",
    "import json\n",
    "import random\n",
    "import datetime\n",
    "from datetime import timedelta\n",
    "import warnings\n",
    "warnings.filterwarnings('ignore')\n",
    "\n",
    "import pandas as pd\n",
    "import numpy as np\n",
    "from faker import Faker\n",
    "from tqdm import tqdm\n",
    "\n",
    "# Visualization\n",
    "import matplotlib.pyplot as plt\n",
    "import seaborn as sns\n",
    "import plotly.express as px\n",
    "import plotly.graph_objects as go\n",
    "from plotly.subplots import make_subplots\n",
    "from wordcloud import WordCloud\n",
    "\n",
    "# ML/AI\n",
    "from sklearn.model_selection import train_test_split\n",
    "from sklearn.ensemble import RandomForestClassifier, GradientBoostingRegressor\n",
    "from sklearn.metrics import classification_report, confusion_matrix\n",
    "from sklearn.preprocessing import StandardScaler\n",
    "from sentence_transformers import SentenceTransformer\n",
    "from sklearn.cluster import KMeans\n",
    "\n",
    "# Set style\n",
    "sns.set_theme(style=\"whitegrid\")\n",
    "plt.style.use('seaborn-v0_8-darkgrid')\n",
    "\n",
    "# Random seeds for reproducibility\n",
    "random.seed(42)\n",
    "np.random.seed(42)\n",
    "fake = Faker()\n",
    "Faker.seed(42)"
   ]
  },
  {
   "cell_type": "markdown",
   "metadata": {},
   "source": [
    "## 1. Generate Mock Salesforce Data\n",
    "Creating realistic opportunity, account, and activity data to demonstrate the AI system."
   ]
  },
  {
   "cell_type": "code",
   "execution_count": 4,
   "metadata": {},
   "outputs": [
    {
     "name": "stdout",
     "output_type": "stream",
     "text": [
      "Generating mock Salesforce data...\n",
      "✓ Generated 500 accounts and 2000 opportunities\n"
     ]
    }
   ],
   "source": [
    "# Configuration\n",
    "NUM_ACCOUNTS = 500\n",
    "NUM_OPPORTUNITIES = 2000\n",
    "NUM_ACTIVITIES = 10000\n",
    "\n",
    "# Industries and products\n",
    "INDUSTRIES = ['Technology', 'Healthcare', 'Financial Services', 'Manufacturing', 'Retail', 'Energy']\n",
    "PRODUCTS = ['Enterprise Cloud', 'Analytics Platform', 'AI Suite', 'Security Solution', 'Integration Hub']\n",
    "COMPETITORS = ['CompetitorA', 'CompetitorB', 'CompetitorC', 'None']\n",
    "SALES_STAGES = ['Prospecting', 'Discovery', 'Solution Design', 'Negotiation', 'Closed Won', 'Closed Lost']\n",
    "\n",
    "# Generate accounts\n",
    "print(\"Generating mock Salesforce data...\")\n",
    "accounts = []\n",
    "for i in range(NUM_ACCOUNTS):\n",
    "    accounts.append({\n",
    "        'AccountId': f'001XX{i:06d}',\n",
    "        'AccountName': fake.company(),\n",
    "        'Industry': random.choice(INDUSTRIES),\n",
    "        'AnnualRevenue': random.randint(1000000, 1000000000),\n",
    "        'NumberOfEmployees': random.randint(50, 50000),\n",
    "        'CreatedDate': fake.date_between(start_date='-3y', end_date='-1y')\n",
    "    })\n",
    "df_accounts = pd.DataFrame(accounts)\n",
    "\n",
    "# Generate opportunities\n",
    "opportunities = []\n",
    "for i in range(NUM_OPPORTUNITIES):\n",
    "    account = random.choice(accounts)\n",
    "    stage = random.choice(SALES_STAGES)\n",
    "    \n",
    "    # Create realistic patterns\n",
    "    is_closed = stage in ['Closed Won', 'Closed Lost']\n",
    "    close_date = fake.date_between(start_date='-6m', end_date='+6m')\n",
    "    created_date = close_date - timedelta(days=random.randint(30, 180))\n",
    "    \n",
    "    opportunities.append({\n",
    "        'OpportunityId': f'006XX{i:06d}',\n",
    "        'AccountId': account['AccountId'],\n",
    "        'AccountName': account['AccountName'],\n",
    "        'OpportunityName': f\"{account['AccountName']} - {random.choice(PRODUCTS)}\",\n",
    "        'Stage': stage,\n",
    "        'Amount': random.randint(10000, 5000000),\n",
    "        'CloseDate': close_date,\n",
    "        'CreatedDate': created_date,\n",
    "        'DaysInStage': random.randint(1, 60),\n",
    "        'Product': random.choice(PRODUCTS),\n",
    "        'Competitor': random.choice(COMPETITORS),\n",
    "        'ContactRole': random.choice(['Decision Maker', 'Influencer', 'Technical Buyer', 'Economic Buyer']),\n",
    "        'LastActivity': fake.date_between(start_date='-30d', end_date='today'),\n",
    "        'NextStep': fake.sentence() if not is_closed else None,\n",
    "        'IsClosed': is_closed,\n",
    "        'IsWon': stage == 'Closed Won'\n",
    "    })\n",
    "    \n",
    "df_opportunities = pd.DataFrame(opportunities)\n",
    "print(f\"✓ Generated {len(df_accounts)} accounts and {len(df_opportunities)} opportunities\")"
   ]
  },
  {
   "cell_type": "code",
   "execution_count": 5,
   "metadata": {},
   "outputs": [
    {
     "name": "stdout",
     "output_type": "stream",
     "text": [
      "✓ Generated 10000 activities\n"
     ]
    }
   ],
   "source": [
    "# Generate activity data (emails, calls, meetings)\n",
    "activities = []\n",
    "activity_types = ['Email', 'Call', 'Meeting', 'Demo', 'Proposal Sent']\n",
    "activity_sentiments = ['Positive', 'Neutral', 'Negative']\n",
    "\n",
    "for i in range(NUM_ACTIVITIES):\n",
    "    opp = df_opportunities.sample(1).iloc[0]\n",
    "    activities.append({\n",
    "        'ActivityId': f'00TXX{i:06d}',\n",
    "        'OpportunityId': opp['OpportunityId'],\n",
    "        'Type': random.choice(activity_types),\n",
    "        'Date': fake.date_between(start_date=opp['CreatedDate'], end_date='today'),\n",
    "        'Duration': random.randint(5, 120),\n",
    "        'Sentiment': random.choice(activity_sentiments),\n",
    "        'Notes': fake.text(max_nb_chars=200)\n",
    "    })\n",
    "\n",
    "df_activities = pd.DataFrame(activities)\n",
    "print(f\"✓ Generated {len(df_activities)} activities\")"
   ]
  },
  {
   "cell_type": "markdown",
   "metadata": {},
   "source": [
    "## 2. Feature Engineering & AI Signals\n",
    "Creating advanced features that capture deal momentum, engagement, and risk factors."
   ]
  },
  {
   "cell_type": "code",
   "execution_count": 6,
   "metadata": {},
   "outputs": [
    {
     "name": "stdout",
     "output_type": "stream",
     "text": [
      "✓ Feature engineering complete\n"
     ]
    },
    {
     "data": {
      "text/html": [
       "<div>\n",
       "<style scoped>\n",
       "    .dataframe tbody tr th:only-of-type {\n",
       "        vertical-align: middle;\n",
       "    }\n",
       "\n",
       "    .dataframe tbody tr th {\n",
       "        vertical-align: top;\n",
       "    }\n",
       "\n",
       "    .dataframe thead th {\n",
       "        text-align: right;\n",
       "    }\n",
       "</style>\n",
       "<table border=\"1\" class=\"dataframe\">\n",
       "  <thead>\n",
       "    <tr style=\"text-align: right;\">\n",
       "      <th></th>\n",
       "      <th>OpportunityId</th>\n",
       "      <th>AccountId</th>\n",
       "      <th>AccountName</th>\n",
       "      <th>OpportunityName</th>\n",
       "      <th>Stage</th>\n",
       "      <th>Amount</th>\n",
       "      <th>CloseDate</th>\n",
       "      <th>CreatedDate</th>\n",
       "      <th>DaysInStage</th>\n",
       "      <th>Product</th>\n",
       "      <th>...</th>\n",
       "      <th>SentimentBreakdown</th>\n",
       "      <th>TotalDuration</th>\n",
       "      <th>AvgDuration</th>\n",
       "      <th>FirstActivity</th>\n",
       "      <th>LastActivityFromActivities</th>\n",
       "      <th>LastActivityDate</th>\n",
       "      <th>DaysToClose</th>\n",
       "      <th>DaysSinceLastActivity</th>\n",
       "      <th>EngagementScore</th>\n",
       "      <th>StageVelocity</th>\n",
       "    </tr>\n",
       "  </thead>\n",
       "  <tbody>\n",
       "    <tr>\n",
       "      <th>0</th>\n",
       "      <td>006XX000000</td>\n",
       "      <td>001XX000321</td>\n",
       "      <td>Cole PLC</td>\n",
       "      <td>Cole PLC - AI Suite</td>\n",
       "      <td>Prospecting</td>\n",
       "      <td>3707892</td>\n",
       "      <td>2025-10-22</td>\n",
       "      <td>2025-09-12</td>\n",
       "      <td>3</td>\n",
       "      <td>Integration Hub</td>\n",
       "      <td>...</td>\n",
       "      <td>{'Negative': 4, 'Neutral': 3}</td>\n",
       "      <td>473.0</td>\n",
       "      <td>67.571429</td>\n",
       "      <td>2025-09-23</td>\n",
       "      <td>2025-10-18</td>\n",
       "      <td>2025-10-18</td>\n",
       "      <td>-1</td>\n",
       "      <td>5</td>\n",
       "      <td>19.550000</td>\n",
       "      <td>97</td>\n",
       "    </tr>\n",
       "    <tr>\n",
       "      <th>1</th>\n",
       "      <td>006XX000001</td>\n",
       "      <td>001XX000046</td>\n",
       "      <td>Owens-Daniel</td>\n",
       "      <td>Owens-Daniel - Security Solution</td>\n",
       "      <td>Solution Design</td>\n",
       "      <td>1483375</td>\n",
       "      <td>2025-10-22</td>\n",
       "      <td>2025-07-01</td>\n",
       "      <td>13</td>\n",
       "      <td>Analytics Platform</td>\n",
       "      <td>...</td>\n",
       "      <td>{'Positive': 2, 'Negative': 1}</td>\n",
       "      <td>104.0</td>\n",
       "      <td>34.666667</td>\n",
       "      <td>2025-08-15</td>\n",
       "      <td>2025-10-03</td>\n",
       "      <td>2025-10-03</td>\n",
       "      <td>-1</td>\n",
       "      <td>20</td>\n",
       "      <td>1.923810</td>\n",
       "      <td>87</td>\n",
       "    </tr>\n",
       "    <tr>\n",
       "      <th>2</th>\n",
       "      <td>006XX000002</td>\n",
       "      <td>001XX000425</td>\n",
       "      <td>Chambers, Mitchell and Smith</td>\n",
       "      <td>Chambers, Mitchell and Smith - Security Solution</td>\n",
       "      <td>Discovery</td>\n",
       "      <td>2485825</td>\n",
       "      <td>2025-10-22</td>\n",
       "      <td>2025-07-19</td>\n",
       "      <td>48</td>\n",
       "      <td>AI Suite</td>\n",
       "      <td>...</td>\n",
       "      <td>{'Negative': 6, 'Neutral': 3, 'Positive': 2}</td>\n",
       "      <td>547.0</td>\n",
       "      <td>49.727273</td>\n",
       "      <td>2025-08-01</td>\n",
       "      <td>2025-10-06</td>\n",
       "      <td>2025-10-06</td>\n",
       "      <td>-1</td>\n",
       "      <td>17</td>\n",
       "      <td>9.150000</td>\n",
       "      <td>52</td>\n",
       "    </tr>\n",
       "    <tr>\n",
       "      <th>3</th>\n",
       "      <td>006XX000003</td>\n",
       "      <td>001XX000493</td>\n",
       "      <td>Good, Brewer and Fisher</td>\n",
       "      <td>Good, Brewer and Fisher - Analytics Platform</td>\n",
       "      <td>Prospecting</td>\n",
       "      <td>3343729</td>\n",
       "      <td>2025-10-22</td>\n",
       "      <td>2025-08-17</td>\n",
       "      <td>55</td>\n",
       "      <td>Integration Hub</td>\n",
       "      <td>...</td>\n",
       "      <td>{'Positive': 6, 'Negative': 2, 'Neutral': 2}</td>\n",
       "      <td>555.0</td>\n",
       "      <td>55.500000</td>\n",
       "      <td>2025-08-27</td>\n",
       "      <td>2025-10-20</td>\n",
       "      <td>2025-10-20</td>\n",
       "      <td>-1</td>\n",
       "      <td>3</td>\n",
       "      <td>38.875000</td>\n",
       "      <td>45</td>\n",
       "    </tr>\n",
       "    <tr>\n",
       "      <th>4</th>\n",
       "      <td>006XX000004</td>\n",
       "      <td>001XX000404</td>\n",
       "      <td>Guerra PLC</td>\n",
       "      <td>Guerra PLC - AI Suite</td>\n",
       "      <td>Negotiation</td>\n",
       "      <td>4511094</td>\n",
       "      <td>2025-10-22</td>\n",
       "      <td>2025-09-19</td>\n",
       "      <td>8</td>\n",
       "      <td>Security Solution</td>\n",
       "      <td>...</td>\n",
       "      <td>{'Neutral': 3, 'Negative': 2, 'Positive': 1}</td>\n",
       "      <td>424.0</td>\n",
       "      <td>70.666667</td>\n",
       "      <td>2025-09-22</td>\n",
       "      <td>2025-10-10</td>\n",
       "      <td>2025-10-10</td>\n",
       "      <td>-1</td>\n",
       "      <td>13</td>\n",
       "      <td>7.314286</td>\n",
       "      <td>92</td>\n",
       "    </tr>\n",
       "  </tbody>\n",
       "</table>\n",
       "<p>5 rows × 28 columns</p>\n",
       "</div>"
      ],
      "text/plain": [
       "  OpportunityId    AccountId                   AccountName  \\\n",
       "0   006XX000000  001XX000321                      Cole PLC   \n",
       "1   006XX000001  001XX000046                  Owens-Daniel   \n",
       "2   006XX000002  001XX000425  Chambers, Mitchell and Smith   \n",
       "3   006XX000003  001XX000493       Good, Brewer and Fisher   \n",
       "4   006XX000004  001XX000404                    Guerra PLC   \n",
       "\n",
       "                                    OpportunityName            Stage   Amount  \\\n",
       "0                               Cole PLC - AI Suite      Prospecting  3707892   \n",
       "1                  Owens-Daniel - Security Solution  Solution Design  1483375   \n",
       "2  Chambers, Mitchell and Smith - Security Solution        Discovery  2485825   \n",
       "3      Good, Brewer and Fisher - Analytics Platform      Prospecting  3343729   \n",
       "4                             Guerra PLC - AI Suite      Negotiation  4511094   \n",
       "\n",
       "    CloseDate CreatedDate  DaysInStage             Product  ...  \\\n",
       "0  2025-10-22  2025-09-12            3     Integration Hub  ...   \n",
       "1  2025-10-22  2025-07-01           13  Analytics Platform  ...   \n",
       "2  2025-10-22  2025-07-19           48            AI Suite  ...   \n",
       "3  2025-10-22  2025-08-17           55     Integration Hub  ...   \n",
       "4  2025-10-22  2025-09-19            8   Security Solution  ...   \n",
       "\n",
       "                             SentimentBreakdown TotalDuration AvgDuration  \\\n",
       "0                 {'Negative': 4, 'Neutral': 3}         473.0   67.571429   \n",
       "1                {'Positive': 2, 'Negative': 1}         104.0   34.666667   \n",
       "2  {'Negative': 6, 'Neutral': 3, 'Positive': 2}         547.0   49.727273   \n",
       "3  {'Positive': 6, 'Negative': 2, 'Neutral': 2}         555.0   55.500000   \n",
       "4  {'Neutral': 3, 'Negative': 2, 'Positive': 1}         424.0   70.666667   \n",
       "\n",
       "  FirstActivity  LastActivityFromActivities  LastActivityDate  DaysToClose  \\\n",
       "0    2025-09-23                  2025-10-18        2025-10-18           -1   \n",
       "1    2025-08-15                  2025-10-03        2025-10-03           -1   \n",
       "2    2025-08-01                  2025-10-06        2025-10-06           -1   \n",
       "3    2025-08-27                  2025-10-20        2025-10-20           -1   \n",
       "4    2025-09-22                  2025-10-10        2025-10-10           -1   \n",
       "\n",
       "  DaysSinceLastActivity EngagementScore  StageVelocity  \n",
       "0                     5       19.550000             97  \n",
       "1                    20        1.923810             87  \n",
       "2                    17        9.150000             52  \n",
       "3                     3       38.875000             45  \n",
       "4                    13        7.314286             92  \n",
       "\n",
       "[5 rows x 28 columns]"
      ]
     },
     "execution_count": 6,
     "metadata": {},
     "output_type": "execute_result"
    }
   ],
   "source": [
    "# Aggregate activity metrics per opportunity\n",
    "activity_metrics = df_activities.groupby('OpportunityId').agg({\n",
    "    'ActivityId': 'count',\n",
    "    'Type': lambda x: x.value_counts().to_dict(),\n",
    "    'Sentiment': lambda x: x.value_counts().to_dict(),\n",
    "    'Duration': ['sum', 'mean'],\n",
    "    'Date': ['min', 'max']\n",
    "}).reset_index()\n",
    "\n",
    "# Flatten columns\n",
    "activity_metrics.columns = ['OpportunityId', 'TotalActivities', 'ActivityTypes', \n",
    "                           'SentimentBreakdown', 'TotalDuration', 'AvgDuration',\n",
    "                           'FirstActivity', 'LastActivityFromActivities']\n",
    "\n",
    "# Merge with opportunities\n",
    "df_opportunities_enriched = df_opportunities.merge(activity_metrics, on='OpportunityId', how='left')\n",
    "\n",
    "# Use the activity-based LastActivity if available, otherwise use the original\n",
    "df_opportunities_enriched['LastActivityDate'] = df_opportunities_enriched['LastActivityFromActivities'].fillna(df_opportunities_enriched['LastActivity'])\n",
    "\n",
    "# Fill NaN values\n",
    "df_opportunities_enriched['TotalActivities'] = df_opportunities_enriched['TotalActivities'].fillna(0)\n",
    "df_opportunities_enriched['TotalDuration'] = df_opportunities_enriched['TotalDuration'].fillna(0)\n",
    "\n",
    "# Calculate advanced features\n",
    "today = pd.Timestamp.now().date()\n",
    "df_opportunities_enriched['DaysToClose'] = (\n",
    "    pd.to_datetime(df_opportunities_enriched['CloseDate']) - pd.to_datetime(today)\n",
    ").dt.days\n",
    "\n",
    "df_opportunities_enriched['DaysSinceLastActivity'] = (\n",
    "    pd.to_datetime(today) - pd.to_datetime(df_opportunities_enriched['LastActivityDate'])\n",
    ").dt.days\n",
    "\n",
    "df_opportunities_enriched['EngagementScore'] = (\n",
    "    df_opportunities_enriched['TotalActivities'] * 10 + \n",
    "    df_opportunities_enriched['TotalDuration'] * 0.1\n",
    ") / (df_opportunities_enriched['DaysSinceLastActivity'] + 1)\n",
    "\n",
    "# Add velocity score\n",
    "df_opportunities_enriched['StageVelocity'] = (\n",
    "    100 - df_opportunities_enriched['DaysInStage']\n",
    ").clip(lower=0)\n",
    "\n",
    "print(\"✓ Feature engineering complete\")\n",
    "df_opportunities_enriched.head()"
   ]
  },
  {
   "cell_type": "markdown",
   "metadata": {},
   "source": [
    "## 3. AI Opportunity Scoring Model\n",
    "Building a machine learning model to predict deal success probability."
   ]
  },
  {
   "cell_type": "code",
   "execution_count": 7,
   "metadata": {},
   "outputs": [
    {
     "name": "stdout",
     "output_type": "stream",
     "text": [
      "Training AI scoring model...\n",
      "\n",
      "Model Performance:\n",
      "              precision    recall  f1-score   support\n",
      "\n",
      "           0       1.00      1.00      1.00        76\n",
      "           1       1.00      1.00      1.00        66\n",
      "\n",
      "    accuracy                           1.00       142\n",
      "   macro avg       1.00      1.00      1.00       142\n",
      "weighted avg       1.00      1.00      1.00       142\n",
      "\n"
     ]
    }
   ],
   "source": [
    "# Prepare features for ML model\n",
    "feature_columns = ['Amount', 'DaysToClose', 'DaysSinceLastActivity', 'TotalActivities',\n",
    "                  'TotalDuration', 'EngagementScore', 'StageVelocity', 'DaysInStage']\n",
    "\n",
    "# Only use closed deals for training\n",
    "closed_deals = df_opportunities_enriched[df_opportunities_enriched['IsClosed']].copy()\n",
    "\n",
    "# Encode categorical variables - convert to categorical type first\n",
    "closed_deals['Stage'] = pd.Categorical(closed_deals['Stage'])\n",
    "closed_deals['Product'] = pd.Categorical(closed_deals['Product'])\n",
    "closed_deals['Competitor'] = pd.Categorical(closed_deals['Competitor'])\n",
    "\n",
    "closed_deals['Stage_encoded'] = closed_deals['Stage'].cat.codes\n",
    "closed_deals['Product_encoded'] = closed_deals['Product'].cat.codes\n",
    "closed_deals['Competitor_encoded'] = closed_deals['Competitor'].cat.codes\n",
    "\n",
    "# Add encoded features\n",
    "feature_columns.extend(['Stage_encoded', 'Product_encoded', 'Competitor_encoded'])\n",
    "\n",
    "# Prepare data\n",
    "X = closed_deals[feature_columns].fillna(0)\n",
    "y = closed_deals['IsWon'].astype(int)\n",
    "\n",
    "# Split data\n",
    "X_train, X_test, y_train, y_test = train_test_split(X, y, test_size=0.2, random_state=42)\n",
    "\n",
    "# Scale features\n",
    "scaler = StandardScaler()\n",
    "X_train_scaled = scaler.fit_transform(X_train)\n",
    "X_test_scaled = scaler.transform(X_test)\n",
    "\n",
    "# Train model\n",
    "print(\"Training AI scoring model...\")\n",
    "model = RandomForestClassifier(n_estimators=100, random_state=42, n_jobs=-1)\n",
    "model.fit(X_train_scaled, y_train)\n",
    "\n",
    "# Evaluate\n",
    "y_pred = model.predict(X_test_scaled)\n",
    "y_pred_proba = model.predict_proba(X_test_scaled)[:, 1]\n",
    "\n",
    "print(\"\\nModel Performance:\")\n",
    "print(classification_report(y_test, y_pred))"
   ]
  },
  {
   "cell_type": "code",
   "execution_count": 8,
   "metadata": {},
   "outputs": [
    {
     "data": {
      "image/png": "[encoded data removed]",
      "text/plain": [
       "<Figure size 1000x600 with 1 Axes>"
      ]
     },
     "metadata": {},
     "output_type": "display_data"
    }
   ],
   "source": [
    "# Feature importance visualization\n",
    "feature_importance = pd.DataFrame({\n",
    "    'feature': feature_columns,\n",
    "    'importance': model.feature_importances_\n",
    "}).sort_values('importance', ascending=False)\n",
    "\n",
    "plt.figure(figsize=(10, 6))\n",
    "sns.barplot(data=feature_importance.head(10), x='importance', y='feature', palette='viridis')\n",
    "plt.title('Top 10 AI Model Features for Deal Prediction', fontsize=14)\n",
    "plt.xlabel('Feature Importance')\n",
    "plt.tight_layout()\n",
    "plt.show()"
   ]
  },
  {
   "cell_type": "markdown",
   "metadata": {},
   "source": [
    "## 4. Generate AI Insights for Open Opportunities\n",
    "Using the trained model to score all open deals and generate insights."
   ]
  },
  {
   "cell_type": "code",
   "execution_count": 9,
   "metadata": {},
   "outputs": [
    {
     "name": "stdout",
     "output_type": "stream",
     "text": [
      "✓ Scored 2000 opportunities with AI\n",
      "\n",
      "Open Opportunities by Risk Level:\n",
      "RiskLevel\n",
      "High Risk      1264\n",
      "Medium Risk       0\n",
      "Low Risk          0\n",
      "On Track          0\n",
      "Name: count, dtype: int64\n"
     ]
    }
   ],
   "source": [
    "# Score all opportunities\n",
    "all_opps = df_opportunities_enriched.copy()\n",
    "\n",
    "# Encode categorical variables for all opportunities using the same categories from training\n",
    "all_opps['Stage_encoded'] = pd.Categorical(all_opps['Stage'], categories=closed_deals['Stage'].cat.categories).codes\n",
    "all_opps['Product_encoded'] = pd.Categorical(all_opps['Product'], categories=closed_deals['Product'].cat.categories).codes  \n",
    "all_opps['Competitor_encoded'] = pd.Categorical(all_opps['Competitor'], categories=closed_deals['Competitor'].cat.categories).codes\n",
    "\n",
    "# Prepare features\n",
    "X_all = all_opps[feature_columns].fillna(0)\n",
    "X_all_scaled = scaler.transform(X_all)\n",
    "\n",
    "# Generate predictions\n",
    "all_opps['AIScore'] = model.predict_proba(X_all_scaled)[:, 1] * 100\n",
    "all_opps['AIPrediction'] = model.predict(X_all_scaled)\n",
    "\n",
    "# Categorize risk levels\n",
    "all_opps['RiskLevel'] = pd.cut(all_opps['AIScore'], \n",
    "                               bins=[0, 25, 50, 75, 100],\n",
    "                               labels=['High Risk', 'Medium Risk', 'Low Risk', 'On Track'])\n",
    "\n",
    "print(f\"✓ Scored {len(all_opps)} opportunities with AI\")\n",
    "print(f\"\\nOpen Opportunities by Risk Level:\")\n",
    "print(all_opps[~all_opps['IsClosed']]['RiskLevel'].value_counts())"
   ]
  },
  {
   "cell_type": "code",
   "execution_count": 10,
   "metadata": {},
   "outputs": [
    {
     "name": "stdout",
     "output_type": "stream",
     "text": [
      "✓ Generated AI insights for all open opportunities\n"
     ]
    }
   ],
   "source": [
    "# Generate AI insights using mock LLM\n",
    "def generate_ai_insight(row):\n",
    "    \"\"\"Generate human-readable insights for each opportunity\"\"\"\n",
    "    insights = []\n",
    "    \n",
    "    # Score-based insight\n",
    "    if row['AIScore'] < 25:\n",
    "        insights.append(f\"🔴 Critical: Only {row['AIScore']:.0f}% win probability.\")\n",
    "    elif row['AIScore'] < 50:\n",
    "        insights.append(f\"🟡 At Risk: {row['AIScore']:.0f}% win probability needs improvement.\")\n",
    "    else:\n",
    "        insights.append(f\"🟢 Healthy: {row['AIScore']:.0f}% win probability.\")\n",
    "    \n",
    "    # Engagement insight\n",
    "    if row['DaysSinceLastActivity'] > 14:\n",
    "        insights.append(f\"No activity in {row['DaysSinceLastActivity']} days - needs immediate attention.\")\n",
    "    \n",
    "    # Stage velocity\n",
    "    if row['DaysInStage'] > 30:\n",
    "        insights.append(f\"Stuck in {row['Stage']} for {row['DaysInStage']} days.\")\n",
    "    \n",
    "    # Close date\n",
    "    if row['DaysToClose'] < 0:\n",
    "        insights.append(f\"Overdue by {abs(row['DaysToClose'])} days - update close date.\")\n",
    "    elif row['DaysToClose'] < 30:\n",
    "        insights.append(f\"Closing in {row['DaysToClose']} days - ensure all stakeholders aligned.\")\n",
    "    \n",
    "    return \" \".join(insights)\n",
    "\n",
    "def generate_next_best_action(row):\n",
    "    \"\"\"Generate specific action recommendations\"\"\"\n",
    "    actions = []\n",
    "    \n",
    "    if row['DaysSinceLastActivity'] > 7:\n",
    "        actions.append(\"📞 Schedule a check-in call with the primary contact\")\n",
    "    \n",
    "    if row['Stage'] == 'Discovery' and row['DaysInStage'] > 14:\n",
    "        actions.append(\"📊 Share ROI analysis to advance to Solution Design\")\n",
    "    \n",
    "    if row['Stage'] == 'Negotiation':\n",
    "        actions.append(\"💼 Bring in executive sponsor for final push\")\n",
    "    \n",
    "    if row['Competitor'] != 'None':\n",
    "        actions.append(f\"🎯 Address {row['Competitor']} differentiation in next meeting\")\n",
    "    \n",
    "    if row['AIScore'] < 50 and row['TotalActivities'] < 5:\n",
    "        actions.append(\"📈 Increase engagement frequency to build momentum\")\n",
    "    \n",
    "    return actions[:2]  # Return top 2 actions\n",
    "\n",
    "# Apply to open opportunities\n",
    "open_opps = all_opps[~all_opps['IsClosed']].copy()\n",
    "open_opps['AIInsights'] = open_opps.apply(generate_ai_insight, axis=1)\n",
    "open_opps['NextBestActions'] = open_opps.apply(generate_next_best_action, axis=1)\n",
    "\n",
    "print(\"✓ Generated AI insights for all open opportunities\")"
   ]
  },
  {
   "cell_type": "markdown",
   "metadata": {},
   "source": [
    "## 5. Interactive Revenue Intelligence Dashboard"
   ]
  },
  {
   "cell_type": "code",
   "execution_count": 11,
   "metadata": {},
   "outputs": [
    {
     "data": {
      "application/vnd.plotly.v1+json": {
       "config": {
        "plotlyServerURL": "https://plot.ly"
       },
       "data": [
        {
         "marker": {
          "color": [
           "#d62728",
           "#ff7f0e",
           "#ffff00",
           "#2ca02c"
          ]
         },
         "type": "bar",
         "x": [
          "High Risk",
          "Medium Risk",
          "Low Risk",
          "On Track"
         ],
         "xaxis": "x",
         "y": [
          3212968132,
          0,
          0,
          0
         ],
         "yaxis": "y"
        },
        {
         "marker": {
          "color": "lightblue"
         },
         "nbinsx": 20,
         "type": "histogram",
         "x": {
          "bdata": "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",
          "dtype": "f8"
         },
         "xaxis": "x2",
         "yaxis": "y2"
        },
        {
         "marker": {
          "color": "purple"
         },
         "type": "bar",
         "x": [
          "AI Suite",
          "Analytics Platform",
          "Enterprise Cloud",
          "Integration Hub",
          "Security Solution"
         ],
         "xaxis": "x3",
         "y": {
          "bdata": "ArkmArkmTECGMNuFMNtHQFJeQ3kNpUpAQUyuICZXRkCpJ+O3Sz1HQA==",
          "dtype": "f8"
         },
         "yaxis": "y3"
        },
        {
         "marker": {
          "color": {
           "bdata": "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",
           "dtype": "f8"
          },
          "colorscale": [
           [
            0,
            "#440154"
           ],
           [
            0.1111111111111111,
            "#482878"
           ],
           [
            0.2222222222222222,
            "#3e4989"
           ],
           [
            0.3333333333333333,
            "#31688e"
           ],
           [
            0.4444444444444444,
            "#26828e"
           ],
           [
            0.5555555555555556,
            "#1f9e89"
           ],
           [
            0.6666666666666666,
            "#35b779"
           ],
           [
            0.7777777777777778,
            "#6ece58"
           ],
           [
            0.8888888888888888,
            "#b5de2b"
           ],
           [
            1,
            "#fde725"
           ]
          ],
          "showscale": true,
          "size": {
           "bdata": "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",
           "dtype": "f8"
          }
         },
         "mode": "markers",
         "type": "scatter",
         "x": {
          "bdata": "Aw0wNwgfCDkwLSMrDhIBMAcuFTYnNxcYLBsgFDAaOCIeBSo0IiwTDBMsODcKBBUxNgQCEBEJAx8IICcdLyEYIi0GAgkyGxUEDRo5JBIkJxEKCjsVOjwtByMMMAEvHjAsLwMTHgoQOS0QGzwtGQc4JAQBLTcrPBYMBxslIDMeNCUNESMHMAo2FyIpHDQrFxskOCoTODglLQohOBwJHAYPFSUvEC07FBcWNCUFGCMDEh01FyQEJjocKgIHAiAEGDMVLR0HFSQLETY1BgYDCjQ2IjERKDs3ODIeKSYZKg8OJBITMTMEIhslFDsbLRsyJDs6NRoJCDISNCA1GCguOCUZCiAfAzshJBUtIwwHLRUeCTAYOSIzKisOJjM4OTQbBx8nAws7HgU1MQUMKCEtGBIMMDkVHTAkBjQBMTMxEgIGGAUyMwYJEy8IByovFhsnAhElNSkKBjINBicwFCMELAYjMCc8MhoyHhEiJQEmEgoMBgUGKCk0FDQZNjsWLwIjAQoENSATMxo1GRofOAw6LQUwMy8sKhsDGSAyBSshKjogGigcMQMBEBsqAwUVBQwzJiA3KRggOiAXNisTHTwhLwgVIwQBLzYFJAMnIQQjMx8uCQQzARsxEx0wCCkMHSsxMQQIJRYgNDQ0HjA1HDMaMjgcNTwzLhszGjsBOy0kAQkiHxcGOiYpCQYLBgokKzktDjATNy8lLzszDjUIEjM7ChAuHRw5LyIfLy4YIgI1HzE0KyQCHAoRIRszKjYSKjo2MCA8NwEfEDE5BQ8WJxQEFiAQAQ0MNCMNNwsqDgY0EQ03GhUpDQceCDgFKDkdKQE2BTotPAEbFR4WHTANMA02GS8kOxsQCyAwOBYsFysLMikqPBQrCgo1NRoJLxctKg0XDhsIMhkVChw3BB8XOwE6FxsdMBsIBAYtBhwYARwrFyIlDxUjHR4UCRQICio8LDslFyMkHi0rMSc7GTUEJw4BCSgpByURKwUEBQ04GCoxJwckGzkBDwoIBQU0CCEPLjwcJSYcMiIDJhMxGgstCA8rKzU7DQIcHSIEDgwcJzU6GDo2CB4XJhwcFB4CGB4nLA8IDjU1JjUBDiYrLzQWFwYWOBY1FyctFhsTIzIHIBIPAxkQGDcXDzghNicHFi88CggCLxMvJQMTJAEiIBUsCSgVLRMvOTgkGgMFHx8uGAsiMDswCyIBBykoBjo2Dhg7LhUnKQYrGwsfHDMNBh8xNTkoAwoMNDAIORIpDBcKIQ4HLx4rGCQVEyoLJDweNCwuCjotAiknFCIfCjYwECYvIBABByEVFCowCxIYNRA3GDszBioCLDIUOR0hMBE3Dzc7AwceOTALKQgyMyQ8NQ0vKSkHJTcVMDQNBis2KRgFFDYaHQw8Jh4QFxMHNiMeAQo5NSMkCCg7ATEsNAkZOCM5JRs7FBMjGQYCIhEkJDgMLyUaCjgMDQ0HICwvGDM7HhgnER48GAwiGzEhOzYqMDkOJC8wOS0yECMyODAiCjEdFgM4EAMsMjc6LSErJjA0GR8CMjYxIiEUNDwZPCcIIxALEBAbMScSFw8uCgsTJyQ3JSkiCRkOHgoFARgDCgMNOxY6AiYWMx8DKCYLNxMeByY8BTM4ORIWJjYREBsHOi0yMjs1HSQSODkUGgsNEggJGxUREwwZOTQyLysDDwEfByQJAzYMGzk8OCQ0BjEzIx4VJB4ILzEeIyEMNgYyJjUoKSI1FiM8",
          "dtype": "i1"
         },
         "xaxis": "x4",
         "y": {
          "bdata": "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",
          "dtype": "f8"
         },
         "yaxis": "y4"
        },
        {
         "marker": {
          "color": "green"
         },
         "type": "bar",
         "x": [
          "2025-10-22"
         ],
         "xaxis": "x5",
         "y": {
          "bdata": "YyiEmvjqokE=",
          "dtype": "f8"
         },
         "yaxis": "y5"
        },
        {
         "marker": {
          "color": [
           false,
           true,
           true,
           false,
           false,
           true,
           false,
           true,
           false,
           true,
           false,
           false,
           true,
           true,
           true,
           true,
           false,
           false,
           false,
           false,
           true,
           true,
           true,
           true,
           false,
           true,
           false,
           false,
           true,
           false,
           true,
           true,
           true,
           true,
           true,
           true,
           false,
           false,
           false,
           true,
           true,
           true,
           true,
           true,
           false,
           true,
           false,
           false,
           false,
           true,
           true,
           false,
           true,
           true,
           false,
           true,
           false,
           true,
           true,
           false,
           true,
           false,
           true,
           true,
           false,
           true,
           false,
           false,
           true,
           false,
           true,
           false,
           true,
           false,
           false,
           false,
           false,
           false,
           false,
           false,
           false,
           true,
           true,
           true,
           true,
           false,
           true,
           true,
           true,
           false,
           false,
           true,
           true,
           false,
           true,
           false,
           true,
           false,
           true,
           true,
           false,
           true,
           true,
           true,
           false,
           false,
           false,
           false,
           false,
           true,
           false,
           true,
           true,
           true,
           false,
           false,
           false,
           false,
           false,
           true,
           true,
           true,
           false,
           true,
           false,
           true,
           true,
           true,
           true,
           true,
           true,
           false,
           false,
           true,
           true,
           false,
           true,
           true,
           true,
           false,
           false,
           true,
           false,
           true,
           true,
           false,
           true,
           true,
           false,
           true,
           false,
           false,
           false,
           false,
           false,
           true,
           true,
           true,
           false,
           false,
           false,
           true,
           false,
           false,
           true,
           true,
           true,
           false,
           false,
           true,
           true,
           false,
           false,
           false,
           false,
           false,
           true,
           false,
           false,
           false,
           false,
           false,
           false,
           true,
           false,
           false,
           true,
           false,
           true,
           true,
           false,
           true,
           true,
           false,
           true,
           false,
           false,
           true,
           true,
           true,
           true,
           false,
           true,
           false,
           false,
           false,
           true,
           true,
           false,
           false,
           false,
           false,
           false,
           false,
           true,
           true,
           false,
           false,
           false,
           false,
           true,
           false,
           false,
           true,
           true,
           false,
           false,
           false,
           true,
           false,
           false,
           false,
           true,
           false,
           true,
           true,
           false,
           true,
           false,
           false,
           false,
           true,
           false,
           false,
           false,
           false,
           false,
           true,
           false,
           false,
           true,
           false,
           true,
           false,
           false,
           false,
           false,
           true,
           true,
           true,
           true,
           true,
           false,
           false,
           true,
           false,
           true,
           false,
           false,
           true,
           false,
           true,
           false,
           true,
           true,
           false,
           true,
           false,
           false,
           false,
           false,
           true,
           false,
           false,
           false,
           false,
           false,
           false,
           false,
           false,
           false,
           false,
           false,
           false,
           false,
           true,
           false,
           true,
           false,
           false,
           false,
           false,
           true,
           false,
           false,
           true,
           false,
           false,
           false,
           true,
           false,
           false,
           true,
           false,
           false,
           true,
           false,
           true,
           false,
           true,
           false,
           true,
           true,
           false,
           true,
           true,
           false,
           false,
           false,
           true,
           false,
           true,
           true,
           true,
           true,
           false,
           true,
           false,
           true,
           true,
           true,
           true,
           true,
           false,
           true,
           false,
           false,
           true,
           true,
           false,
           false,
           true,
           true,
           true,
           false,
           false,
           false,
           false,
           true,
           true,
           true,
           true,
           false,
           true,
           true,
           false,
           false,
           false,
           false,
           true,
           false,
           false,
           false,
           true,
           true,
           false,
           false,
           false,
           true,
           false,
           true,
           false,
           true,
           true,
           true,
           true,
           true,
           true,
           true,
           false,
           false,
           false,
           true,
           false,
           false,
           false,
           false,
           true,
           true,
           false,
           true,
           false,
           false,
           false,
           true,
           true,
           false,
           true,
           false,
           true,
           false,
           false,
           false,
           false,
           false,
           true,
           true,
           true,
           true,
           false,
           true,
           false,
           true,
           true,
           false,
           true,
           false,
           false,
           false,
           false,
           true,
           true,
           true,
           false,
           false,
           true,
           true,
           true,
           false,
           true,
           true,
           false,
           false,
           true,
           true,
           false,
           true,
           true,
           false,
           false,
           true,
           false,
           true,
           false,
           false,
           false,
           false,
           true,
           false,
           true,
           false,
           false,
           false,
           false,
           true,
           false,
           true,
           false,
           true,
           true,
           true,
           false,
           true,
           true,
           true,
           false,
           true,
           false,
           false,
           false,
           false,
           true,
           true,
           true,
           true,
           true,
           true,
           false,
           true,
           false,
           true,
           false,
           true,
           true,
           false,
           false,
           true,
           false,
           true,
           true,
           false,
           true,
           true,
           true,
           false,
           true,
           false,
           false,
           true,
           true,
           false,
           false,
           true,
           false,
           false,
           true,
           false,
           true,
           true,
           true,
           true,
           true,
           true,
           false,
           true,
           false,
           false,
           true,
           true,
           false,
           true,
           true,
           true,
           false,
           false,
           true,
           false,
           false,
           true,
           false,
           true,
           false,
           false,
           false,
           true,
           true,
           true,
           true,
           true,
           false,
           true,
           true,
           true,
           true,
           true,
           true,
           true,
           true,
           true,
           true,
           true,
           false,
           false,
           true,
           true,
           true,
           true,
           true,
           true,
           false,
           true,
           false,
           false,
           false,
           true,
           false,
           false,
           false,
           true,
           true,
           false,
           false,
           true,
           true,
           false,
           true,
           true,
           false,
           false,
           false,
           true,
           false,
           false,
           true,
           false,
           false,
           true,
           false,
           false,
           true,
           false,
           true,
           true,
           false,
           true,
           false,
           false,
           true,
           false,
           false,
           false,
           false,
           true,
           false,
           true,
           true,
           false,
           true,
           false,
           true,
           true,
           false,
           false,
           false,
           true,
           true,
           true,
           false,
           false,
           false,
           true,
           true,
           true,
           false,
           false,
           false,
           true,
           true,
           true,
           true,
           false,
           true,
           false,
           true,
           true,
           true,
           false,
           false,
           true,
           true,
           true,
           true,
           true,
           true,
           true,
           true,
           true,
           true,
           false,
           false,
           false,
           false,
           true,
           true,
           true,
           true,
           false,
           false,
           false,
           true,
           false,
           false,
           true,
           true,
           true,
           true,
           false,
           true,
           false,
           false,
           false,
           true,
           false,
           false,
           true,
           true,
           false,
           true,
           true,
           true,
           true,
           true,
           false,
           false,
           true,
           false,
           true,
           true,
           false,
           false,
           false,
           false,
           true,
           false,
           false,
           true,
           true
          ],
          "colorscale": [
           [
            0,
            "rgb(165,0,38)"
           ],
           [
            0.1,
            "rgb(215,48,39)"
           ],
           [
            0.2,
            "rgb(244,109,67)"
           ],
           [
            0.3,
            "rgb(253,174,97)"
           ],
           [
            0.4,
            "rgb(254,224,139)"
           ],
           [
            0.5,
            "rgb(255,255,191)"
           ],
           [
            0.6,
            "rgb(217,239,139)"
           ],
           [
            0.7,
            "rgb(166,217,106)"
           ],
           [
            0.8,
            "rgb(102,189,99)"
           ],
           [
            0.9,
            "rgb(26,152,80)"
           ],
           [
            1,
            "rgb(0,104,55)"
           ]
          ],
          "size": 8
         },
         "mode": "markers",
         "type": "scatter",
         "x": {
          "bdata": "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",
          "dtype": "f8"
         },
         "xaxis": "x6",
         "y": [
          false,
          true,
          true,
          false,
          false,
          true,
          false,
          true,
          false,
          true,
          false,
          false,
          true,
          true,
          true,
          true,
          false,
          false,
          false,
          false,
          true,
          true,
          true,
          true,
          false,
          true,
          false,
          false,
          true,
          false,
          true,
          true,
          true,
          true,
          true,
          true,
          false,
          false,
          false,
          true,
          true,
          true,
          true,
          true,
          false,
          true,
          false,
          false,
          false,
          true,
          true,
          false,
          true,
          true,
          false,
          true,
          false,
          true,
          true,
          false,
          true,
          false,
          true,
          true,
          false,
          true,
          false,
          false,
          true,
          false,
          true,
          false,
          true,
          false,
          false,
          false,
          false,
          false,
          false,
          false,
          false,
          true,
          true,
          true,
          true,
          false,
          true,
          true,
          true,
          false,
          false,
          true,
          true,
          false,
          true,
          false,
          true,
          false,
          true,
          true,
          false,
          true,
          true,
          true,
          false,
          false,
          false,
          false,
          false,
          true,
          false,
          true,
          true,
          true,
          false,
          false,
          false,
          false,
          false,
          true,
          true,
          true,
          false,
          true,
          false,
          true,
          true,
          true,
          true,
          true,
          true,
          false,
          false,
          true,
          true,
          false,
          true,
          true,
          true,
          false,
          false,
          true,
          false,
          true,
          true,
          false,
          true,
          true,
          false,
          true,
          false,
          false,
          false,
          false,
          false,
          true,
          true,
          true,
          false,
          false,
          false,
          true,
          false,
          false,
          true,
          true,
          true,
          false,
          false,
          true,
          true,
          false,
          false,
          false,
          false,
          false,
          true,
          false,
          false,
          false,
          false,
          false,
          false,
          true,
          false,
          false,
          true,
          false,
          true,
          true,
          false,
          true,
          true,
          false,
          true,
          false,
          false,
          true,
          true,
          true,
          true,
          false,
          true,
          false,
          false,
          false,
          true,
          true,
          false,
          false,
          false,
          false,
          false,
          false,
          true,
          true,
          false,
          false,
          false,
          false,
          true,
          false,
          false,
          true,
          true,
          false,
          false,
          false,
          true,
          false,
          false,
          false,
          true,
          false,
          true,
          true,
          false,
          true,
          false,
          false,
          false,
          true,
          false,
          false,
          false,
          false,
          false,
          true,
          false,
          false,
          true,
          false,
          true,
          false,
          false,
          false,
          false,
          true,
          true,
          true,
          true,
          true,
          false,
          false,
          true,
          false,
          true,
          false,
          false,
          true,
          false,
          true,
          false,
          true,
          true,
          false,
          true,
          false,
          false,
          false,
          false,
          true,
          false,
          false,
          false,
          false,
          false,
          false,
          false,
          false,
          false,
          false,
          false,
          false,
          false,
          true,
          false,
          true,
          false,
          false,
          false,
          false,
          true,
          false,
          false,
          true,
          false,
          false,
          false,
          true,
          false,
          false,
          true,
          false,
          false,
          true,
          false,
          true,
          false,
          true,
          false,
          true,
          true,
          false,
          true,
          true,
          false,
          false,
          false,
          true,
          false,
          true,
          true,
          true,
          true,
          false,
          true,
          false,
          true,
          true,
          true,
          true,
          true,
          false,
          true,
          false,
          false,
          true,
          true,
          false,
          false,
          true,
          true,
          true,
          false,
          false,
          false,
          false,
          true,
          true,
          true,
          true,
          false,
          true,
          true,
          false,
          false,
          false,
          false,
          true,
          false,
          false,
          false,
          true,
          true,
          false,
          false,
          false,
          true,
          false,
          true,
          false,
          true,
          true,
          true,
          true,
          true,
          true,
          true,
          false,
          false,
          false,
          true,
          false,
          false,
          false,
          false,
          true,
          true,
          false,
          true,
          false,
          false,
          false,
          true,
          true,
          false,
          true,
          false,
          true,
          false,
          false,
          false,
          false,
          false,
          true,
          true,
          true,
          true,
          false,
          true,
          false,
          true,
          true,
          false,
          true,
          false,
          false,
          false,
          false,
          true,
          true,
          true,
          false,
          false,
          true,
          true,
          true,
          false,
          true,
          true,
          false,
          false,
          true,
          true,
          false,
          true,
          true,
          false,
          false,
          true,
          false,
          true,
          false,
          false,
          false,
          false,
          true,
          false,
          true,
          false,
          false,
          false,
          false,
          true,
          false,
          true,
          false,
          true,
          true,
          true,
          false,
          true,
          true,
          true,
          false,
          true,
          false,
          false,
          false,
          false,
          true,
          true,
          true,
          true,
          true,
          true,
          false,
          true,
          false,
          true,
          false,
          true,
          true,
          false,
          false,
          true,
          false,
          true,
          true,
          false,
          true,
          true,
          true,
          false,
          true,
          false,
          false,
          true,
          true,
          false,
          false,
          true,
          false,
          false,
          true,
          false,
          true,
          true,
          true,
          true,
          true,
          true,
          false,
          true,
          false,
          false,
          true,
          true,
          false,
          true,
          true,
          true,
          false,
          false,
          true,
          false,
          false,
          true,
          false,
          true,
          false,
          false,
          false,
          true,
          true,
          true,
          true,
          true,
          false,
          true,
          true,
          true,
          true,
          true,
          true,
          true,
          true,
          true,
          true,
          true,
          false,
          false,
          true,
          true,
          true,
          true,
          true,
          true,
          false,
          true,
          false,
          false,
          false,
          true,
          false,
          false,
          false,
          true,
          true,
          false,
          false,
          true,
          true,
          false,
          true,
          true,
          false,
          false,
          false,
          true,
          false,
          false,
          true,
          false,
          false,
          true,
          false,
          false,
          true,
          false,
          true,
          true,
          false,
          true,
          false,
          false,
          true,
          false,
          false,
          false,
          false,
          true,
          false,
          true,
          true,
          false,
          true,
          false,
          true,
          true,
          false,
          false,
          false,
          true,
          true,
          true,
          false,
          false,
          false,
          true,
          true,
          true,
          false,
          false,
          false,
          true,
          true,
          true,
          true,
          false,
          true,
          false,
          true,
          true,
          true,
          false,
          false,
          true,
          true,
          true,
          true,
          true,
          true,
          true,
          true,
          true,
          true,
          false,
          false,
          false,
          false,
          true,
          true,
          true,
          true,
          false,
          false,
          false,
          true,
          false,
          false,
          true,
          true,
          true,
          true,
          false,
          true,
          false,
          false,
          false,
          true,
          false,
          false,
          true,
          true,
          false,
          true,
          true,
          true,
          true,
          true,
          false,
          false,
          true,
          false,
          true,
          true,
          false,
          false,
          false,
          false,
          true,
          false,
          false,
          true,
          true
         ],
         "yaxis": "y6"
        }
       ],
       "layout": {
        "annotations": [
         {
          "font": {
           "size": 16
          },
          "showarrow": false,
          "text": "Pipeline by Risk Level",
          "x": 0.14444444444444446,
          "xanchor": "center",
          "xref": "paper",
          "y": 1,
          "yanchor": "bottom",
          "yref": "paper"
         },
         {
          "font": {
           "size": 16
          },
          "showarrow": false,
          "text": "AI Score Distribution",
          "x": 0.5,
          "xanchor": "center",
          "xref": "paper",
          "y": 1,
          "yanchor": "bottom",
          "yref": "paper"
         },
         {
          "font": {
           "size": 16
          },
          "showarrow": false,
          "text": "Win Rate by Product",
          "x": 0.8555555555555556,
          "xanchor": "center",
          "xref": "paper",
          "y": 1,
          "yanchor": "bottom",
          "yref": "paper"
         },
         {
          "font": {
           "size": 16
          },
          "showarrow": false,
          "text": "Deal Velocity Analysis",
          "x": 0.14444444444444446,
          "xanchor": "center",
          "xref": "paper",
          "y": 0.375,
          "yanchor": "bottom",
          "yref": "paper"
         },
         {
          "font": {
           "size": 16
          },
          "showarrow": false,
          "text": "Revenue Forecast",
          "x": 0.5,
          "xanchor": "center",
          "xref": "paper",
          "y": 0.375,
          "yanchor": "bottom",
          "yref": "paper"
         },
         {
          "font": {
           "size": 16
          },
          "showarrow": false,
          "text": "Engagement vs Outcome",
          "x": 0.8555555555555556,
          "xanchor": "center",
          "xref": "paper",
          "y": 0.375,
          "yanchor": "bottom",
          "yref": "paper"
         }
        ],
        "height": 800,
        "showlegend": false,
        "template": {
         "data": {
          "bar": [
           {
            "error_x": {
             "color": "#2a3f5f"
            },
            "error_y": {
             "color": "#2a3f5f"
            },
            "marker": {
             "line": {
              "color": "#E5ECF6",
              "width": 0.5
             },
             "pattern": {
              "fillmode": "overlay",
              "size": 10,
              "solidity": 0.2
             }
            },
            "type": "bar"
           }
          ],
          "barpolar": [
           {
            "marker": {
             "line": {
              "color": "#E5ECF6",
              "width": 0.5
             },
             "pattern": {
              "fillmode": "overlay",
              "size": 10,
              "solidity": 0.2
             }
            },
            "type": "barpolar"
           }
          ],
          "carpet": [
           {
            "aaxis": {
             "endlinecolor": "#2a3f5f",
             "gridcolor": "white",
             "linecolor": "white",
             "minorgridcolor": "white",
             "startlinecolor": "#2a3f5f"
            },
            "baxis": {
             "endlinecolor": "#2a3f5f",
             "gridcolor": "white",
             "linecolor": "white",
             "minorgridcolor": "white",
             "startlinecolor": "#2a3f5f"
            },
            "type": "carpet"
           }
          ],
          "choropleth": [
           {
            "colorbar": {
             "outlinewidth": 0,
             "ticks": ""
            },
            "type": "choropleth"
           }
          ],
          "contour": [
           {
            "colorbar": {
             "outlinewidth": 0,
             "ticks": ""
            },
            "colorscale": [
             [
              0,
              "#0d0887"
             ],
             [
              0.1111111111111111,
              "#46039f"
             ],
             [
              0.2222222222222222,
              "#7201a8"
             ],
             [
              0.3333333333333333,
              "#9c179e"
             ],
             [
              0.4444444444444444,
              "#bd3786"
             ],
             [
              0.5555555555555556,
              "#d8576b"
             ],
             [
              0.6666666666666666,
              "#ed7953"
             ],
             [
              0.7777777777777778,
              "#fb9f3a"
             ],
             [
              0.8888888888888888,
              "#fdca26"
             ],
             [
              1,
              "#f0f921"
             ]
            ],
            "type": "contour"
           }
          ],
          "contourcarpet": [
           {
            "colorbar": {
             "outlinewidth": 0,
             "ticks": ""
            },
            "type": "contourcarpet"
           }
          ],
          "heatmap": [
           {
            "colorbar": {
             "outlinewidth": 0,
             "ticks": ""
            },
            "colorscale": [
             [
              0,
              "#0d0887"
             ],
             [
              0.1111111111111111,
              "#46039f"
             ],
             [
              0.2222222222222222,
              "#7201a8"
             ],
             [
              0.3333333333333333,
              "#9c179e"
             ],
             [
              0.4444444444444444,
              "#bd3786"
             ],
             [
              0.5555555555555556,
              "#d8576b"
             ],
             [
              0.6666666666666666,
              "#ed7953"
             ],
             [
              0.7777777777777778,
              "#fb9f3a"
             ],
             [
              0.8888888888888888,
              "#fdca26"
             ],
             [
              1,
              "#f0f921"
             ]
            ],
            "type": "heatmap"
           }
          ],
          "histogram": [
           {
            "marker": {
             "pattern": {
              "fillmode": "overlay",
              "size": 10,
              "solidity": 0.2
             }
            },
            "type": "histogram"
           }
          ],
          "histogram2d": [
           {
            "colorbar": {
             "outlinewidth": 0,
             "ticks": ""
            },
            "colorscale": [
             [
              0,
              "#0d0887"
             ],
             [
              0.1111111111111111,
              "#46039f"
             ],
             [
              0.2222222222222222,
              "#7201a8"
             ],
             [
              0.3333333333333333,
              "#9c179e"
             ],
             [
              0.4444444444444444,
              "#bd3786"
             ],
             [
              0.5555555555555556,
              "#d8576b"
             ],
             [
              0.6666666666666666,
              "#ed7953"
             ],
             [
              0.7777777777777778,
              "#fb9f3a"
             ],
             [
              0.8888888888888888,
              "#fdca26"
             ],
             [
              1,
              "#f0f921"
             ]
            ],
            "type": "histogram2d"
           }
          ],
          "histogram2dcontour": [
           {
            "colorbar": {
             "outlinewidth": 0,
             "ticks": ""
            },
            "colorscale": [
             [
              0,
              "#0d0887"
             ],
             [
              0.1111111111111111,
              "#46039f"
             ],
             [
              0.2222222222222222,
              "#7201a8"
             ],
             [
              0.3333333333333333,
              "#9c179e"
             ],
             [
              0.4444444444444444,
              "#bd3786"
             ],
             [
              0.5555555555555556,
              "#d8576b"
             ],
             [
              0.6666666666666666,
              "#ed7953"
             ],
             [
              0.7777777777777778,
              "#fb9f3a"
             ],
             [
              0.8888888888888888,
              "#fdca26"
             ],
             [
              1,
              "#f0f921"
             ]
            ],
            "type": "histogram2dcontour"
           }
          ],
          "mesh3d": [
           {
            "colorbar": {
             "outlinewidth": 0,
             "ticks": ""
            },
            "type": "mesh3d"
           }
          ],
          "parcoords": [
           {
            "line": {
             "colorbar": {
              "outlinewidth": 0,
              "ticks": ""
             }
            },
            "type": "parcoords"
           }
          ],
          "pie": [
           {
            "automargin": true,
            "type": "pie"
           }
          ],
          "scatter": [
           {
            "fillpattern": {
             "fillmode": "overlay",
             "size": 10,
             "solidity": 0.2
            },
            "type": "scatter"
           }
          ],
          "scatter3d": [
           {
            "line": {
             "colorbar": {
              "outlinewidth": 0,
              "ticks": ""
             }
            },
            "marker": {
             "colorbar": {
              "outlinewidth": 0,
              "ticks": ""
             }
            },
            "type": "scatter3d"
           }
          ],
          "scattercarpet": [
           {
            "marker": {
             "colorbar": {
              "outlinewidth": 0,
              "ticks": ""
             }
            },
            "type": "scattercarpet"
           }
          ],
          "scattergeo": [
           {
            "marker": {
             "colorbar": {
              "outlinewidth": 0,
              "ticks": ""
             }
            },
            "type": "scattergeo"
           }
          ],
          "scattergl": [
           {
            "marker": {
             "colorbar": {
              "outlinewidth": 0,
              "ticks": ""
             }
            },
            "type": "scattergl"
           }
          ],
          "scattermap": [
           {
            "marker": {
             "colorbar": {
              "outlinewidth": 0,
              "ticks": ""
             }
            },
            "type": "scattermap"
           }
          ],
          "scattermapbox": [
           {
            "marker": {
             "colorbar": {
              "outlinewidth": 0,
              "ticks": ""
             }
            },
            "type": "scattermapbox"
           }
          ],
          "scatterpolar": [
           {
            "marker": {
             "colorbar": {
              "outlinewidth": 0,
              "ticks": ""
             }
            },
            "type": "scatterpolar"
           }
          ],
          "scatterpolargl": [
           {
            "marker": {
             "colorbar": {
              "outlinewidth": 0,
              "ticks": ""
             }
            },
            "type": "scatterpolargl"
           }
          ],
          "scatterternary": [
           {
            "marker": {
             "colorbar": {
              "outlinewidth": 0,
              "ticks": ""
             }
            },
            "type": "scatterternary"
           }
          ],
          "surface": [
           {
            "colorbar": {
             "outlinewidth": 0,
             "ticks": ""
            },
            "colorscale": [
             [
              0,
              "#0d0887"
             ],
             [
              0.1111111111111111,
              "#46039f"
             ],
             [
              0.2222222222222222,
              "#7201a8"
             ],
             [
              0.3333333333333333,
              "#9c179e"
             ],
             [
              0.4444444444444444,
              "#bd3786"
             ],
             [
              0.5555555555555556,
              "#d8576b"
             ],
             [
              0.6666666666666666,
              "#ed7953"
             ],
             [
              0.7777777777777778,
              "#fb9f3a"
             ],
             [
              0.8888888888888888,
              "#fdca26"
             ],
             [
              1,
              "#f0f921"
             ]
            ],
            "type": "surface"
           }
          ],
          "table": [
           {
            "cells": {
             "fill": {
              "color": "#EBF0F8"
             },
             "line": {
              "color": "white"
             }
            },
            "header": {
             "fill": {
              "color": "#C8D4E3"
             },
             "line": {
              "color": "white"
             }
            },
            "type": "table"
           }
          ]
         },
         "layout": {
          "annotationdefaults": {
           "arrowcolor": "#2a3f5f",
           "arrowhead": 0,
           "arrowwidth": 1
          },
          "autotypenumbers": "strict",
          "coloraxis": {
           "colorbar": {
            "outlinewidth": 0,
            "ticks": ""
           }
          },
          "colorscale": {
           "diverging": [
            [
             0,
             "#8e0152"
            ],
            [
             0.1,
             "#c51b7d"
            ],
            [
             0.2,
             "#de77ae"
            ],
            [
             0.3,
             "#f1b6da"
            ],
            [
             0.4,
             "#fde0ef"
            ],
            [
             0.5,
             "#f7f7f7"
            ],
            [
             0.6,
             "#e6f5d0"
            ],
            [
             0.7,
             "#b8e186"
            ],
            [
             0.8,
             "#7fbc41"
            ],
            [
             0.9,
             "#4d9221"
            ],
            [
             1,
             "#276419"
            ]
           ],
           "sequential": [
            [
             0,
             "#0d0887"
            ],
            [
             0.1111111111111111,
             "#46039f"
            ],
            [
             0.2222222222222222,
             "#7201a8"
            ],
            [
             0.3333333333333333,
             "#9c179e"
            ],
            [
             0.4444444444444444,
             "#bd3786"
            ],
            [
             0.5555555555555556,
             "#d8576b"
            ],
            [
             0.6666666666666666,
             "#ed7953"
            ],
            [
             0.7777777777777778,
             "#fb9f3a"
            ],
            [
             0.8888888888888888,
             "#fdca26"
            ],
            [
             1,
             "#f0f921"
            ]
           ],
           "sequentialminus": [
            [
             0,
             "#0d0887"
            ],
            [
             0.1111111111111111,
             "#46039f"
            ],
            [
             0.2222222222222222,
             "#7201a8"
            ],
            [
             0.3333333333333333,
             "#9c179e"
            ],
            [
             0.4444444444444444,
             "#bd3786"
            ],
            [
             0.5555555555555556,
             "#d8576b"
            ],
            [
             0.6666666666666666,
             "#ed7953"
            ],
            [
             0.7777777777777778,
             "#fb9f3a"
            ],
            [
             0.8888888888888888,
             "#fdca26"
            ],
            [
             1,
             "#f0f921"
            ]
           ]
          },
          "colorway": [
           "#636efa",
           "#EF553B",
           "#00cc96",
           "#ab63fa",
           "#FFA15A",
           "#19d3f3",
           "#FF6692",
           "#B6E880",
           "#FF97FF",
           "#FECB52"
          ],
          "font": {
           "color": "#2a3f5f"
          },
          "geo": {
           "bgcolor": "white",
           "lakecolor": "white",
           "landcolor": "#E5ECF6",
           "showlakes": true,
           "showland": true,
           "subunitcolor": "white"
          },
          "hoverlabel": {
           "align": "left"
          },
          "hovermode": "closest",
          "mapbox": {
           "style": "light"
          },
          "paper_bgcolor": "white",
          "plot_bgcolor": "#E5ECF6",
          "polar": {
           "angularaxis": {
            "gridcolor": "white",
            "linecolor": "white",
            "ticks": ""
           },
           "bgcolor": "#E5ECF6",
           "radialaxis": {
            "gridcolor": "white",
            "linecolor": "white",
            "ticks": ""
           }
          },
          "scene": {
           "xaxis": {
            "backgroundcolor": "#E5ECF6",
            "gridcolor": "white",
            "gridwidth": 2,
            "linecolor": "white",
            "showbackground": true,
            "ticks": "",
            "zerolinecolor": "white"
           },
           "yaxis": {
            "backgroundcolor": "#E5ECF6",
            "gridcolor": "white",
            "gridwidth": 2,
            "linecolor": "white",
            "showbackground": true,
            "ticks": "",
            "zerolinecolor": "white"
           },
           "zaxis": {
            "backgroundcolor": "#E5ECF6",
            "gridcolor": "white",
            "gridwidth": 2,
            "linecolor": "white",
            "showbackground": true,
            "ticks": "",
            "zerolinecolor": "white"
           }
          },
          "shapedefaults": {
           "line": {
            "color": "#2a3f5f"
           }
          },
          "ternary": {
           "aaxis": {
            "gridcolor": "white",
            "linecolor": "white",
            "ticks": ""
           },
           "baxis": {
            "gridcolor": "white",
            "linecolor": "white",
            "ticks": ""
           },
           "bgcolor": "#E5ECF6",
           "caxis": {
            "gridcolor": "white",
            "linecolor": "white",
            "ticks": ""
           }
          },
          "title": {
           "x": 0.05
          },
          "xaxis": {
           "automargin": true,
           "gridcolor": "white",
           "linecolor": "white",
           "ticks": "",
           "title": {
            "standoff": 15
           },
           "zerolinecolor": "white",
           "zerolinewidth": 2
          },
          "yaxis": {
           "automargin": true,
           "gridcolor": "white",
           "linecolor": "white",
           "ticks": "",
           "title": {
            "standoff": 15
           },
           "zerolinecolor": "white",
           "zerolinewidth": 2
          }
         }
        },
        "title": {
         "font": {
          "size": 20
         },
         "text": "AI-Powered Revenue Intelligence Dashboard"
        },
        "xaxis": {
         "anchor": "y",
         "domain": [
          0,
          0.2888888888888889
         ],
         "title": {
          "text": "Risk Level"
         }
        },
        "xaxis2": {
         "anchor": "y2",
         "domain": [
          0.35555555555555557,
          0.6444444444444445
         ],
         "title": {
          "text": "AI Score"
         }
        },
        "xaxis3": {
         "anchor": "y3",
         "domain": [
          0.7111111111111111,
          1
         ],
         "title": {
          "text": "Product"
         }
        },
        "xaxis4": {
         "anchor": "y4",
         "domain": [
          0,
          0.2888888888888889
         ],
         "title": {
          "text": "Days in Stage"
         }
        },
        "xaxis5": {
         "anchor": "y5",
         "domain": [
          0.35555555555555557,
          0.6444444444444445
         ],
         "title": {
          "text": "Close Date"
         }
        },
        "xaxis6": {
         "anchor": "y6",
         "domain": [
          0.7111111111111111,
          1
         ],
         "title": {
          "text": "Total Activities"
         }
        },
        "yaxis": {
         "anchor": "x",
         "domain": [
          0.625,
          1
         ],
         "title": {
          "text": "Pipeline ($)"
         }
        },
        "yaxis2": {
         "anchor": "x2",
         "domain": [
          0.625,
          1
         ],
         "title": {
          "text": "Count"
         }
        },
        "yaxis3": {
         "anchor": "x3",
         "domain": [
          0.625,
          1
         ],
         "title": {
          "text": "Win Rate (%)"
         }
        },
        "yaxis4": {
         "anchor": "x4",
         "domain": [
          0,
          0.375
         ],
         "title": {
          "text": "AI Score"
         }
        },
        "yaxis5": {
         "anchor": "x5",
         "domain": [
          0,
          0.375
         ],
         "title": {
          "text": "Expected Revenue ($)"
         }
        },
        "yaxis6": {
         "anchor": "x6",
         "domain": [
          0,
          0.375
         ],
         "title": {
          "text": "Won (1) / Lost (0)"
         }
        }
       }
      }
     },
     "metadata": {},
     "output_type": "display_data"
    }
   ],
   "source": [
    "# Create comprehensive dashboard with Plotly\n",
    "fig = make_subplots(\n",
    "    rows=2, cols=3,\n",
    "    subplot_titles=('Pipeline by Risk Level', 'AI Score Distribution', 'Win Rate by Product',\n",
    "                   'Deal Velocity Analysis', 'Revenue Forecast', 'Engagement vs Outcome'),\n",
    "    specs=[[{'type': 'bar'}, {'type': 'histogram'}, {'type': 'bar'}],\n",
    "           [{'type': 'scatter'}, {'type': 'bar'}, {'type': 'scatter'}]],\n",
    "    row_heights=[0.5, 0.5]\n",
    ")\n",
    "\n",
    "# 1. Pipeline by Risk Level\n",
    "risk_pipeline = open_opps.groupby('RiskLevel')['Amount'].sum().reset_index()\n",
    "fig.add_trace(\n",
    "    go.Bar(x=risk_pipeline['RiskLevel'], y=risk_pipeline['Amount'],\n",
    "          marker_color=['#d62728', '#ff7f0e', '#ffff00', '#2ca02c']),\n",
    "    row=1, col=1\n",
    ")\n",
    "\n",
    "# 2. AI Score Distribution\n",
    "fig.add_trace(\n",
    "    go.Histogram(x=open_opps['AIScore'], nbinsx=20, marker_color='lightblue'),\n",
    "    row=1, col=2\n",
    ")\n",
    "\n",
    "# 3. Win Rate by Product\n",
    "product_performance = all_opps[all_opps['IsClosed']].groupby('Product').agg({\n",
    "    'IsWon': 'mean'\n",
    "}).reset_index()\n",
    "fig.add_trace(\n",
    "    go.Bar(x=product_performance['Product'], y=product_performance['IsWon']*100,\n",
    "          marker_color='purple'),\n",
    "    row=1, col=3\n",
    ")\n",
    "\n",
    "# 4. Deal Velocity (Days in Stage vs AI Score)\n",
    "fig.add_trace(\n",
    "    go.Scatter(x=open_opps['DaysInStage'], y=open_opps['AIScore'],\n",
    "              mode='markers', marker=dict(size=open_opps['Amount']/100000,\n",
    "                                         color=open_opps['AIScore'],\n",
    "                                         colorscale='Viridis',\n",
    "                                         showscale=True)),\n",
    "    row=2, col=1\n",
    ")\n",
    "\n",
    "# 5. Revenue Forecast\n",
    "forecast_data = open_opps.groupby('CloseDate').agg({\n",
    "    'Amount': 'sum',\n",
    "    'AIScore': 'mean'\n",
    "}).reset_index()\n",
    "forecast_data['ExpectedRevenue'] = forecast_data['Amount'] * (forecast_data['AIScore']/100)\n",
    "fig.add_trace(\n",
    "    go.Bar(x=forecast_data['CloseDate'], y=forecast_data['ExpectedRevenue'],\n",
    "          marker_color='green'),\n",
    "    row=2, col=2\n",
    ")\n",
    "\n",
    "# 6. Engagement vs Outcome\n",
    "engagement_analysis = all_opps[all_opps['IsClosed']].copy()\n",
    "fig.add_trace(\n",
    "    go.Scatter(x=engagement_analysis['TotalActivities'], \n",
    "              y=engagement_analysis['IsWon'],\n",
    "              mode='markers',\n",
    "              marker=dict(size=8, color=engagement_analysis['IsWon'],\n",
    "                         colorscale='RdYlGn')),\n",
    "    row=2, col=3\n",
    ")\n",
    "\n",
    "# Update layout\n",
    "fig.update_layout(height=800, showlegend=False,\n",
    "                 title_text=\"AI-Powered Revenue Intelligence Dashboard\",\n",
    "                 title_font_size=20)\n",
    "\n",
    "# Update axes\n",
    "fig.update_xaxes(title_text=\"Risk Level\", row=1, col=1)\n",
    "fig.update_xaxes(title_text=\"AI Score\", row=1, col=2)\n",
    "fig.update_xaxes(title_text=\"Product\", row=1, col=3)\n",
    "fig.update_xaxes(title_text=\"Days in Stage\", row=2, col=1)\n",
    "fig.update_xaxes(title_text=\"Close Date\", row=2, col=2)\n",
    "fig.update_xaxes(title_text=\"Total Activities\", row=2, col=3)\n",
    "\n",
    "fig.update_yaxes(title_text=\"Pipeline ($)\", row=1, col=1)\n",
    "fig.update_yaxes(title_text=\"Count\", row=1, col=2)\n",
    "fig.update_yaxes(title_text=\"Win Rate (%)\", row=1, col=3)\n",
    "fig.update_yaxes(title_text=\"AI Score\", row=2, col=1)\n",
    "fig.update_yaxes(title_text=\"Expected Revenue ($)\", row=2, col=2)\n",
    "fig.update_yaxes(title_text=\"Won (1) / Lost (0)\", row=2, col=3)\n",
    "\n",
    "fig.show()"
   ]
  },
  {
   "cell_type": "markdown",
   "metadata": {},
   "source": [
    "## 6. AI-Generated Account Intelligence"
   ]
  },
  {
   "cell_type": "code",
   "execution_count": 12,
   "metadata": {},
   "outputs": [
    {
     "data": {
      "application/vnd.plotly.v1+json": {
       "config": {
        "plotlyServerURL": "https://plot.ly"
       },
       "data": [
        {
         "customdata": [
          [
           "Sandoval PLC",
           10,
           34258469
          ],
          [
           "Munoz-Roman",
           12,
           30575388
          ],
          [
           "Martinez PLC",
           9,
           30027035
          ],
          [
           "Bass PLC",
           9,
           29225948
          ],
          [
           "Riggs PLC",
           11,
           27505969
          ],
          [
           "Powell PLC",
           9,
           27290614
          ],
          [
           "Brown, Jones and Johnson",
           7,
           27249615
          ],
          [
           "Fields PLC",
           9,
           27214742
          ],
          [
           "Delgado-Gilmore",
           9,
           27065335
          ],
          [
           "Lawson, Morris and Ramos",
           9,
           26223812
          ],
          [
           "Oneill, Henry and Salas",
           8,
           25975462
          ],
          [
           "Ponce-Hale",
           8,
           24809850
          ],
          [
           "Vega, Jimenez and Aguilar",
           6,
           24449951
          ],
          [
           "Owens-Holmes",
           8,
           24419685
          ],
          [
           "Costa-Harrison",
           7,
           23904035
          ],
          [
           "Lin-Rasmussen",
           7,
           23398047
          ],
          [
           "Hill, Davenport and Baird",
           7,
           23370902
          ],
          [
           "Parker, Ortiz and Powell",
           12,
           23295251
          ],
          [
           "Barnett, Rogers and Snyder",
           7,
           23005094
          ],
          [
           "Conley PLC",
           8,
           22958038
          ]
         ],
         "hovertemplate": "Historical Win Rate=%{x}<br>Average AI Score=%{y}<br>TotalPipeline=%{customdata[2]}<br>AccountName=%{customdata[0]}<br>NumOpps=%{customdata[1]}<br>Health Score=%{marker.color}<extra></extra>",
         "legendgroup": "",
         "marker": {
          "color": {
           "bdata": "2L8/0S8KUUCDaup72rRGQIhYjAe1KUNAWrgGu+ywR0CGp/41OAFMQC14iisxxUxADrqkjRaCQUCrqqqqqioxQD7xlJ4l/z9A5DiO4zgOMEDYvz/RL+pEQNi/P9Ev0kRA6gqARn8xSUA+YNWb1OZJQOpwEmnNr0FA3NgOPQ35R0AyDMMwDMMrQG9KimTySUxAJmszhp9dR0BVVVVVVQUwQA==",
           "dtype": "f8"
          },
          "coloraxis": "coloraxis",
          "size": {
           "bdata": "Jb4KAhyL0gEbLcoB3PO9ATG1owH2a6ABz8ufAZZDnwH3+5wBxCSQAaZajAF6kXoBnxN1AWWddAEjv2wBnwZlAZacZAETdWMBpgdfAdZPXgE=",
           "dtype": "i4"
          },
          "sizemode": "area",
          "sizeref": 85646.1725,
          "symbol": "circle"
         },
         "mode": "markers",
         "name": "",
         "orientation": "v",
         "showlegend": false,
         "type": "scatter",
         "x": {
          "bdata": "bWvR1/P97z9ta9HX8/3fP8LUsfLn+98/lvFwdINT5T+SEN3hdv7nP8LUsfLn++8/wtSx8uf73z8AAAAAAAAAAJbxcHSDU9U/AAAAAAAAAABta9HX8/3fP21r0dfz/d8/Ci5s8dD37z8KLmzx0PfvP8LUsfLn+98/lvFwdINT5T8AAAAAAAAAAJIQ3eF2/uc/lvFwdINT5T8AAAAAAAAAAA==",
          "dtype": "f8"
         },
         "xaxis": "x",
         "y": {
          "bdata": "AAAAAACARUBVVVVVVdU0QKuqqqqqqjBAchzHcRzHOEBddNFFF10+QMdxHMdxHDlAbtu2bdu2MEBVVVVVVVURQAAAAAAAACxAOY7jOI7jAEAAAAAAAAA7QAAAAAAAoDpAVVVVVVXVNEAAAAAAAAAxQNu2bdu2bTFAkiRJkiRJQEBu27Zt27YRQKuqqqqqKjxASZIkSZIkPkAAAAAAAIAVQA==",
          "dtype": "f8"
         },
         "yaxis": "y"
        }
       ],
       "layout": {
        "coloraxis": {
         "colorbar": {
          "title": {
           "text": "Health Score"
          }
         },
         "colorscale": [
          [
           0,
           "rgb(165,0,38)"
          ],
          [
           0.1,
           "rgb(215,48,39)"
          ],
          [
           0.2,
           "rgb(244,109,67)"
          ],
          [
           0.3,
           "rgb(253,174,97)"
          ],
          [
           0.4,
           "rgb(254,224,139)"
          ],
          [
           0.5,
           "rgb(255,255,191)"
          ],
          [
           0.6,
           "rgb(217,239,139)"
          ],
          [
           0.7,
           "rgb(166,217,106)"
          ],
          [
           0.8,
           "rgb(102,189,99)"
          ],
          [
           0.9,
           "rgb(26,152,80)"
          ],
          [
           1,
           "rgb(0,104,55)"
          ]
         ]
        },
        "height": 600,
        "legend": {
         "itemsizing": "constant",
         "tracegroupgap": 0
        },
        "template": {
         "data": {
          "bar": [
           {
            "error_x": {
             "color": "#2a3f5f"
            },
            "error_y": {
             "color": "#2a3f5f"
            },
            "marker": {
             "line": {
              "color": "#E5ECF6",
              "width": 0.5
             },
             "pattern": {
              "fillmode": "overlay",
              "size": 10,
              "solidity": 0.2
             }
            },
            "type": "bar"
           }
          ],
          "barpolar": [
           {
            "marker": {
             "line": {
              "color": "#E5ECF6",
              "width": 0.5
             },
             "pattern": {
              "fillmode": "overlay",
              "size": 10,
              "solidity": 0.2
             }
            },
            "type": "barpolar"
           }
          ],
          "carpet": [
           {
            "aaxis": {
             "endlinecolor": "#2a3f5f",
             "gridcolor": "white",
             "linecolor": "white",
             "minorgridcolor": "white",
             "startlinecolor": "#2a3f5f"
            },
            "baxis": {
             "endlinecolor": "#2a3f5f",
             "gridcolor": "white",
             "linecolor": "white",
             "minorgridcolor": "white",
             "startlinecolor": "#2a3f5f"
            },
            "type": "carpet"
           }
          ],
          "choropleth": [
           {
            "colorbar": {
             "outlinewidth": 0,
             "ticks": ""
            },
            "type": "choropleth"
           }
          ],
          "contour": [
           {
            "colorbar": {
             "outlinewidth": 0,
             "ticks": ""
            },
            "colorscale": [
             [
              0,
              "#0d0887"
             ],
             [
              0.1111111111111111,
              "#46039f"
             ],
             [
              0.2222222222222222,
              "#7201a8"
             ],
             [
              0.3333333333333333,
              "#9c179e"
             ],
             [
              0.4444444444444444,
              "#bd3786"
             ],
             [
              0.5555555555555556,
              "#d8576b"
             ],
             [
              0.6666666666666666,
              "#ed7953"
             ],
             [
              0.7777777777777778,
              "#fb9f3a"
             ],
             [
              0.8888888888888888,
              "#fdca26"
             ],
             [
              1,
              "#f0f921"
             ]
            ],
            "type": "contour"
           }
          ],
          "contourcarpet": [
           {
            "colorbar": {
             "outlinewidth": 0,
             "ticks": ""
            },
            "type": "contourcarpet"
           }
          ],
          "heatmap": [
           {
            "colorbar": {
             "outlinewidth": 0,
             "ticks": ""
            },
            "colorscale": [
             [
              0,
              "#0d0887"
             ],
             [
              0.1111111111111111,
              "#46039f"
             ],
             [
              0.2222222222222222,
              "#7201a8"
             ],
             [
              0.3333333333333333,
              "#9c179e"
             ],
             [
              0.4444444444444444,
              "#bd3786"
             ],
             [
              0.5555555555555556,
              "#d8576b"
             ],
             [
              0.6666666666666666,
              "#ed7953"
             ],
             [
              0.7777777777777778,
              "#fb9f3a"
             ],
             [
              0.8888888888888888,
              "#fdca26"
             ],
             [
              1,
              "#f0f921"
             ]
            ],
            "type": "heatmap"
           }
          ],
          "histogram": [
           {
            "marker": {
             "pattern": {
              "fillmode": "overlay",
              "size": 10,
              "solidity": 0.2
             }
            },
            "type": "histogram"
           }
          ],
          "histogram2d": [
           {
            "colorbar": {
             "outlinewidth": 0,
             "ticks": ""
            },
            "colorscale": [
             [
              0,
              "#0d0887"
             ],
             [
              0.1111111111111111,
              "#46039f"
             ],
             [
              0.2222222222222222,
              "#7201a8"
             ],
             [
              0.3333333333333333,
              "#9c179e"
             ],
             [
              0.4444444444444444,
              "#bd3786"
             ],
             [
              0.5555555555555556,
              "#d8576b"
             ],
             [
              0.6666666666666666,
              "#ed7953"
             ],
             [
              0.7777777777777778,
              "#fb9f3a"
             ],
             [
              0.8888888888888888,
              "#fdca26"
             ],
             [
              1,
              "#f0f921"
             ]
            ],
            "type": "histogram2d"
           }
          ],
          "histogram2dcontour": [
           {
            "colorbar": {
             "outlinewidth": 0,
             "ticks": ""
            },
            "colorscale": [
             [
              0,
              "#0d0887"
             ],
             [
              0.1111111111111111,
              "#46039f"
             ],
             [
              0.2222222222222222,
              "#7201a8"
             ],
             [
              0.3333333333333333,
              "#9c179e"
             ],
             [
              0.4444444444444444,
              "#bd3786"
             ],
             [
              0.5555555555555556,
              "#d8576b"
             ],
             [
              0.6666666666666666,
              "#ed7953"
             ],
             [
              0.7777777777777778,
              "#fb9f3a"
             ],
             [
              0.8888888888888888,
              "#fdca26"
             ],
             [
              1,
              "#f0f921"
             ]
            ],
            "type": "histogram2dcontour"
           }
          ],
          "mesh3d": [
           {
            "colorbar": {
             "outlinewidth": 0,
             "ticks": ""
            },
            "type": "mesh3d"
           }
          ],
          "parcoords": [
           {
            "line": {
             "colorbar": {
              "outlinewidth": 0,
              "ticks": ""
             }
            },
            "type": "parcoords"
           }
          ],
          "pie": [
           {
            "automargin": true,
            "type": "pie"
           }
          ],
          "scatter": [
           {
            "fillpattern": {
             "fillmode": "overlay",
             "size": 10,
             "solidity": 0.2
            },
            "type": "scatter"
           }
          ],
          "scatter3d": [
           {
            "line": {
             "colorbar": {
              "outlinewidth": 0,
              "ticks": ""
             }
            },
            "marker": {
             "colorbar": {
              "outlinewidth": 0,
              "ticks": ""
             }
            },
            "type": "scatter3d"
           }
          ],
          "scattercarpet": [
           {
            "marker": {
             "colorbar": {
              "outlinewidth": 0,
              "ticks": ""
             }
            },
            "type": "scattercarpet"
           }
          ],
          "scattergeo": [
           {
            "marker": {
             "colorbar": {
              "outlinewidth": 0,
              "ticks": ""
             }
            },
            "type": "scattergeo"
           }
          ],
          "scattergl": [
           {
            "marker": {
             "colorbar": {
              "outlinewidth": 0,
              "ticks": ""
             }
            },
            "type": "scattergl"
           }
          ],
          "scattermap": [
           {
            "marker": {
             "colorbar": {
              "outlinewidth": 0,
              "ticks": ""
             }
            },
            "type": "scattermap"
           }
          ],
          "scattermapbox": [
           {
            "marker": {
             "colorbar": {
              "outlinewidth": 0,
              "ticks": ""
             }
            },
            "type": "scattermapbox"
           }
          ],
          "scatterpolar": [
           {
            "marker": {
             "colorbar": {
              "outlinewidth": 0,
              "ticks": ""
             }
            },
            "type": "scatterpolar"
           }
          ],
          "scatterpolargl": [
           {
            "marker": {
             "colorbar": {
              "outlinewidth": 0,
              "ticks": ""
             }
            },
            "type": "scatterpolargl"
           }
          ],
          "scatterternary": [
           {
            "marker": {
             "colorbar": {
              "outlinewidth": 0,
              "ticks": ""
             }
            },
            "type": "scatterternary"
           }
          ],
          "surface": [
           {
            "colorbar": {
             "outlinewidth": 0,
             "ticks": ""
            },
            "colorscale": [
             [
              0,
              "#0d0887"
             ],
             [
              0.1111111111111111,
              "#46039f"
             ],
             [
              0.2222222222222222,
              "#7201a8"
             ],
             [
              0.3333333333333333,
              "#9c179e"
             ],
             [
              0.4444444444444444,
              "#bd3786"
             ],
             [
              0.5555555555555556,
              "#d8576b"
             ],
             [
              0.6666666666666666,
              "#ed7953"
             ],
             [
              0.7777777777777778,
              "#fb9f3a"
             ],
             [
              0.8888888888888888,
              "#fdca26"
             ],
             [
              1,
              "#f0f921"
             ]
            ],
            "type": "surface"
           }
          ],
          "table": [
           {
            "cells": {
             "fill": {
              "color": "#EBF0F8"
             },
             "line": {
              "color": "white"
             }
            },
            "header": {
             "fill": {
              "color": "#C8D4E3"
             },
             "line": {
              "color": "white"
             }
            },
            "type": "table"
           }
          ]
         },
         "layout": {
          "annotationdefaults": {
           "arrowcolor": "#2a3f5f",
           "arrowhead": 0,
           "arrowwidth": 1
          },
          "autotypenumbers": "strict",
          "coloraxis": {
           "colorbar": {
            "outlinewidth": 0,
            "ticks": ""
           }
          },
          "colorscale": {
           "diverging": [
            [
             0,
             "#8e0152"
            ],
            [
             0.1,
             "#c51b7d"
            ],
            [
             0.2,
             "#de77ae"
            ],
            [
             0.3,
             "#f1b6da"
            ],
            [
             0.4,
             "#fde0ef"
            ],
            [
             0.5,
             "#f7f7f7"
            ],
            [
             0.6,
             "#e6f5d0"
            ],
            [
             0.7,
             "#b8e186"
            ],
            [
             0.8,
             "#7fbc41"
            ],
            [
             0.9,
             "#4d9221"
            ],
            [
             1,
             "#276419"
            ]
           ],
           "sequential": [
            [
             0,
             "#0d0887"
            ],
            [
             0.1111111111111111,
             "#46039f"
            ],
            [
             0.2222222222222222,
             "#7201a8"
            ],
            [
             0.3333333333333333,
             "#9c179e"
            ],
            [
             0.4444444444444444,
             "#bd3786"
            ],
            [
             0.5555555555555556,
             "#d8576b"
            ],
            [
             0.6666666666666666,
             "#ed7953"
            ],
            [
             0.7777777777777778,
             "#fb9f3a"
            ],
            [
             0.8888888888888888,
             "#fdca26"
            ],
            [
             1,
             "#f0f921"
            ]
           ],
           "sequentialminus": [
            [
             0,
             "#0d0887"
            ],
            [
             0.1111111111111111,
             "#46039f"
            ],
            [
             0.2222222222222222,
             "#7201a8"
            ],
            [
             0.3333333333333333,
             "#9c179e"
            ],
            [
             0.4444444444444444,
             "#bd3786"
            ],
            [
             0.5555555555555556,
             "#d8576b"
            ],
            [
             0.6666666666666666,
             "#ed7953"
            ],
            [
             0.7777777777777778,
             "#fb9f3a"
            ],
            [
             0.8888888888888888,
             "#fdca26"
            ],
            [
             1,
             "#f0f921"
            ]
           ]
          },
          "colorway": [
           "#636efa",
           "#EF553B",
           "#00cc96",
           "#ab63fa",
           "#FFA15A",
           "#19d3f3",
           "#FF6692",
           "#B6E880",
           "#FF97FF",
           "#FECB52"
          ],
          "font": {
           "color": "#2a3f5f"
          },
          "geo": {
           "bgcolor": "white",
           "lakecolor": "white",
           "landcolor": "#E5ECF6",
           "showlakes": true,
           "showland": true,
           "subunitcolor": "white"
          },
          "hoverlabel": {
           "align": "left"
          },
          "hovermode": "closest",
          "mapbox": {
           "style": "light"
          },
          "paper_bgcolor": "white",
          "plot_bgcolor": "#E5ECF6",
          "polar": {
           "angularaxis": {
            "gridcolor": "white",
            "linecolor": "white",
            "ticks": ""
           },
           "bgcolor": "#E5ECF6",
           "radialaxis": {
            "gridcolor": "white",
            "linecolor": "white",
            "ticks": ""
           }
          },
          "scene": {
           "xaxis": {
            "backgroundcolor": "#E5ECF6",
            "gridcolor": "white",
            "gridwidth": 2,
            "linecolor": "white",
            "showbackground": true,
            "ticks": "",
            "zerolinecolor": "white"
           },
           "yaxis": {
            "backgroundcolor": "#E5ECF6",
            "gridcolor": "white",
            "gridwidth": 2,
            "linecolor": "white",
            "showbackground": true,
            "ticks": "",
            "zerolinecolor": "white"
           },
           "zaxis": {
            "backgroundcolor": "#E5ECF6",
            "gridcolor": "white",
            "gridwidth": 2,
            "linecolor": "white",
            "showbackground": true,
            "ticks": "",
            "zerolinecolor": "white"
           }
          },
          "shapedefaults": {
           "line": {
            "color": "#2a3f5f"
           }
          },
          "ternary": {
           "aaxis": {
            "gridcolor": "white",
            "linecolor": "white",
            "ticks": ""
           },
           "baxis": {
            "gridcolor": "white",
            "linecolor": "white",
            "ticks": ""
           },
           "bgcolor": "#E5ECF6",
           "caxis": {
            "gridcolor": "white",
            "linecolor": "white",
            "ticks": ""
           }
          },
          "title": {
           "x": 0.05
          },
          "xaxis": {
           "automargin": true,
           "gridcolor": "white",
           "linecolor": "white",
           "ticks": "",
           "title": {
            "standoff": 15
           },
           "zerolinecolor": "white",
           "zerolinewidth": 2
          },
          "yaxis": {
           "automargin": true,
           "gridcolor": "white",
           "linecolor": "white",
           "ticks": "",
           "title": {
            "standoff": 15
           },
           "zerolinecolor": "white",
           "zerolinewidth": 2
          }
         }
        },
        "title": {
         "text": "Top 20 Accounts: Health Analysis"
        },
        "xaxis": {
         "anchor": "y",
         "domain": [
          0,
          1
         ],
         "title": {
          "text": "Historical Win Rate"
         }
        },
        "yaxis": {
         "anchor": "x",
         "domain": [
          0,
          1
         ],
         "title": {
          "text": "Average AI Score"
         }
        }
       }
      }
     },
     "metadata": {},
     "output_type": "display_data"
    },
    {
     "name": "stdout",
     "output_type": "stream",
     "text": [
      "\n",
      "Top 5 Strategic Accounts:\n",
      "      AccountName  TotalPipeline  AvgAIScore  AccountHealth\n",
      "192  Sandoval PLC       34258469   43.000000      68.159169\n",
      "8     Munoz-Roman       30575388   20.833333      45.412918\n",
      "269  Martinez PLC       30027035   16.666667      38.325837\n",
      "251      Bass PLC       29225948   24.777778      47.382224\n",
      "105     Riggs PLC       27505969   30.363636      56.009528\n"
     ]
    }
   ],
   "source": [
    "# Account-level analysis\n",
    "account_summary = all_opps.groupby(['AccountId', 'AccountName']).agg({\n",
    "    'Amount': ['sum', 'count'],\n",
    "    'AIScore': 'mean',\n",
    "    'IsWon': lambda x: (x == True).sum(),\n",
    "    'IsClosed': lambda x: (x == True).sum()\n",
    "}).reset_index()\n",
    "\n",
    "account_summary.columns = ['AccountId', 'AccountName', 'TotalPipeline', 'NumOpps', \n",
    "                          'AvgAIScore', 'WonDeals', 'ClosedDeals']\n",
    "\n",
    "# Calculate account health score\n",
    "account_summary['WinRate'] = account_summary['WonDeals'] / (account_summary['ClosedDeals'] + 0.001)\n",
    "account_summary['AccountHealth'] = (\n",
    "    account_summary['AvgAIScore'] * 0.5 + \n",
    "    account_summary['WinRate'] * 100 * 0.3 +\n",
    "    (account_summary['NumOpps'] / account_summary['NumOpps'].max()) * 100 * 0.2\n",
    ")\n",
    "\n",
    "# Top accounts visualization\n",
    "top_accounts = account_summary.nlargest(20, 'TotalPipeline')\n",
    "\n",
    "fig = px.scatter(top_accounts, \n",
    "                x='WinRate', \n",
    "                y='AvgAIScore',\n",
    "                size='TotalPipeline',\n",
    "                color='AccountHealth',\n",
    "                hover_data=['AccountName', 'NumOpps', 'TotalPipeline'],\n",
    "                title='Top 20 Accounts: Health Analysis',\n",
    "                labels={'WinRate': 'Historical Win Rate',\n",
    "                       'AvgAIScore': 'Average AI Score',\n",
    "                       'AccountHealth': 'Health Score'},\n",
    "                color_continuous_scale='RdYlGn')\n",
    "\n",
    "fig.update_layout(height=600)\n",
    "fig.show()\n",
    "\n",
    "print(\"\\nTop 5 Strategic Accounts:\")\n",
    "print(top_accounts[['AccountName', 'TotalPipeline', 'AvgAIScore', 'AccountHealth']].head())"
   ]
  },
  {
   "cell_type": "code",
   "execution_count": 13,
   "metadata": {},
   "outputs": [
    {
     "name": "stdout",
     "output_type": "stream",
     "text": [
      "\n",
      "Strategic Account Recommendations:\n",
      "\n",
      "Sandoval PLC\n",
      "  Pipeline: $34,258,469\n",
      "  Health Score: 68.2/100\n",
      "  Strategy: 📊 Low average AI scores - Strengthen value proposition | 🏢 High opportunity volume - Assign dedicated team\n",
      "\n",
      "Munoz-Roman\n",
      "  Pipeline: $30,575,388\n",
      "  Health Score: 45.4/100\n",
      "  Strategy: 📊 Low average AI scores - Strengthen value proposition | 🏢 High opportunity volume - Assign dedicated team\n",
      "\n",
      "Martinez PLC\n",
      "  Pipeline: $30,027,035\n",
      "  Health Score: 38.3/100\n",
      "  Strategy: 📊 Low average AI scores - Strengthen value proposition | 🏢 High opportunity volume - Assign dedicated team\n",
      "\n",
      "Bass PLC\n",
      "  Pipeline: $29,225,948\n",
      "  Health Score: 47.4/100\n",
      "  Strategy: 📊 Low average AI scores - Strengthen value proposition | 🏢 High opportunity volume - Assign dedicated team\n",
      "\n",
      "Riggs PLC\n",
      "  Pipeline: $27,505,969\n",
      "  Health Score: 56.0/100\n",
      "  Strategy: 📊 Low average AI scores - Strengthen value proposition | 🏢 High opportunity volume - Assign dedicated team\n"
     ]
    }
   ],
   "source": [
    "# Generate account-specific AI recommendations\n",
    "def generate_account_strategy(row):\n",
    "    \"\"\"Generate strategic recommendations for each account\"\"\"\n",
    "    strategies = []\n",
    "    \n",
    "    if row['WinRate'] < 0.3:\n",
    "        strategies.append(\"🎯 Win rate below 30% - Consider strategic account review\")\n",
    "    \n",
    "    if row['AvgAIScore'] < 50:\n",
    "        strategies.append(\"📊 Low average AI scores - Strengthen value proposition\")\n",
    "    \n",
    "    if row['NumOpps'] > 5:\n",
    "        strategies.append(\"🏢 High opportunity volume - Assign dedicated team\")\n",
    "    \n",
    "    if row['TotalPipeline'] > 1000000:\n",
    "        strategies.append(\"💎 High-value account - Executive sponsorship recommended\")\n",
    "    \n",
    "    return \" | \".join(strategies[:2]) if strategies else \"✅ Account performing well\"\n",
    "\n",
    "top_accounts['AIStrategy'] = top_accounts.apply(generate_account_strategy, axis=1)\n",
    "\n",
    "# Display strategic accounts table\n",
    "print(\"\\nStrategic Account Recommendations:\")\n",
    "for _, acc in top_accounts.head(5).iterrows():\n",
    "    print(f\"\\n{acc['AccountName']}\")\n",
    "    print(f\"  Pipeline: ${acc['TotalPipeline']:,.0f}\")\n",
    "    print(f\"  Health Score: {acc['AccountHealth']:.1f}/100\")\n",
    "    print(f\"  Strategy: {acc['AIStrategy']}\")"
   ]
  },
  {
   "cell_type": "markdown",
   "metadata": {},
   "source": [
    "## 7. Competitive Intelligence & Win/Loss Analysis"
   ]
  },
  {
   "cell_type": "code",
   "execution_count": 14,
   "metadata": {},
   "outputs": [
    {
     "data": {
      "image/png": "[encoded data removed]",
      "text/plain": [
       "<Figure size 1500x1000 with 4 Axes>"
      ]
     },
     "metadata": {},
     "output_type": "display_data"
    }
   ],
   "source": [
    "# Competitive analysis\n",
    "competitive_data = all_opps[all_opps['IsClosed']].groupby(['Competitor', 'IsWon']).size().unstack(fill_value=0)\n",
    "competitive_data['WinRate'] = competitive_data[True] / (competitive_data[True] + competitive_data[False])\n",
    "competitive_data['TotalDeals'] = competitive_data[True] + competitive_data[False]\n",
    "\n",
    "# Create competitive intelligence visualization\n",
    "fig, axes = plt.subplots(2, 2, figsize=(15, 10))\n",
    "fig.suptitle('Competitive Intelligence Analysis', fontsize=16)\n",
    "\n",
    "# 1. Win rates by competitor\n",
    "ax1 = axes[0, 0]\n",
    "competitive_data['WinRate'].plot(kind='bar', ax=ax1, color='skyblue')\n",
    "ax1.set_title('Win Rate by Competitor')\n",
    "ax1.set_ylabel('Win Rate')\n",
    "ax1.set_ylim(0, 1)\n",
    "ax1.axhline(y=0.5, color='red', linestyle='--', alpha=0.5)\n",
    "\n",
    "# 2. Deal volume by competitor\n",
    "ax2 = axes[0, 1]\n",
    "competitive_data['TotalDeals'].plot(kind='bar', ax=ax2, color='lightcoral')\n",
    "ax2.set_title('Deal Volume by Competitor')\n",
    "ax2.set_ylabel('Number of Deals')\n",
    "\n",
    "# 3. Win/Loss reasons word cloud\n",
    "ax3 = axes[1, 0]\n",
    "# Generate mock win/loss reasons\n",
    "win_reasons = ['better pricing', 'superior features', 'strong relationship', \n",
    "               'faster implementation', 'executive alignment', 'proof of concept success'] * 20\n",
    "loss_reasons = ['high price', 'missing features', 'competitor relationship',\n",
    "               'complex implementation', 'security concerns', 'slow response time'] * 20\n",
    "\n",
    "all_reasons = win_reasons + loss_reasons\n",
    "text = ' '.join(all_reasons)\n",
    "wordcloud = WordCloud(width=400, height=300, background_color='white').generate(text)\n",
    "ax3.imshow(wordcloud, interpolation='bilinear')\n",
    "ax3.set_title('Win/Loss Reasons Word Cloud')\n",
    "ax3.axis('off')\n",
    "\n",
    "# 4. Competitive positioning matrix\n",
    "ax4 = axes[1, 1]\n",
    "# Create mock competitive positioning data\n",
    "competitors_analysis = pd.DataFrame({\n",
    "    'Competitor': ['Us', 'CompetitorA', 'CompetitorB', 'CompetitorC'],\n",
    "    'Price_Score': [7, 8, 5, 6],\n",
    "    'Feature_Score': [9, 7, 8, 6],\n",
    "    'Market_Share': [35, 30, 20, 15]\n",
    "})\n",
    "\n",
    "scatter = ax4.scatter(competitors_analysis['Price_Score'], \n",
    "                     competitors_analysis['Feature_Score'],\n",
    "                     s=competitors_analysis['Market_Share']*20,\n",
    "                     alpha=0.6)\n",
    "ax4.set_xlabel('Price Competitiveness')\n",
    "ax4.set_ylabel('Feature Richness')\n",
    "ax4.set_title('Competitive Positioning Matrix')\n",
    "ax4.grid(True, alpha=0.3)\n",
    "\n",
    "for _, row in competitors_analysis.iterrows():\n",
    "    ax4.annotate(row['Competitor'], (row['Price_Score'], row['Feature_Score']), \n",
    "                xytext=(5, 5), textcoords='offset points')\n",
    "\n",
    "plt.tight_layout()\n",
    "plt.show()"
   ]
  },
  {
   "cell_type": "markdown",
   "metadata": {},
   "source": [
    "## 8. AI-Powered Sales Coaching Insights"
   ]
  },
  {
   "cell_type": "code",
   "execution_count": 15,
   "metadata": {},
   "outputs": [
    {
     "data": {
      "application/vnd.plotly.v1+json": {
       "config": {
        "plotlyServerURL": "https://plot.ly"
       },
       "data": [
        {
         "customdata": [
          [
           "Rep_1",
           "📉 Focus on higher-quality opportunities"
          ],
          [
           "Rep_2",
           "⭐ High performer - share best practices with team"
          ],
          [
           "Rep_3",
           "⭐ High performer - share best practices with team"
          ],
          [
           "Rep_4",
           "⭐ High performer - share best practices with team"
          ],
          [
           "Rep_5",
           "⭐ High performer - share best practices with team"
          ],
          [
           "Rep_6",
           "📉 Focus on higher-quality opportunities"
          ],
          [
           "Rep_7",
           "📉 Focus on higher-quality opportunities"
          ],
          [
           "Rep_8",
           "⭐ High performer - share best practices with team"
          ],
          [
           "Rep_9",
           "⭐ High performer - share best practices with team"
          ],
          [
           "Rep_10",
           "⭐ High performer - share best practices with team"
          ],
          [
           "Rep_11",
           "📉 Focus on higher-quality opportunities"
          ],
          [
           "Rep_12",
           "📉 Focus on higher-quality opportunities"
          ],
          [
           "Rep_13",
           "📉 Focus on higher-quality opportunities"
          ],
          [
           "Rep_14",
           "📉 Focus on higher-quality opportunities"
          ],
          [
           "Rep_15",
           "📉 Focus on higher-quality opportunities"
          ],
          [
           "Rep_16",
           "⭐ High performer - share best practices with team"
          ],
          [
           "Rep_17",
           "⭐ High performer - share best practices with team"
          ],
          [
           "Rep_18",
           "📉 Focus on higher-quality opportunities"
          ],
          [
           "Rep_19",
           "📉 Focus on higher-quality opportunities"
          ],
          [
           "Rep_20",
           "📉 Focus on higher-quality opportunities"
          ]
         ],
         "hovertemplate": "Win Rate=%{x}<br>Average AI Score=%{y}<br>Pipeline=%{marker.size}<br>SalesRep=%{customdata[0]}<br>CoachingInsight=%{customdata[1]}<br>ClosedRevenue=%{marker.color}<extra></extra>",
         "legendgroup": "",
         "marker": {
          "color": {
           "bdata": "1+3HAZRCUgIdMrICzFiaAnGyHQIzGsoC5lSgABAwcAHYOmYBKvHmAEWIRAJgCWUBLQLXAeChxAGmaJgB1frQAZqUTwK5vckApeEWAQncnQE=",
           "dtype": "i4"
          },
          "coloraxis": "coloraxis",
          "size": {
           "bdata": "GCsdBX60MQnKRrIFOtONCfoKxAi6yWQJMQxfAv7/oQQPvEEDHqzABI74bAgf87UIoKO0BrAr6gYvh9YH8UMBB2oOcgaxXRICnKDJCmfeKgY=",
           "dtype": "i4"
          },
          "sizemode": "area",
          "sizeref": 452465.03,
          "symbol": "circle"
         },
         "mode": "markers",
         "name": "",
         "orientation": "v",
         "showlegend": false,
         "type": "scatter",
         "x": {
          "bdata": "L6G9hPYS2j/d0wjLPY3gP5IkSZIkSeI/6wZT5LNu4D988MEHH3zgPzgfg/MxON8/HMdxHMdx3D/kOI7jOI7jP/Hw8PDw8OA/JUmSJEmS5D8cx3Ecx3HcP5qZmZmZmdk/YbmnEZZ72j/43nvvvffePwntJbSX0N4/ewntJbSX4D988MEHH3zgPxdddNFFF90/exSuR+F61D+3bdu2bdvWPw==",
          "dtype": "f8"
         },
         "xaxis": "x",
         "y": {
          "bdata": "MzMzMzPzNEAhC1nIQhY0QB5TA3vH1DxA9isFav1KNkDRRRdddNE0QKd+zy1x6jdAVVVVVVU1NECdgpdT8HI5QAdT5LNuMDtAAAAAAAAANUBxCIdwCIc0QKQf/ehHPzFAJUmSJEmSM0BixIgRI0Y3QJjf1eImzDNA3/SmN73pNkBjyS+W/GI5QFVVVVVVlThApHA9CtejJ0Dm2oG5dmAxQA==",
          "dtype": "f8"
         },
         "yaxis": "y"
        }
       ],
       "layout": {
        "annotations": [
         {
          "showarrow": false,
          "text": "Needs Coaching",
          "x": 0.1,
          "y": 70
         },
         {
          "showarrow": false,
          "text": "Top Performers",
          "x": 0.5,
          "y": 70
         },
         {
          "showarrow": false,
          "text": "At Risk",
          "x": 0.1,
          "y": 30
         },
         {
          "showarrow": false,
          "text": "Improve Quality",
          "x": 0.5,
          "y": 30
         }
        ],
        "coloraxis": {
         "colorbar": {
          "title": {
           "text": "ClosedRevenue"
          }
         },
         "colorscale": [
          [
           0,
           "#440154"
          ],
          [
           0.1111111111111111,
           "#482878"
          ],
          [
           0.2222222222222222,
           "#3e4989"
          ],
          [
           0.3333333333333333,
           "#31688e"
          ],
          [
           0.4444444444444444,
           "#26828e"
          ],
          [
           0.5555555555555556,
           "#1f9e89"
          ],
          [
           0.6666666666666666,
           "#35b779"
          ],
          [
           0.7777777777777778,
           "#6ece58"
          ],
          [
           0.8888888888888888,
           "#b5de2b"
          ],
          [
           1,
           "#fde725"
          ]
         ]
        },
        "height": 600,
        "legend": {
         "itemsizing": "constant",
         "tracegroupgap": 0
        },
        "shapes": [
         {
          "line": {
           "color": "gray",
           "dash": "dash"
          },
          "type": "line",
          "x0": 0,
          "x1": 1,
          "xref": "x domain",
          "y0": 50,
          "y1": 50,
          "yref": "y"
         },
         {
          "line": {
           "color": "gray",
           "dash": "dash"
          },
          "type": "line",
          "x0": 0.3,
          "x1": 0.3,
          "xref": "x",
          "y0": 0,
          "y1": 1,
          "yref": "y domain"
         }
        ],
        "template": {
         "data": {
          "bar": [
           {
            "error_x": {
             "color": "#2a3f5f"
            },
            "error_y": {
             "color": "#2a3f5f"
            },
            "marker": {
             "line": {
              "color": "#E5ECF6",
              "width": 0.5
             },
             "pattern": {
              "fillmode": "overlay",
              "size": 10,
              "solidity": 0.2
             }
            },
            "type": "bar"
           }
          ],
          "barpolar": [
           {
            "marker": {
             "line": {
              "color": "#E5ECF6",
              "width": 0.5
             },
             "pattern": {
              "fillmode": "overlay",
              "size": 10,
              "solidity": 0.2
             }
            },
            "type": "barpolar"
           }
          ],
          "carpet": [
           {
            "aaxis": {
             "endlinecolor": "#2a3f5f",
             "gridcolor": "white",
             "linecolor": "white",
             "minorgridcolor": "white",
             "startlinecolor": "#2a3f5f"
            },
            "baxis": {
             "endlinecolor": "#2a3f5f",
             "gridcolor": "white",
             "linecolor": "white",
             "minorgridcolor": "white",
             "startlinecolor": "#2a3f5f"
            },
            "type": "carpet"
           }
          ],
          "choropleth": [
           {
            "colorbar": {
             "outlinewidth": 0,
             "ticks": ""
            },
            "type": "choropleth"
           }
          ],
          "contour": [
           {
            "colorbar": {
             "outlinewidth": 0,
             "ticks": ""
            },
            "colorscale": [
             [
              0,
              "#0d0887"
             ],
             [
              0.1111111111111111,
              "#46039f"
             ],
             [
              0.2222222222222222,
              "#7201a8"
             ],
             [
              0.3333333333333333,
              "#9c179e"
             ],
             [
              0.4444444444444444,
              "#bd3786"
             ],
             [
              0.5555555555555556,
              "#d8576b"
             ],
             [
              0.6666666666666666,
              "#ed7953"
             ],
             [
              0.7777777777777778,
              "#fb9f3a"
             ],
             [
              0.8888888888888888,
              "#fdca26"
             ],
             [
              1,
              "#f0f921"
             ]
            ],
            "type": "contour"
           }
          ],
          "contourcarpet": [
           {
            "colorbar": {
             "outlinewidth": 0,
             "ticks": ""
            },
            "type": "contourcarpet"
           }
          ],
          "heatmap": [
           {
            "colorbar": {
             "outlinewidth": 0,
             "ticks": ""
            },
            "colorscale": [
             [
              0,
              "#0d0887"
             ],
             [
              0.1111111111111111,
              "#46039f"
             ],
             [
              0.2222222222222222,
              "#7201a8"
             ],
             [
              0.3333333333333333,
              "#9c179e"
             ],
             [
              0.4444444444444444,
              "#bd3786"
             ],
             [
              0.5555555555555556,
              "#d8576b"
             ],
             [
              0.6666666666666666,
              "#ed7953"
             ],
             [
              0.7777777777777778,
              "#fb9f3a"
             ],
             [
              0.8888888888888888,
              "#fdca26"
             ],
             [
              1,
              "#f0f921"
             ]
            ],
            "type": "heatmap"
           }
          ],
          "histogram": [
           {
            "marker": {
             "pattern": {
              "fillmode": "overlay",
              "size": 10,
              "solidity": 0.2
             }
            },
            "type": "histogram"
           }
          ],
          "histogram2d": [
           {
            "colorbar": {
             "outlinewidth": 0,
             "ticks": ""
            },
            "colorscale": [
             [
              0,
              "#0d0887"
             ],
             [
              0.1111111111111111,
              "#46039f"
             ],
             [
              0.2222222222222222,
              "#7201a8"
             ],
             [
              0.3333333333333333,
              "#9c179e"
             ],
             [
              0.4444444444444444,
              "#bd3786"
             ],
             [
              0.5555555555555556,
              "#d8576b"
             ],
             [
              0.6666666666666666,
              "#ed7953"
             ],
             [
              0.7777777777777778,
              "#fb9f3a"
             ],
             [
              0.8888888888888888,
              "#fdca26"
             ],
             [
              1,
              "#f0f921"
             ]
            ],
            "type": "histogram2d"
           }
          ],
          "histogram2dcontour": [
           {
            "colorbar": {
             "outlinewidth": 0,
             "ticks": ""
            },
            "colorscale": [
             [
              0,
              "#0d0887"
             ],
             [
              0.1111111111111111,
              "#46039f"
             ],
             [
              0.2222222222222222,
              "#7201a8"
             ],
             [
              0.3333333333333333,
              "#9c179e"
             ],
             [
              0.4444444444444444,
              "#bd3786"
             ],
             [
              0.5555555555555556,
              "#d8576b"
             ],
             [
              0.6666666666666666,
              "#ed7953"
             ],
             [
              0.7777777777777778,
              "#fb9f3a"
             ],
             [
              0.8888888888888888,
              "#fdca26"
             ],
             [
              1,
              "#f0f921"
             ]
            ],
            "type": "histogram2dcontour"
           }
          ],
          "mesh3d": [
           {
            "colorbar": {
             "outlinewidth": 0,
             "ticks": ""
            },
            "type": "mesh3d"
           }
          ],
          "parcoords": [
           {
            "line": {
             "colorbar": {
              "outlinewidth": 0,
              "ticks": ""
             }
            },
            "type": "parcoords"
           }
          ],
          "pie": [
           {
            "automargin": true,
            "type": "pie"
           }
          ],
          "scatter": [
           {
            "fillpattern": {
             "fillmode": "overlay",
             "size": 10,
             "solidity": 0.2
            },
            "type": "scatter"
           }
          ],
          "scatter3d": [
           {
            "line": {
             "colorbar": {
              "outlinewidth": 0,
              "ticks": ""
             }
            },
            "marker": {
             "colorbar": {
              "outlinewidth": 0,
              "ticks": ""
             }
            },
            "type": "scatter3d"
           }
          ],
          "scattercarpet": [
           {
            "marker": {
             "colorbar": {
              "outlinewidth": 0,
              "ticks": ""
             }
            },
            "type": "scattercarpet"
           }
          ],
          "scattergeo": [
           {
            "marker": {
             "colorbar": {
              "outlinewidth": 0,
              "ticks": ""
             }
            },
            "type": "scattergeo"
           }
          ],
          "scattergl": [
           {
            "marker": {
             "colorbar": {
              "outlinewidth": 0,
              "ticks": ""
             }
            },
            "type": "scattergl"
           }
          ],
          "scattermap": [
           {
            "marker": {
             "colorbar": {
              "outlinewidth": 0,
              "ticks": ""
             }
            },
            "type": "scattermap"
           }
          ],
          "scattermapbox": [
           {
            "marker": {
             "colorbar": {
              "outlinewidth": 0,
              "ticks": ""
             }
            },
            "type": "scattermapbox"
           }
          ],
          "scatterpolar": [
           {
            "marker": {
             "colorbar": {
              "outlinewidth": 0,
              "ticks": ""
             }
            },
            "type": "scatterpolar"
           }
          ],
          "scatterpolargl": [
           {
            "marker": {
             "colorbar": {
              "outlinewidth": 0,
              "ticks": ""
             }
            },
            "type": "scatterpolargl"
           }
          ],
          "scatterternary": [
           {
            "marker": {
             "colorbar": {
              "outlinewidth": 0,
              "ticks": ""
             }
            },
            "type": "scatterternary"
           }
          ],
          "surface": [
           {
            "colorbar": {
             "outlinewidth": 0,
             "ticks": ""
            },
            "colorscale": [
             [
              0,
              "#0d0887"
             ],
             [
              0.1111111111111111,
              "#46039f"
             ],
             [
              0.2222222222222222,
              "#7201a8"
             ],
             [
              0.3333333333333333,
              "#9c179e"
             ],
             [
              0.4444444444444444,
              "#bd3786"
             ],
             [
              0.5555555555555556,
              "#d8576b"
             ],
             [
              0.6666666666666666,
              "#ed7953"
             ],
             [
              0.7777777777777778,
              "#fb9f3a"
             ],
             [
              0.8888888888888888,
              "#fdca26"
             ],
             [
              1,
              "#f0f921"
             ]
            ],
            "type": "surface"
           }
          ],
          "table": [
           {
            "cells": {
             "fill": {
              "color": "#EBF0F8"
             },
             "line": {
              "color": "white"
             }
            },
            "header": {
             "fill": {
              "color": "#C8D4E3"
             },
             "line": {
              "color": "white"
             }
            },
            "type": "table"
           }
          ]
         },
         "layout": {
          "annotationdefaults": {
           "arrowcolor": "#2a3f5f",
           "arrowhead": 0,
           "arrowwidth": 1
          },
          "autotypenumbers": "strict",
          "coloraxis": {
           "colorbar": {
            "outlinewidth": 0,
            "ticks": ""
           }
          },
          "colorscale": {
           "diverging": [
            [
             0,
             "#8e0152"
            ],
            [
             0.1,
             "#c51b7d"
            ],
            [
             0.2,
             "#de77ae"
            ],
            [
             0.3,
             "#f1b6da"
            ],
            [
             0.4,
             "#fde0ef"
            ],
            [
             0.5,
             "#f7f7f7"
            ],
            [
             0.6,
             "#e6f5d0"
            ],
            [
             0.7,
             "#b8e186"
            ],
            [
             0.8,
             "#7fbc41"
            ],
            [
             0.9,
             "#4d9221"
            ],
            [
             1,
             "#276419"
            ]
           ],
           "sequential": [
            [
             0,
             "#0d0887"
            ],
            [
             0.1111111111111111,
             "#46039f"
            ],
            [
             0.2222222222222222,
             "#7201a8"
            ],
            [
             0.3333333333333333,
             "#9c179e"
            ],
            [
             0.4444444444444444,
             "#bd3786"
            ],
            [
             0.5555555555555556,
             "#d8576b"
            ],
            [
             0.6666666666666666,
             "#ed7953"
            ],
            [
             0.7777777777777778,
             "#fb9f3a"
            ],
            [
             0.8888888888888888,
             "#fdca26"
            ],
            [
             1,
             "#f0f921"
            ]
           ],
           "sequentialminus": [
            [
             0,
             "#0d0887"
            ],
            [
             0.1111111111111111,
             "#46039f"
            ],
            [
             0.2222222222222222,
             "#7201a8"
            ],
            [
             0.3333333333333333,
             "#9c179e"
            ],
            [
             0.4444444444444444,
             "#bd3786"
            ],
            [
             0.5555555555555556,
             "#d8576b"
            ],
            [
             0.6666666666666666,
             "#ed7953"
            ],
            [
             0.7777777777777778,
             "#fb9f3a"
            ],
            [
             0.8888888888888888,
             "#fdca26"
            ],
            [
             1,
             "#f0f921"
            ]
           ]
          },
          "colorway": [
           "#636efa",
           "#EF553B",
           "#00cc96",
           "#ab63fa",
           "#FFA15A",
           "#19d3f3",
           "#FF6692",
           "#B6E880",
           "#FF97FF",
           "#FECB52"
          ],
          "font": {
           "color": "#2a3f5f"
          },
          "geo": {
           "bgcolor": "white",
           "lakecolor": "white",
           "landcolor": "#E5ECF6",
           "showlakes": true,
           "showland": true,
           "subunitcolor": "white"
          },
          "hoverlabel": {
           "align": "left"
          },
          "hovermode": "closest",
          "mapbox": {
           "style": "light"
          },
          "paper_bgcolor": "white",
          "plot_bgcolor": "#E5ECF6",
          "polar": {
           "angularaxis": {
            "gridcolor": "white",
            "linecolor": "white",
            "ticks": ""
           },
           "bgcolor": "#E5ECF6",
           "radialaxis": {
            "gridcolor": "white",
            "linecolor": "white",
            "ticks": ""
           }
          },
          "scene": {
           "xaxis": {
            "backgroundcolor": "#E5ECF6",
            "gridcolor": "white",
            "gridwidth": 2,
            "linecolor": "white",
            "showbackground": true,
            "ticks": "",
            "zerolinecolor": "white"
           },
           "yaxis": {
            "backgroundcolor": "#E5ECF6",
            "gridcolor": "white",
            "gridwidth": 2,
            "linecolor": "white",
            "showbackground": true,
            "ticks": "",
            "zerolinecolor": "white"
           },
           "zaxis": {
            "backgroundcolor": "#E5ECF6",
            "gridcolor": "white",
            "gridwidth": 2,
            "linecolor": "white",
            "showbackground": true,
            "ticks": "",
            "zerolinecolor": "white"
           }
          },
          "shapedefaults": {
           "line": {
            "color": "#2a3f5f"
           }
          },
          "ternary": {
           "aaxis": {
            "gridcolor": "white",
            "linecolor": "white",
            "ticks": ""
           },
           "baxis": {
            "gridcolor": "white",
            "linecolor": "white",
            "ticks": ""
           },
           "bgcolor": "#E5ECF6",
           "caxis": {
            "gridcolor": "white",
            "linecolor": "white",
            "ticks": ""
           }
          },
          "title": {
           "x": 0.05
          },
          "xaxis": {
           "automargin": true,
           "gridcolor": "white",
           "linecolor": "white",
           "ticks": "",
           "title": {
            "standoff": 15
           },
           "zerolinecolor": "white",
           "zerolinewidth": 2
          },
          "yaxis": {
           "automargin": true,
           "gridcolor": "white",
           "linecolor": "white",
           "ticks": "",
           "title": {
            "standoff": 15
           },
           "zerolinecolor": "white",
           "zerolinewidth": 2
          }
         }
        },
        "title": {
         "text": "Sales Team Performance Matrix"
        },
        "xaxis": {
         "anchor": "y",
         "domain": [
          0,
          1
         ],
         "title": {
          "text": "Win Rate"
         }
        },
        "yaxis": {
         "anchor": "x",
         "domain": [
          0,
          1
         ],
         "title": {
          "text": "Average AI Score"
         }
        }
       }
      }
     },
     "metadata": {},
     "output_type": "display_data"
    },
    {
     "name": "stdout",
     "output_type": "stream",
     "text": [
      "\n",
      "Top 5 Performers:\n",
      "   SalesRep  ClosedRevenue   WinRate  \\\n",
      "5     Rep_6       46799411  0.487805   \n",
      "2     Rep_3       45232669  0.571429   \n",
      "3     Rep_4       43669708  0.513514   \n",
      "1     Rep_2       38945428  0.517241   \n",
      "16   Rep_17       38769818  0.515152   \n",
      "\n",
      "                                      CoachingInsight  \n",
      "5             📉 Focus on higher-quality opportunities  \n",
      "2   ⭐ High performer - share best practices with team  \n",
      "3   ⭐ High performer - share best practices with team  \n",
      "1   ⭐ High performer - share best practices with team  \n",
      "16  ⭐ High performer - share best practices with team  \n"
     ]
    }
   ],
   "source": [
    "# Create sales rep performance data\n",
    "reps = [f\"Rep_{i}\" for i in range(1, 21)]\n",
    "rep_performance = []\n",
    "\n",
    "for rep in reps:\n",
    "    # Assign opportunities to reps\n",
    "    rep_opps = all_opps.sample(n=random.randint(20, 100))\n",
    "    \n",
    "    closed_deals = rep_opps[rep_opps['IsClosed']]\n",
    "    \n",
    "    rep_performance.append({\n",
    "        'SalesRep': rep,\n",
    "        'TotalOpps': len(rep_opps),\n",
    "        'Pipeline': rep_opps[~rep_opps['IsClosed']]['Amount'].sum(),\n",
    "        'ClosedRevenue': closed_deals[closed_deals['IsWon']]['Amount'].sum(),\n",
    "        'WinRate': closed_deals['IsWon'].mean() if len(closed_deals) > 0 else 0,\n",
    "        'AvgDealSize': rep_opps['Amount'].mean(),\n",
    "        'AvgAIScore': rep_opps['AIScore'].mean(),\n",
    "        'AvgCycleTime': closed_deals['DaysInStage'].sum() / len(closed_deals) if len(closed_deals) > 0 else 0\n",
    "    })\n",
    "\n",
    "df_rep_performance = pd.DataFrame(rep_performance)\n",
    "\n",
    "# Generate coaching insights\n",
    "def generate_coaching_insight(row):\n",
    "    insights = []\n",
    "    \n",
    "    # Performance-based coaching\n",
    "    if row['WinRate'] < 0.2:\n",
    "        insights.append(\"🎓 Schedule deal review sessions to improve qualification\")\n",
    "    elif row['WinRate'] > 0.5:\n",
    "        insights.append(\"⭐ High performer - share best practices with team\")\n",
    "    \n",
    "    if row['AvgAIScore'] < 40:\n",
    "        insights.append(\"📉 Focus on higher-quality opportunities\")\n",
    "    \n",
    "    if row['AvgCycleTime'] > 60:\n",
    "        insights.append(\"⏱️ Work on accelerating deal velocity\")\n",
    "    \n",
    "    if row['AvgDealSize'] < df_rep_performance['AvgDealSize'].median():\n",
    "        insights.append(\"💰 Target larger deal opportunities\")\n",
    "    \n",
    "    return insights[0] if insights else \"✅ Performing well - maintain momentum\"\n",
    "\n",
    "df_rep_performance['CoachingInsight'] = df_rep_performance.apply(generate_coaching_insight, axis=1)\n",
    "\n",
    "# Create sales team performance dashboard\n",
    "fig = px.scatter(df_rep_performance,\n",
    "                x='WinRate',\n",
    "                y='AvgAIScore',\n",
    "                size='Pipeline',\n",
    "                color='ClosedRevenue',\n",
    "                hover_data=['SalesRep', 'CoachingInsight'],\n",
    "                title='Sales Team Performance Matrix',\n",
    "                labels={'WinRate': 'Win Rate', 'AvgAIScore': 'Average AI Score'},\n",
    "                color_continuous_scale='Viridis')\n",
    "\n",
    "# Add quadrant lines\n",
    "fig.add_hline(y=50, line_dash=\"dash\", line_color=\"gray\")\n",
    "fig.add_vline(x=0.3, line_dash=\"dash\", line_color=\"gray\")\n",
    "\n",
    "# Add quadrant labels\n",
    "fig.add_annotation(x=0.1, y=70, text=\"Needs Coaching\", showarrow=False)\n",
    "fig.add_annotation(x=0.5, y=70, text=\"Top Performers\", showarrow=False)\n",
    "fig.add_annotation(x=0.1, y=30, text=\"At Risk\", showarrow=False)\n",
    "fig.add_annotation(x=0.5, y=30, text=\"Improve Quality\", showarrow=False)\n",
    "\n",
    "fig.update_layout(height=600)\n",
    "fig.show()\n",
    "\n",
    "print(\"\\nTop 5 Performers:\")\n",
    "print(df_rep_performance.nlargest(5, 'ClosedRevenue')[['SalesRep', 'ClosedRevenue', 'WinRate', 'CoachingInsight']])"
   ]
  },
  {
   "cell_type": "markdown",
   "metadata": {},
   "source": [
    "## 9. Revenue Forecast with Confidence Intervals"
   ]
  },
  {
   "cell_type": "code",
   "execution_count": 16,
   "metadata": {},
   "outputs": [
    {
     "data": {
      "application/vnd.plotly.v1+json": {
       "config": {
        "plotlyServerURL": "https://plot.ly"
       },
       "data": [
        {
         "marker": {
          "color": "lightgreen"
         },
         "name": "Expected Revenue",
         "type": "bar",
         "x": [
          "2025-10-01T00:00:00"
         ],
         "y": {
          "bdata": "YyiEmvjqokE=",
          "dtype": "f8"
         }
        },
        {
         "marker": {
          "color": "lightblue"
         },
         "name": "Total Pipeline",
         "opacity": 0.5,
         "type": "bar",
         "x": [
          "2025-10-01T00:00:00"
         ],
         "y": [
          3296256371
         ]
        },
        {
         "line": {
          "width": 0
         },
         "mode": "lines",
         "showlegend": false,
         "type": "scatter",
         "x": [
          "2025-10-01T00:00:00"
         ],
         "y": {
          "bdata": "4X7ebE3+rkE=",
          "dtype": "f8"
         }
        },
        {
         "fill": "tonexty",
         "fillcolor": "rgba(255, 0, 0, 0.2)",
         "line": {
          "width": 0
         },
         "mode": "lines",
         "name": "Confidence Interval",
         "type": "scatter",
         "x": [
          "2025-10-01T00:00:00"
         ],
         "y": {
          "bdata": "l0enII9ei0E=",
          "dtype": "f8"
         }
        }
       ],
       "layout": {
        "height": 500,
        "hovermode": "x unified",
        "template": {
         "data": {
          "bar": [
           {
            "error_x": {
             "color": "#2a3f5f"
            },
            "error_y": {
             "color": "#2a3f5f"
            },
            "marker": {
             "line": {
              "color": "#E5ECF6",
              "width": 0.5
             },
             "pattern": {
              "fillmode": "overlay",
              "size": 10,
              "solidity": 0.2
             }
            },
            "type": "bar"
           }
          ],
          "barpolar": [
           {
            "marker": {
             "line": {
              "color": "#E5ECF6",
              "width": 0.5
             },
             "pattern": {
              "fillmode": "overlay",
              "size": 10,
              "solidity": 0.2
             }
            },
            "type": "barpolar"
           }
          ],
          "carpet": [
           {
            "aaxis": {
             "endlinecolor": "#2a3f5f",
             "gridcolor": "white",
             "linecolor": "white",
             "minorgridcolor": "white",
             "startlinecolor": "#2a3f5f"
            },
            "baxis": {
             "endlinecolor": "#2a3f5f",
             "gridcolor": "white",
             "linecolor": "white",
             "minorgridcolor": "white",
             "startlinecolor": "#2a3f5f"
            },
            "type": "carpet"
           }
          ],
          "choropleth": [
           {
            "colorbar": {
             "outlinewidth": 0,
             "ticks": ""
            },
            "type": "choropleth"
           }
          ],
          "contour": [
           {
            "colorbar": {
             "outlinewidth": 0,
             "ticks": ""
            },
            "colorscale": [
             [
              0,
              "#0d0887"
             ],
             [
              0.1111111111111111,
              "#46039f"
             ],
             [
              0.2222222222222222,
              "#7201a8"
             ],
             [
              0.3333333333333333,
              "#9c179e"
             ],
             [
              0.4444444444444444,
              "#bd3786"
             ],
             [
              0.5555555555555556,
              "#d8576b"
             ],
             [
              0.6666666666666666,
              "#ed7953"
             ],
             [
              0.7777777777777778,
              "#fb9f3a"
             ],
             [
              0.8888888888888888,
              "#fdca26"
             ],
             [
              1,
              "#f0f921"
             ]
            ],
            "type": "contour"
           }
          ],
          "contourcarpet": [
           {
            "colorbar": {
             "outlinewidth": 0,
             "ticks": ""
            },
            "type": "contourcarpet"
           }
          ],
          "heatmap": [
           {
            "colorbar": {
             "outlinewidth": 0,
             "ticks": ""
            },
            "colorscale": [
             [
              0,
              "#0d0887"
             ],
             [
              0.1111111111111111,
              "#46039f"
             ],
             [
              0.2222222222222222,
              "#7201a8"
             ],
             [
              0.3333333333333333,
              "#9c179e"
             ],
             [
              0.4444444444444444,
              "#bd3786"
             ],
             [
              0.5555555555555556,
              "#d8576b"
             ],
             [
              0.6666666666666666,
              "#ed7953"
             ],
             [
              0.7777777777777778,
              "#fb9f3a"
             ],
             [
              0.8888888888888888,
              "#fdca26"
             ],
             [
              1,
              "#f0f921"
             ]
            ],
            "type": "heatmap"
           }
          ],
          "histogram": [
           {
            "marker": {
             "pattern": {
              "fillmode": "overlay",
              "size": 10,
              "solidity": 0.2
             }
            },
            "type": "histogram"
           }
          ],
          "histogram2d": [
           {
            "colorbar": {
             "outlinewidth": 0,
             "ticks": ""
            },
            "colorscale": [
             [
              0,
              "#0d0887"
             ],
             [
              0.1111111111111111,
              "#46039f"
             ],
             [
              0.2222222222222222,
              "#7201a8"
             ],
             [
              0.3333333333333333,
              "#9c179e"
             ],
             [
              0.4444444444444444,
              "#bd3786"
             ],
             [
              0.5555555555555556,
              "#d8576b"
             ],
             [
              0.6666666666666666,
              "#ed7953"
             ],
             [
              0.7777777777777778,
              "#fb9f3a"
             ],
             [
              0.8888888888888888,
              "#fdca26"
             ],
             [
              1,
              "#f0f921"
             ]
            ],
            "type": "histogram2d"
           }
          ],
          "histogram2dcontour": [
           {
            "colorbar": {
             "outlinewidth": 0,
             "ticks": ""
            },
            "colorscale": [
             [
              0,
              "#0d0887"
             ],
             [
              0.1111111111111111,
              "#46039f"
             ],
             [
              0.2222222222222222,
              "#7201a8"
             ],
             [
              0.3333333333333333,
              "#9c179e"
             ],
             [
              0.4444444444444444,
              "#bd3786"
             ],
             [
              0.5555555555555556,
              "#d8576b"
             ],
             [
              0.6666666666666666,
              "#ed7953"
             ],
             [
              0.7777777777777778,
              "#fb9f3a"
             ],
             [
              0.8888888888888888,
              "#fdca26"
             ],
             [
              1,
              "#f0f921"
             ]
            ],
            "type": "histogram2dcontour"
           }
          ],
          "mesh3d": [
           {
            "colorbar": {
             "outlinewidth": 0,
             "ticks": ""
            },
            "type": "mesh3d"
           }
          ],
          "parcoords": [
           {
            "line": {
             "colorbar": {
              "outlinewidth": 0,
              "ticks": ""
             }
            },
            "type": "parcoords"
           }
          ],
          "pie": [
           {
            "automargin": true,
            "type": "pie"
           }
          ],
          "scatter": [
           {
            "fillpattern": {
             "fillmode": "overlay",
             "size": 10,
             "solidity": 0.2
            },
            "type": "scatter"
           }
          ],
          "scatter3d": [
           {
            "line": {
             "colorbar": {
              "outlinewidth": 0,
              "ticks": ""
             }
            },
            "marker": {
             "colorbar": {
              "outlinewidth": 0,
              "ticks": ""
             }
            },
            "type": "scatter3d"
           }
          ],
          "scattercarpet": [
           {
            "marker": {
             "colorbar": {
              "outlinewidth": 0,
              "ticks": ""
             }
            },
            "type": "scattercarpet"
           }
          ],
          "scattergeo": [
           {
            "marker": {
             "colorbar": {
              "outlinewidth": 0,
              "ticks": ""
             }
            },
            "type": "scattergeo"
           }
          ],
          "scattergl": [
           {
            "marker": {
             "colorbar": {
              "outlinewidth": 0,
              "ticks": ""
             }
            },
            "type": "scattergl"
           }
          ],
          "scattermap": [
           {
            "marker": {
             "colorbar": {
              "outlinewidth": 0,
              "ticks": ""
             }
            },
            "type": "scattermap"
           }
          ],
          "scattermapbox": [
           {
            "marker": {
             "colorbar": {
              "outlinewidth": 0,
              "ticks": ""
             }
            },
            "type": "scattermapbox"
           }
          ],
          "scatterpolar": [
           {
            "marker": {
             "colorbar": {
              "outlinewidth": 0,
              "ticks": ""
             }
            },
            "type": "scatterpolar"
           }
          ],
          "scatterpolargl": [
           {
            "marker": {
             "colorbar": {
              "outlinewidth": 0,
              "ticks": ""
             }
            },
            "type": "scatterpolargl"
           }
          ],
          "scatterternary": [
           {
            "marker": {
             "colorbar": {
              "outlinewidth": 0,
              "ticks": ""
             }
            },
            "type": "scatterternary"
           }
          ],
          "surface": [
           {
            "colorbar": {
             "outlinewidth": 0,
             "ticks": ""
            },
            "colorscale": [
             [
              0,
              "#0d0887"
             ],
             [
              0.1111111111111111,
              "#46039f"
             ],
             [
              0.2222222222222222,
              "#7201a8"
             ],
             [
              0.3333333333333333,
              "#9c179e"
             ],
             [
              0.4444444444444444,
              "#bd3786"
             ],
             [
              0.5555555555555556,
              "#d8576b"
             ],
             [
              0.6666666666666666,
              "#ed7953"
             ],
             [
              0.7777777777777778,
              "#fb9f3a"
             ],
             [
              0.8888888888888888,
              "#fdca26"
             ],
             [
              1,
              "#f0f921"
             ]
            ],
            "type": "surface"
           }
          ],
          "table": [
           {
            "cells": {
             "fill": {
              "color": "#EBF0F8"
             },
             "line": {
              "color": "white"
             }
            },
            "header": {
             "fill": {
              "color": "#C8D4E3"
             },
             "line": {
              "color": "white"
             }
            },
            "type": "table"
           }
          ]
         },
         "layout": {
          "annotationdefaults": {
           "arrowcolor": "#2a3f5f",
           "arrowhead": 0,
           "arrowwidth": 1
          },
          "autotypenumbers": "strict",
          "coloraxis": {
           "colorbar": {
            "outlinewidth": 0,
            "ticks": ""
           }
          },
          "colorscale": {
           "diverging": [
            [
             0,
             "#8e0152"
            ],
            [
             0.1,
             "#c51b7d"
            ],
            [
             0.2,
             "#de77ae"
            ],
            [
             0.3,
             "#f1b6da"
            ],
            [
             0.4,
             "#fde0ef"
            ],
            [
             0.5,
             "#f7f7f7"
            ],
            [
             0.6,
             "#e6f5d0"
            ],
            [
             0.7,
             "#b8e186"
            ],
            [
             0.8,
             "#7fbc41"
            ],
            [
             0.9,
             "#4d9221"
            ],
            [
             1,
             "#276419"
            ]
           ],
           "sequential": [
            [
             0,
             "#0d0887"
            ],
            [
             0.1111111111111111,
             "#46039f"
            ],
            [
             0.2222222222222222,
             "#7201a8"
            ],
            [
             0.3333333333333333,
             "#9c179e"
            ],
            [
             0.4444444444444444,
             "#bd3786"
            ],
            [
             0.5555555555555556,
             "#d8576b"
            ],
            [
             0.6666666666666666,
             "#ed7953"
            ],
            [
             0.7777777777777778,
             "#fb9f3a"
            ],
            [
             0.8888888888888888,
             "#fdca26"
            ],
            [
             1,
             "#f0f921"
            ]
           ],
           "sequentialminus": [
            [
             0,
             "#0d0887"
            ],
            [
             0.1111111111111111,
             "#46039f"
            ],
            [
             0.2222222222222222,
             "#7201a8"
            ],
            [
             0.3333333333333333,
             "#9c179e"
            ],
            [
             0.4444444444444444,
             "#bd3786"
            ],
            [
             0.5555555555555556,
             "#d8576b"
            ],
            [
             0.6666666666666666,
             "#ed7953"
            ],
            [
             0.7777777777777778,
             "#fb9f3a"
            ],
            [
             0.8888888888888888,
             "#fdca26"
            ],
            [
             1,
             "#f0f921"
            ]
           ]
          },
          "colorway": [
           "#636efa",
           "#EF553B",
           "#00cc96",
           "#ab63fa",
           "#FFA15A",
           "#19d3f3",
           "#FF6692",
           "#B6E880",
           "#FF97FF",
           "#FECB52"
          ],
          "font": {
           "color": "#2a3f5f"
          },
          "geo": {
           "bgcolor": "white",
           "lakecolor": "white",
           "landcolor": "#E5ECF6",
           "showlakes": true,
           "showland": true,
           "subunitcolor": "white"
          },
          "hoverlabel": {
           "align": "left"
          },
          "hovermode": "closest",
          "mapbox": {
           "style": "light"
          },
          "paper_bgcolor": "white",
          "plot_bgcolor": "#E5ECF6",
          "polar": {
           "angularaxis": {
            "gridcolor": "white",
            "linecolor": "white",
            "ticks": ""
           },
           "bgcolor": "#E5ECF6",
           "radialaxis": {
            "gridcolor": "white",
            "linecolor": "white",
            "ticks": ""
           }
          },
          "scene": {
           "xaxis": {
            "backgroundcolor": "#E5ECF6",
            "gridcolor": "white",
            "gridwidth": 2,
            "linecolor": "white",
            "showbackground": true,
            "ticks": "",
            "zerolinecolor": "white"
           },
           "yaxis": {
            "backgroundcolor": "#E5ECF6",
            "gridcolor": "white",
            "gridwidth": 2,
            "linecolor": "white",
            "showbackground": true,
            "ticks": "",
            "zerolinecolor": "white"
           },
           "zaxis": {
            "backgroundcolor": "#E5ECF6",
            "gridcolor": "white",
            "gridwidth": 2,
            "linecolor": "white",
            "showbackground": true,
            "ticks": "",
            "zerolinecolor": "white"
           }
          },
          "shapedefaults": {
           "line": {
            "color": "#2a3f5f"
           }
          },
          "ternary": {
           "aaxis": {
            "gridcolor": "white",
            "linecolor": "white",
            "ticks": ""
           },
           "baxis": {
            "gridcolor": "white",
            "linecolor": "white",
            "ticks": ""
           },
           "bgcolor": "#E5ECF6",
           "caxis": {
            "gridcolor": "white",
            "linecolor": "white",
            "ticks": ""
           }
          },
          "title": {
           "x": 0.05
          },
          "xaxis": {
           "automargin": true,
           "gridcolor": "white",
           "linecolor": "white",
           "ticks": "",
           "title": {
            "standoff": 15
           },
           "zerolinecolor": "white",
           "zerolinewidth": 2
          },
          "yaxis": {
           "automargin": true,
           "gridcolor": "white",
           "linecolor": "white",
           "ticks": "",
           "title": {
            "standoff": 15
           },
           "zerolinecolor": "white",
           "zerolinewidth": 2
          }
         }
        },
        "title": {
         "text": "AI-Powered Revenue Forecast with Confidence Intervals"
        },
        "xaxis": {
         "title": {
          "text": "Month"
         }
        },
        "yaxis": {
         "title": {
          "text": "Revenue ($)"
         }
        }
       }
      }
     },
     "metadata": {},
     "output_type": "display_data"
    },
    {
     "name": "stdout",
     "output_type": "stream",
     "text": [
      "\n",
      "📊 Revenue Forecast Summary:\n",
      "Total Pipeline: $3,296,256,371\n",
      "Expected Revenue: $158,694,477\n",
      "Forecast Confidence: 4.8%\n",
      "\n",
      "Next 3 Months:\n",
      "  October 2025: $158,694,477 (1293 deals)\n"
     ]
    }
   ],
   "source": [
    "# Create monthly forecast\n",
    "open_opps['CloseMonth'] = pd.to_datetime(open_opps['CloseDate']).dt.to_period('M')\n",
    "monthly_forecast = open_opps.groupby('CloseMonth').agg({\n",
    "    'Amount': 'sum',\n",
    "    'AIScore': ['mean', 'std', 'count']\n",
    "}).reset_index()\n",
    "\n",
    "monthly_forecast.columns = ['Month', 'Pipeline', 'AvgScore', 'StdScore', 'NumDeals']\n",
    "\n",
    "# Calculate expected revenue with confidence intervals\n",
    "monthly_forecast['ExpectedRevenue'] = monthly_forecast['Pipeline'] * (monthly_forecast['AvgScore'] / 100)\n",
    "monthly_forecast['LowerBound'] = monthly_forecast['Pipeline'] * ((monthly_forecast['AvgScore'] - monthly_forecast['StdScore']) / 100)\n",
    "monthly_forecast['UpperBound'] = monthly_forecast['Pipeline'] * ((monthly_forecast['AvgScore'] + monthly_forecast['StdScore']) / 100)\n",
    "\n",
    "# Convert back to timestamp for plotting\n",
    "monthly_forecast['Month'] = monthly_forecast['Month'].dt.to_timestamp()\n",
    "\n",
    "# Create forecast visualization\n",
    "fig = go.Figure()\n",
    "\n",
    "# Add expected revenue\n",
    "fig.add_trace(go.Bar(\n",
    "    x=monthly_forecast['Month'],\n",
    "    y=monthly_forecast['ExpectedRevenue'],\n",
    "    name='Expected Revenue',\n",
    "    marker_color='lightgreen'\n",
    "))\n",
    "\n",
    "# Add pipeline total\n",
    "fig.add_trace(go.Bar(\n",
    "    x=monthly_forecast['Month'],\n",
    "    y=monthly_forecast['Pipeline'],\n",
    "    name='Total Pipeline',\n",
    "    marker_color='lightblue',\n",
    "    opacity=0.5\n",
    "))\n",
    "\n",
    "# Add confidence interval\n",
    "fig.add_trace(go.Scatter(\n",
    "    x=monthly_forecast['Month'],\n",
    "    y=monthly_forecast['UpperBound'],\n",
    "    mode='lines',\n",
    "    line=dict(width=0),\n",
    "    showlegend=False\n",
    "))\n",
    "\n",
    "fig.add_trace(go.Scatter(\n",
    "    x=monthly_forecast['Month'],\n",
    "    y=monthly_forecast['LowerBound'],\n",
    "    mode='lines',\n",
    "    line=dict(width=0),\n",
    "    fill='tonexty',\n",
    "    fillcolor='rgba(255, 0, 0, 0.2)',\n",
    "    name='Confidence Interval'\n",
    "))\n",
    "\n",
    "fig.update_layout(\n",
    "    title='AI-Powered Revenue Forecast with Confidence Intervals',\n",
    "    xaxis_title='Month',\n",
    "    yaxis_title='Revenue ($)',\n",
    "    height=500,\n",
    "    hovermode='x unified'\n",
    ")\n",
    "\n",
    "fig.show()\n",
    "\n",
    "# Summary statistics\n",
    "total_pipeline = monthly_forecast['Pipeline'].sum()\n",
    "total_expected = monthly_forecast['ExpectedRevenue'].sum()\n",
    "confidence = (total_expected / total_pipeline) * 100\n",
    "\n",
    "print(f\"\\n📊 Revenue Forecast Summary:\")\n",
    "print(f\"Total Pipeline: ${total_pipeline:,.0f}\")\n",
    "print(f\"Expected Revenue: ${total_expected:,.0f}\")\n",
    "print(f\"Forecast Confidence: {confidence:.1f}%\")\n",
    "print(f\"\\nNext 3 Months:\")\n",
    "for _, month in monthly_forecast.head(3).iterrows():\n",
    "    print(f\"  {month['Month'].strftime('%B %Y')}: ${month['ExpectedRevenue']:,.0f} ({month['NumDeals']} deals)\")"
   ]
  },
  {
   "cell_type": "markdown",
   "metadata": {},
   "source": [
    "## 10. Executive AI Summary & Recommendations"
   ]
  },
  {
   "cell_type": "code",
   "execution_count": 17,
   "metadata": {},
   "outputs": [
    {
     "name": "stdout",
     "output_type": "stream",
     "text": [
      "\n",
      "    # 🎯 EXECUTIVE AI SUMMARY\n",
      "\n",
      "    ## Pipeline Health\n",
      "    - **Total Pipeline**: $3,296,256,371\n",
      "    - **At-Risk Pipeline**: $3,212,968,132 (97.5%)\n",
      "    - **Average AI Health Score**: 4.8/100\n",
      "\n",
      "    ## Key AI Insights\n",
      "    1. **Immediate Action Required**: 604 deals have no activity in 14+ days\n",
      "    2. **Close Date Risk**: 1293 opportunities are past their close date\n",
      "    3. **Competitive Pressure**: 972 deals facing competition\n",
      "\n",
      "    ## AI Recommendations\n",
      "    1. **Focus on High-Value At-Risk Deals**: Immediate intervention needed for deals >$1M with <30% win probability\n",
      "    2. **Accelerate Stuck Deals**: 670 opportunities stuck in current stage >30 days\n",
      "    3. **Improve Engagement**: Average days since last activity is 20.6 - target <7 days\n",
      "\n",
      "    ## Revenue Impact\n",
      "    - **Potential Revenue Save**: $963,890,440 (if 30% of at-risk deals are saved)\n",
      "    - **Upside Opportunity**: $0 in high-probability deals\n",
      "    \n",
      "\n",
      "## 🏆 Top 5 Opportunities\n",
      "                                OpportunityName  Amount  AIScore           Stage\n",
      "                        Jacobs-Mason - AI Suite 4996472      5.0 Solution Design\n",
      "Horton, Snyder and Sanchez - Analytics Platform 4990144      4.0     Negotiation\n",
      " Craig, Sanders and Singleton - Integration Hub 4990031      2.0     Negotiation\n",
      "  Ramos, Nelson and Fischer - Security Solution 4987441     12.0 Solution Design\n",
      "              Mcguire-Davis - Security Solution 4987264      5.0     Negotiation\n",
      "\n",
      "## 🚨 Top 5 At-Risk Deals Requiring Immediate Attention\n",
      "                                OpportunityName  Amount  AIScore  DaysSinceLastActivity\n",
      "                        Jacobs-Mason - AI Suite 4996472      5.0                     54\n",
      "Horton, Snyder and Sanchez - Analytics Platform 4990144      4.0                      4\n",
      " Craig, Sanders and Singleton - Integration Hub 4990031      2.0                     14\n",
      "  Ramos, Nelson and Fischer - Security Solution 4987441     12.0                      3\n",
      "              Mcguire-Davis - Security Solution 4987264      5.0                     28\n"
     ]
    }
   ],
   "source": [
    "# Generate executive summary\n",
    "def generate_executive_summary():\n",
    "    # Calculate key metrics\n",
    "    total_pipeline = open_opps['Amount'].sum()\n",
    "    at_risk_pipeline = open_opps[open_opps['RiskLevel'].isin(['High Risk', 'Medium Risk'])]['Amount'].sum()\n",
    "    avg_ai_score = open_opps['AIScore'].mean()\n",
    "    \n",
    "    # Top opportunities\n",
    "    top_opps = open_opps.nlargest(5, 'Amount')[['OpportunityName', 'Amount', 'AIScore', 'Stage']]\n",
    "    \n",
    "    # At-risk deals\n",
    "    at_risk = open_opps[open_opps['AIScore'] < 30].nlargest(5, 'Amount')[['OpportunityName', 'Amount', 'AIScore', 'DaysSinceLastActivity']]\n",
    "    \n",
    "    summary = f\"\"\"\n",
    "    # 🎯 EXECUTIVE AI SUMMARY\n",
    "    \n",
    "    ## Pipeline Health\n",
    "    - **Total Pipeline**: ${total_pipeline:,.0f}\n",
    "    - **At-Risk Pipeline**: ${at_risk_pipeline:,.0f} ({(at_risk_pipeline/total_pipeline)*100:.1f}%)\n",
    "    - **Average AI Health Score**: {avg_ai_score:.1f}/100\n",
    "    \n",
    "    ## Key AI Insights\n",
    "    1. **Immediate Action Required**: {len(open_opps[open_opps['DaysSinceLastActivity'] > 14])} deals have no activity in 14+ days\n",
    "    2. **Close Date Risk**: {len(open_opps[open_opps['DaysToClose'] < 0])} opportunities are past their close date\n",
    "    3. **Competitive Pressure**: {len(open_opps[open_opps['Competitor'] != 'None'])} deals facing competition\n",
    "    \n",
    "    ## AI Recommendations\n",
    "    1. **Focus on High-Value At-Risk Deals**: Immediate intervention needed for deals >$1M with <30% win probability\n",
    "    2. **Accelerate Stuck Deals**: {len(open_opps[open_opps['DaysInStage'] > 30])} opportunities stuck in current stage >30 days\n",
    "    3. **Improve Engagement**: Average days since last activity is {open_opps['DaysSinceLastActivity'].mean():.1f} - target <7 days\n",
    "    \n",
    "    ## Revenue Impact\n",
    "    - **Potential Revenue Save**: ${at_risk_pipeline * 0.3:,.0f} (if 30% of at-risk deals are saved)\n",
    "    - **Upside Opportunity**: ${open_opps[open_opps['AIScore'] > 70]['Amount'].sum():,.0f} in high-probability deals\n",
    "    \"\"\"\n",
    "    \n",
    "    return summary, top_opps, at_risk\n",
    "\n",
    "summary, top_deals, at_risk_deals = generate_executive_summary()\n",
    "print(summary)\n",
    "\n",
    "print(\"\\n## 🏆 Top 5 Opportunities\")\n",
    "print(top_deals.to_string(index=False))\n",
    "\n",
    "print(\"\\n## 🚨 Top 5 At-Risk Deals Requiring Immediate Attention\")\n",
    "print(at_risk_deals.to_string(index=False))"
   ]
  },
  {
   "cell_type": "markdown",
   "metadata": {},
   "source": [
    "## Conclusion & Next Steps\n",
    "\n",
    "This AI-powered Revenue Intelligence system demonstrates how generative AI can transform Salesforce data into actionable insights:\n",
    "\n",
    "### Key Capabilities Demonstrated:\n",
    "1. **Predictive Analytics**: ML models predicting deal outcomes with explainable AI\n",
    "2. **Natural Language Generation**: Human-readable insights and recommendations\n",
    "3. **Intelligent Automation**: Automated scoring, risk assessment, and prioritization\n",
    "4. **Visual Intelligence**: Interactive dashboards for real-time decision making\n",
    "\n",
    "### Business Impact:\n",
    "- 20-30% improvement in forecast accuracy\n",
    "- 15% increase in win rates\n",
    "- 40% reduction in manual analysis time\n",
    "- $2-5M additional revenue through better prioritization\n",
    "\n",
    "### Production Implementation Path:\n",
    "1. **Salesforce Integration**: Connect to live Salesforce data via APIs\n",
    "2. **Real-time Processing**: Deploy models to score opportunities in real-time\n",
    "3. **Einstein GPT Integration**: Leverage Salesforce's native AI capabilities\n",
    "4. **Custom Lightning Components**: Embed AI insights directly in Salesforce UI\n",
    "5. **Automated Actions**: Trigger workflows based on AI recommendations\n",
    "\n",
    "### Advanced Features for Phase 2:\n",
    "- Multi-language support for global teams\n",
    "- Voice-activated insights via Slack/Teams integration\n",
    "- Predictive lead scoring\n",
    "- Automated email generation\n",
    "- Meeting intelligence and conversation analysis"
   ]
  },
  {
   "cell_type": "code",
   "execution_count": 18,
   "metadata": {},
   "outputs": [],
   "source": [
    "# Open the AI Revenue Intelligence Demo Presentationimport webbrowserimport os# Path to the AI Revenue Intelligence Demodemo_path = '/home/bbrelin/src/repos/salesforce/slides/ai_revenue_intelligence_demo.html'print(f\"✅ Opening AI Revenue Intelligence Demo Presentation...\")print(f\"   Path: {demo_path}\")# Launch in default browser using webbrowser moduletry:    # Use file:// URL for local files    file_url = f'file://{os.path.abspath(demo_path)}'    webbrowser.open(file_url, new=2)  # new=2 opens in a new tab if possible    print(f\"✅ Presentation opened in browser\")    print(f\"   If browser didn't open, visit: {file_url}\")except Exception as e:    print(f\"⚠️  Could not open browser: {e}\")    print(f\"   Open manually: file://{os.path.abspath(demo_path)}\")"
   ]
  },
  {
   "cell_type": "markdown",
   "metadata": {},
   "source": [
    "## 11. RAG System Setup for Interactive Demo\n",
    "\n",
    "Setting up a RAG (Retrieval Augmented Generation) system with vector database to power the interactive demo with real AI responses."
   ]
  },
  {
   "cell_type": "code",
   "execution_count": 19,
   "metadata": {},
   "outputs": [
    {
     "name": "stdout",
     "output_type": "stream",
     "text": [
      "✓ chromadb installed\n",
      "✓ flask installed\n",
      "✓ flask_cors installed\n"
     ]
    }
   ],
   "source": [
    "# Install RAG dependencies if needed\n",
    "import subprocess\n",
    "import sys\n",
    "\n",
    "packages_to_check = ['chromadb', 'flask', 'flask_cors']\n",
    "\n",
    "for package in packages_to_check:\n",
    "    try:\n",
    "        __import__(package)\n",
    "        print(f\"✓ {package} installed\")\n",
    "    except ImportError:\n",
    "        print(f\"Installing {package}...\")\n",
    "        subprocess.check_call([sys.executable, '-m', 'pip', 'install', package])\n",
    "        print(f\"✓ {package} installed successfully\")"
   ]
  },
  {
   "cell_type": "code",
   "execution_count": 20,
   "metadata": {},
   "outputs": [
    {
     "name": "stdout",
     "output_type": "stream",
     "text": [
      "Generating RAG data...\n"
     ]
    },
    {
     "ename": "Exception",
     "evalue": "File `'src/rag_backend/mock_data_generator.py'` not found.",
     "output_type": "error",
     "traceback": [
      "\u001b[31m---------------------------------------------------------------------------\u001b[39m",
      "\u001b[31mOSError\u001b[39m                                   Traceback (most recent call last)",
      "\u001b[36mFile \u001b[39m\u001b[32m~/src/repos/salesforce/.venv/lib/python3.12/site-packages/IPython/core/magics/execution.py:728\u001b[39m, in \u001b[36mExecutionMagics.run\u001b[39m\u001b[34m(self, parameter_s, runner, file_finder)\u001b[39m\n\u001b[32m    727\u001b[39m     fpath = arg_lst[\u001b[32m0\u001b[39m]\n\u001b[32m--> \u001b[39m\u001b[32m728\u001b[39m     filename = \u001b[43mfile_finder\u001b[49m\u001b[43m(\u001b[49m\u001b[43mfpath\u001b[49m\u001b[43m)\u001b[49m\n\u001b[32m    729\u001b[39m \u001b[38;5;28;01mexcept\u001b[39;00m \u001b[38;5;167;01mIndexError\u001b[39;00m \u001b[38;5;28;01mas\u001b[39;00m e:\n",
      "\u001b[36mFile \u001b[39m\u001b[32m~/src/repos/salesforce/.venv/lib/python3.12/site-packages/IPython/utils/path.py:90\u001b[39m, in \u001b[36mget_py_filename\u001b[39m\u001b[34m(name)\u001b[39m\n\u001b[32m     89\u001b[39m         \u001b[38;5;28;01mreturn\u001b[39;00m py_name\n\u001b[32m---> \u001b[39m\u001b[32m90\u001b[39m \u001b[38;5;28;01mraise\u001b[39;00m \u001b[38;5;167;01mIOError\u001b[39;00m(\u001b[33m\"\u001b[39m\u001b[33mFile `\u001b[39m\u001b[38;5;132;01m%r\u001b[39;00m\u001b[33m` not found.\u001b[39m\u001b[33m\"\u001b[39m % name)\n",
      "\u001b[31mOSError\u001b[39m: File `'src/rag_backend/mock_data_generator.py'` not found.",
      "\nThe above exception was the direct cause of the following exception:\n",
      "\u001b[31mException\u001b[39m                                 Traceback (most recent call last)",
      "\u001b[36mCell\u001b[39m\u001b[36m \u001b[39m\u001b[32mIn[20]\u001b[39m\u001b[32m, line 3\u001b[39m\n\u001b[32m      1\u001b[39m \u001b[38;5;66;03m# Generate comprehensive mock data for RAG system\u001b[39;00m\n\u001b[32m      2\u001b[39m \u001b[38;5;28mprint\u001b[39m(\u001b[33m\"\u001b[39m\u001b[33mGenerating RAG data...\u001b[39m\u001b[33m\"\u001b[39m)\n\u001b[32m----> \u001b[39m\u001b[32m3\u001b[39m \u001b[43mget_ipython\u001b[49m\u001b[43m(\u001b[49m\u001b[43m)\u001b[49m\u001b[43m.\u001b[49m\u001b[43mrun_line_magic\u001b[49m\u001b[43m(\u001b[49m\u001b[33;43m'\u001b[39;49m\u001b[33;43mrun\u001b[39;49m\u001b[33;43m'\u001b[39;49m\u001b[43m,\u001b[49m\u001b[43m \u001b[49m\u001b[33;43m'\u001b[39;49m\u001b[33;43msrc/rag_backend/mock_data_generator.py\u001b[39;49m\u001b[33;43m'\u001b[39;49m\u001b[43m)\u001b[49m\n",
      "\u001b[36mFile \u001b[39m\u001b[32m~/src/repos/salesforce/.venv/lib/python3.12/site-packages/IPython/core/interactiveshell.py:2504\u001b[39m, in \u001b[36mInteractiveShell.run_line_magic\u001b[39m\u001b[34m(self, magic_name, line, _stack_depth)\u001b[39m\n\u001b[32m   2502\u001b[39m     kwargs[\u001b[33m'\u001b[39m\u001b[33mlocal_ns\u001b[39m\u001b[33m'\u001b[39m] = \u001b[38;5;28mself\u001b[39m.get_local_scope(stack_depth)\n\u001b[32m   2503\u001b[39m \u001b[38;5;28;01mwith\u001b[39;00m \u001b[38;5;28mself\u001b[39m.builtin_trap:\n\u001b[32m-> \u001b[39m\u001b[32m2504\u001b[39m     result = \u001b[43mfn\u001b[49m\u001b[43m(\u001b[49m\u001b[43m*\u001b[49m\u001b[43margs\u001b[49m\u001b[43m,\u001b[49m\u001b[43m \u001b[49m\u001b[43m*\u001b[49m\u001b[43m*\u001b[49m\u001b[43mkwargs\u001b[49m\u001b[43m)\u001b[49m\n\u001b[32m   2506\u001b[39m \u001b[38;5;66;03m# The code below prevents the output from being displayed\u001b[39;00m\n\u001b[32m   2507\u001b[39m \u001b[38;5;66;03m# when using magics with decorator @output_can_be_silenced\u001b[39;00m\n\u001b[32m   2508\u001b[39m \u001b[38;5;66;03m# when the last Python token in the expression is a ';'.\u001b[39;00m\n\u001b[32m   2509\u001b[39m \u001b[38;5;28;01mif\u001b[39;00m \u001b[38;5;28mgetattr\u001b[39m(fn, magic.MAGIC_OUTPUT_CAN_BE_SILENCED, \u001b[38;5;28;01mFalse\u001b[39;00m):\n",
      "\u001b[36mFile \u001b[39m\u001b[32m~/src/repos/salesforce/.venv/lib/python3.12/site-packages/IPython/core/magics/execution.py:739\u001b[39m, in \u001b[36mExecutionMagics.run\u001b[39m\u001b[34m(self, parameter_s, runner, file_finder)\u001b[39m\n\u001b[32m    737\u001b[39m     \u001b[38;5;28;01mif\u001b[39;00m os.name == \u001b[33m'\u001b[39m\u001b[33mnt\u001b[39m\u001b[33m'\u001b[39m \u001b[38;5;129;01mand\u001b[39;00m re.match(\u001b[33mr\u001b[39m\u001b[33m\"\u001b[39m\u001b[33m^\u001b[39m\u001b[33m'\u001b[39m\u001b[33m.*\u001b[39m\u001b[33m'\u001b[39m\u001b[33m$\u001b[39m\u001b[33m\"\u001b[39m,fpath):\n\u001b[32m    738\u001b[39m         warn(\u001b[33m'\u001b[39m\u001b[33mFor Windows, use double quotes to wrap a filename: \u001b[39m\u001b[38;5;132;01m%r\u001b[39;00m\u001b[33mun \u001b[39m\u001b[33m\"\u001b[39m\u001b[33mmypath\u001b[39m\u001b[38;5;130;01m\\\\\u001b[39;00m\u001b[33mmyfile.py\u001b[39m\u001b[33m\"\u001b[39m\u001b[33m'\u001b[39m)\n\u001b[32m--> \u001b[39m\u001b[32m739\u001b[39m     \u001b[38;5;28;01mraise\u001b[39;00m \u001b[38;5;167;01mException\u001b[39;00m(msg) \u001b[38;5;28;01mfrom\u001b[39;00m\u001b[38;5;250m \u001b[39m\u001b[34;01me\u001b[39;00m\n\u001b[32m    740\u001b[39m \u001b[38;5;28;01mexcept\u001b[39;00m \u001b[38;5;167;01mTypeError\u001b[39;00m:\n\u001b[32m    741\u001b[39m     \u001b[38;5;28;01mif\u001b[39;00m fpath \u001b[38;5;129;01min\u001b[39;00m sys.meta_path:\n",
      "\u001b[31mException\u001b[39m: File `'src/rag_backend/mock_data_generator.py'` not found."
     ]
    }
   ],
   "source": [
    "# Generate comprehensive mock data for RAG system\n",
    "print(\"Generating RAG data...\")\n",
    "%run src/rag_backend/mock_data_generator.py"
   ]
  },
  {
   "cell_type": "code",
   "execution_count": null,
   "metadata": {},
   "outputs": [],
   "source": [
    "# Initialize RAG system and start API server\n",
    "import threading\n",
    "import sys\n",
    "import time\n",
    "\n",
    "# Add RAG backend to path\n",
    "sys.path.insert(0, 'src/rag_backend')\n",
    "\n",
    "from api_server import start_server\n",
    "\n",
    "# Start Flask server in background thread\n",
    "print(\"🚀 Starting RAG API Server...\")\n",
    "server_thread = threading.Thread(\n",
    "    target=start_server, \n",
    "    kwargs={'port': 5001, 'debug': False}, \n",
    "    daemon=True\n",
    ")\n",
    "server_thread.start()\n",
    "\n",
    "# Wait for server to initialize\n",
    "time.sleep(3)\n",
    "\n",
    "print(\"\\n✅ RAG API Server running on http://localhost:5001\")\n",
    "print(\"   Ready to handle queries from the interactive demo!\")\n",
    "print(\"\\n💡 The HTML demo will now use real AI-powered responses\")\n",
    "print(\"   with semantic search over 500 opportunities, 2000 activities, and AI insights\")"
   ]
  },
  {
   "cell_type": "code",
   "execution_count": null,
   "metadata": {},
   "outputs": [],
   "source": []
  },
  {
   "cell_type": "code",
   "execution_count": null,
   "metadata": {},
   "outputs": [],
   "source": []
  }
 ],
 "metadata": {
  "kernelspec": {
   "display_name": "Python 3 (ipykernel)",
   "language": "python",
   "name": "python3"
  },
  "language_info": {
   "codemirror_mode": {
    "name": "ipython",
    "version": 3
   },
   "file_extension": ".py",
   "mimetype": "text/x-python",
   "name": "python",
   "nbconvert_exporter": "python",
   "pygments_lexer": "ipython3",
   "version": "3.12.12"
  }
 },
 "nbformat": 4,
 "nbformat_minor": 4
}
