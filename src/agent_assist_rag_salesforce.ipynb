{
 "cells": [
  {
   "cell_type": "markdown",
   "id": "7f81bc98",
   "metadata": {},
   "source": [
    "# Agent Assist for Salesforce Cases with RAG\n",
    "\n",
    "End-to-end prototype of \"Agent Assist on Case\" from salesforce_talks.docx.\n",
    "\n",
    "Pipeline:\n",
    "1. Ingest Knowledge (Knowledge__kav) articles (mock or via Salesforce) and embed chunks.\n",
    "2. Given a Case description, compute semantic similarity and retrieve top-k chunks.\n",
    "3. Construct a grounded prompt and call an LLM to draft a suggested response with citations.\n",
    "4. Log telemetry (latency, token estimates, costs) and visualize with matplotlib, seaborn, and plotly.\n",
    "\n",
    "You can run in two modes:\n",
    "- Mock mode (default): sample data, local embeddings via sentence-transformers, and a stub LLM.\n",
    "- Salesforce mode: pull Cases and Knowledge via simple_salesforce; call hosted embeddings/LLM APIs.\n",
    "\n",
    "Note: Replace API keys and uncomment the relevant code when using real services."
   ]
  },
  {
   "cell_type": "code",
   "execution_count": 42,
   "id": "cdb26f2d",
   "metadata": {
    "execution": {
     "iopub.execute_input": "2025-10-21T09:41:20.572532Z",
     "iopub.status.busy": "2025-10-21T09:41:20.571653Z",
     "iopub.status.idle": "2025-10-21T09:41:22.643042Z",
     "shell.execute_reply": "2025-10-21T09:41:22.641842Z"
    }
   },
   "outputs": [],
   "source": [
    "# !pip install pandas numpy scikit-learn sentence-transformers simple-salesforce matplotlib seaborn plotly tqdm\n",
    "import os, time, json, math, textwrap, random\n",
    "from dataclasses import dataclass\n",
    "from typing import List, Dict, Any\n",
    "\n",
    "import pandas as pd\n",
    "import numpy as np\n",
    "from sklearn.metrics.pairwise import cosine_similarity\n",
    "\n",
    "import matplotlib.pyplot as plt\n",
    "import seaborn as sns\n",
    "import plotly.express as px\n",
    "from tqdm import tqdm\n",
    "\n",
    "sns.set_theme(style=\"whitegrid\")"
   ]
  },
  {
   "cell_type": "markdown",
   "id": "ab350f27",
   "metadata": {},
   "source": [
    "## Config\n",
    "- USE_SF: set True to use Salesforce org (requires credentials).\n",
    "- For real APIs: set EMBEDDINGS_PROVIDER and LLM_PROVIDER to \"openai\" or your provider and supply keys."
   ]
  },
  {
   "cell_type": "code",
   "execution_count": 43,
   "id": "f0219b47",
   "metadata": {
    "execution": {
     "iopub.execute_input": "2025-10-21T09:41:22.647524Z",
     "iopub.status.busy": "2025-10-21T09:41:22.646894Z",
     "iopub.status.idle": "2025-10-21T09:41:22.660635Z",
     "shell.execute_reply": "2025-10-21T09:41:22.659567Z"
    }
   },
   "outputs": [],
   "source": [
    "USE_SF = False  # flip to True if using Salesforce org\n",
    "\n",
    "# Embeddings/LLM configuration\n",
    "EMBEDDINGS_BACKEND = \"local\"  # \"local\" | \"openai\" | \"cohere\" | \"azure_openai\"\n",
    "LLM_BACKEND = \"stub\"          # \"stub\" | \"openai\" | \"azure_openai\" | \"cohere\"\n",
    "\n",
    "# API keys (required for hosted providers)\n",
    "OPENAI_API_KEY = os.getenv(\"OPENAI_API_KEY\", \"\")\n",
    "AZURE_OPENAI_API_KEY = os.getenv(\"AZURE_OPENAI_API_KEY\", \"\")\n",
    "AZURE_OPENAI_ENDPOINT = os.getenv(\"AZURE_OPENAI_ENDPOINT\", \"\")\n",
    "COHERE_API_KEY = os.getenv(\"COHERE_API_KEY\", \"\")\n",
    "\n",
    "# Retrieval parameters\n",
    "CHUNK_SIZE = 500  # characters\n",
    "CHUNK_OVERLAP = 100  # characters\n",
    "TOP_K = 4\n",
    "\n",
    "# Simple telemetry cost model (adjust for your provider)\n",
    "COST_PER_1K_INPUT_TOKENS = 0.0005\n",
    "COST_PER_1K_OUTPUT_TOKENS = 0.0015\n",
    "TOKENS_PER_CHAR = 0.25  # rough heuristic\n",
    "\n",
    "random.seed(42)\n",
    "np.random.seed(42)"
   ]
  },
  {
   "cell_type": "markdown",
   "id": "378165b6",
   "metadata": {},
   "source": [
    "## Data access helpers\n",
    "When USE_SF=True, uses simple_salesforce to pull Cases and Knowledge.\n",
    "Otherwise, uses mock examples."
   ]
  },
  {
   "cell_type": "code",
   "execution_count": 44,
   "id": "a4f19541",
   "metadata": {
    "execution": {
     "iopub.execute_input": "2025-10-21T09:41:22.664589Z",
     "iopub.status.busy": "2025-10-21T09:41:22.664184Z",
     "iopub.status.idle": "2025-10-21T09:41:22.692632Z",
     "shell.execute_reply": "2025-10-21T09:41:22.691039Z"
    }
   },
   "outputs": [
    {
     "data": {
      "text/plain": [
       "(            Id                             Subject  \\\n",
       " 0  500xx000001               Cannot reset password   \n",
       " 1  500xx000002  Email to Case not creating records   \n",
       " \n",
       "                                          Description  \n",
       " 0  User can't reset password using forgot link; g...  \n",
       " 1  Inbound emails are bouncing; Email-to-Case not...  ,\n",
       "            Id                           Title              UrlName  \\\n",
       " 0  ka0xx00001  Reset Password Troubleshooting       reset-password   \n",
       " 1  ka0xx00002       Email-to-Case Setup Guide  email-to-case-setup   \n",
       " 2  ka0xx00003      Login Issues Common Causes         login-issues   \n",
       " \n",
       "                           Summary  \\\n",
       " 0  Steps to resolve token issues.   \n",
       " 1      Configuring Email-to-Case.   \n",
       " 2          Common login problems.   \n",
       " \n",
       "                                          ArticleBody  \n",
       " 0  If users see an invalid token during password ...  \n",
       " 1  Verify routing addresses are active. Check the...  \n",
       " 2  Multi-factor prompts, IP ranges, and profile l...  )"
      ]
     },
     "execution_count": 44,
     "metadata": {},
     "output_type": "execute_result"
    }
   ],
   "source": [
    "def load_salesforce_data():\n",
    "    \"\"\"Example pull from Salesforce using simple_salesforce (uncomment and configure).\n",
    "    Returns two dataframes: df_cases, df_knowledge.\n",
    "    \"\"\"\n",
    "    # from simple_salesforce import Salesforce\n",
    "    # sf = Salesforce(\n",
    "    #     username=os.getenv(\"SF_USERNAME\"),\n",
    "    #     password=os.getenv(\"SF_PASSWORD\"),\n",
    "    #     security_token=os.getenv(\"SF_SECURITY_TOKEN\"),\n",
    "    #     domain=os.getenv(\"SF_DOMAIN\", \"login\")\n",
    "    # )\n",
    "    # soql_cases = \"SELECT Id, Subject, Description FROM Case WHERE Description != NULL LIMIT 50\"\n",
    "    # soql_kb = \"SELECT Id, Title, UrlName, Summary, ArticleBody FROM Knowledge__kav WHERE PublishStatus='Online' LIMIT 200\"\n",
    "    # cases = sf.query(soql_cases)[\"records\"]\n",
    "    # articles = sf.query(soql_kb)[\"records\"]\n",
    "    # df_cases = pd.DataFrame([{\"Id\": r[\"Id\"], \"Subject\": r.get(\"Subject\"), \"Description\": r.get(\"Description\")} for r in cases])\n",
    "    # df_kb = pd.DataFrame([{\n",
    "    #     \"Id\": r[\"Id\"],\n",
    "    #     \"Title\": r.get(\"Title\"),\n",
    "    #     \"UrlName\": r.get(\"UrlName\"),\n",
    "    #     \"Summary\": r.get(\"Summary\"),\n",
    "    #     \"ArticleBody\": r.get(\"ArticleBody\")\n",
    "    # } for r in articles])\n",
    "    # return df_cases, df_kb\n",
    "    raise NotImplementedError(\"Enable USE_SF and uncomment code to load real Salesforce data.\")\n",
    "\n",
    "def load_mock_data():\n",
    "    cases = [\n",
    "        {\"Id\": \"500xx000001\", \"Subject\": \"Cannot reset password\", \"Description\": \"User can't reset password using forgot link; gets invalid token error.\"},\n",
    "        {\"Id\": \"500xx000002\", \"Subject\": \"Email to Case not creating records\", \"Description\": \"Inbound emails are bouncing; Email-to-Case not generating cases since yesterday.\"}\n",
    "    ]\n",
    "    kb = [\n",
    "        {\"Id\": \"ka0xx00001\", \"Title\": \"Reset Password Troubleshooting\", \"UrlName\": \"reset-password\", \n",
    "         \"Summary\": \"Steps to resolve token issues.\",\n",
    "         \"ArticleBody\": \"If users see an invalid token during password reset, ensure the reset link has not expired (24 hours). Clear cache, request a new link, and check domain redirects. Admins can invalidate sessions and enforce a new reset.\"},\n",
    "        {\"Id\": \"ka0xx00002\", \"Title\": \"Email-to-Case Setup Guide\", \"UrlName\": \"email-to-case-setup\",\n",
    "         \"Summary\": \"Configuring Email-to-Case.\",\n",
    "         \"ArticleBody\": \"Verify routing addresses are active. Check the Email Services logs. Ensure the mailbox forwarding is enabled and not hitting size limits. Review Case Assignment Rules and APEX triggers that may block insert.\"},\n",
    "        {\"Id\": \"ka0xx00003\", \"Title\": \"Login Issues Common Causes\", \"UrlName\": \"login-issues\",\n",
    "         \"Summary\": \"Common login problems.\",\n",
    "         \"ArticleBody\": \"Multi-factor prompts, IP ranges, and profile login hours can block login. Review login history for error codes and investigate session settings.\"}\n",
    "    ]\n",
    "    return pd.DataFrame(cases), pd.DataFrame(kb)\n",
    "\n",
    "df_cases, df_kb = (load_salesforce_data() if USE_SF else load_mock_data())\n",
    "df_cases, df_kb.head(3)"
   ]
  },
  {
   "cell_type": "markdown",
   "id": "68f16d88",
   "metadata": {},
   "source": [
    "## Chunking Knowledge Articles\n",
    "Split ArticleBody into overlapping chunks to improve retrieval granularity and recall."
   ]
  },
  {
   "cell_type": "code",
   "execution_count": 45,
   "id": "241b79ce",
   "metadata": {
    "execution": {
     "iopub.execute_input": "2025-10-21T09:41:22.696733Z",
     "iopub.status.busy": "2025-10-21T09:41:22.696295Z",
     "iopub.status.idle": "2025-10-21T09:41:22.716935Z",
     "shell.execute_reply": "2025-10-21T09:41:22.715780Z"
    }
   },
   "outputs": [
    {
     "data": {
      "text/html": [
       "<div>\n",
       "<style scoped>\n",
       "    .dataframe tbody tr th:only-of-type {\n",
       "        vertical-align: middle;\n",
       "    }\n",
       "\n",
       "    .dataframe tbody tr th {\n",
       "        vertical-align: top;\n",
       "    }\n",
       "\n",
       "    .dataframe thead th {\n",
       "        text-align: right;\n",
       "    }\n",
       "</style>\n",
       "<table border=\"1\" class=\"dataframe\">\n",
       "  <thead>\n",
       "    <tr style=\"text-align: right;\">\n",
       "      <th></th>\n",
       "      <th>ArticleId</th>\n",
       "      <th>Title</th>\n",
       "      <th>UrlName</th>\n",
       "      <th>ChunkIndex</th>\n",
       "      <th>Chunk</th>\n",
       "    </tr>\n",
       "  </thead>\n",
       "  <tbody>\n",
       "    <tr>\n",
       "      <th>0</th>\n",
       "      <td>ka0xx00001</td>\n",
       "      <td>Reset Password Troubleshooting</td>\n",
       "      <td>reset-password</td>\n",
       "      <td>0</td>\n",
       "      <td>If users see an invalid token during password ...</td>\n",
       "    </tr>\n",
       "    <tr>\n",
       "      <th>1</th>\n",
       "      <td>ka0xx00002</td>\n",
       "      <td>Email-to-Case Setup Guide</td>\n",
       "      <td>email-to-case-setup</td>\n",
       "      <td>0</td>\n",
       "      <td>Verify routing addresses are active. Check the...</td>\n",
       "    </tr>\n",
       "    <tr>\n",
       "      <th>2</th>\n",
       "      <td>ka0xx00003</td>\n",
       "      <td>Login Issues Common Causes</td>\n",
       "      <td>login-issues</td>\n",
       "      <td>0</td>\n",
       "      <td>Multi-factor prompts, IP ranges, and profile l...</td>\n",
       "    </tr>\n",
       "  </tbody>\n",
       "</table>\n",
       "</div>"
      ],
      "text/plain": [
       "    ArticleId                           Title              UrlName  \\\n",
       "0  ka0xx00001  Reset Password Troubleshooting       reset-password   \n",
       "1  ka0xx00002       Email-to-Case Setup Guide  email-to-case-setup   \n",
       "2  ka0xx00003      Login Issues Common Causes         login-issues   \n",
       "\n",
       "   ChunkIndex                                              Chunk  \n",
       "0           0  If users see an invalid token during password ...  \n",
       "1           0  Verify routing addresses are active. Check the...  \n",
       "2           0  Multi-factor prompts, IP ranges, and profile l...  "
      ]
     },
     "execution_count": 45,
     "metadata": {},
     "output_type": "execute_result"
    }
   ],
   "source": [
    "def chunk_text(text: str, size: int = CHUNK_SIZE, overlap: int = CHUNK_OVERLAP):\n",
    "    text = text or \"\"\n",
    "    chunks = []\n",
    "    i = 0\n",
    "    while i < len(text):\n",
    "        chunk = text[i:i+size]\n",
    "        chunks.append(chunk)\n",
    "        i += max(1, size - overlap)\n",
    "    return chunks\n",
    "\n",
    "kb_rows = []\n",
    "for _, row in df_kb.iterrows():\n",
    "    chunks = chunk_text(row.get(\"ArticleBody\", \"\"))\n",
    "    for ci, ch in enumerate(chunks):\n",
    "        kb_rows.append({\n",
    "            \"ArticleId\": row[\"Id\"],\n",
    "            \"Title\": row.get(\"Title\", \"\"),\n",
    "            \"UrlName\": row.get(\"UrlName\", \"\"),\n",
    "            \"ChunkIndex\": ci,\n",
    "            \"Chunk\": ch\n",
    "        })\n",
    "df_chunks = pd.DataFrame(kb_rows)\n",
    "df_chunks.head()"
   ]
  },
  {
   "cell_type": "markdown",
   "id": "245c99ab",
   "metadata": {},
   "source": [
    "## Embeddings\n",
    "Use local embeddings via sentence-transformers by default.\n",
    "Swap to hosted embeddings by setting EMBEDDINGS_BACKEND and providing API keys."
   ]
  },
  {
   "cell_type": "code",
   "execution_count": 46,
   "id": "cd16d024",
   "metadata": {
    "execution": {
     "iopub.execute_input": "2025-10-21T09:41:22.720766Z",
     "iopub.status.busy": "2025-10-21T09:41:22.720368Z",
     "iopub.status.idle": "2025-10-21T09:41:32.550552Z",
     "shell.execute_reply": "2025-10-21T09:41:32.549456Z"
    }
   },
   "outputs": [
    {
     "data": {
      "text/plain": [
       "(3, 384)"
      ]
     },
     "execution_count": 46,
     "metadata": {},
     "output_type": "execute_result"
    }
   ],
   "source": [
    "from functools import lru_cache\n",
    "import numpy as np\n",
    "\n",
    "class LocalEmbedder:\n",
    "    def __init__(self, model_name: str = \"sentence-transformers/all-MiniLM-L6-v2\"):\n",
    "        from sentence_transformers import SentenceTransformer\n",
    "        self.model = SentenceTransformer(model_name)\n",
    "    def embed(self, texts: List[str]) -> np.ndarray:\n",
    "        return np.array(self.model.encode(texts, batch_size=32, show_progress_bar=False))\n",
    "\n",
    "@lru_cache(maxsize=1)\n",
    "def get_embedder():\n",
    "    if EMBEDDINGS_BACKEND == \"local\":\n",
    "        return LocalEmbedder()\n",
    "    elif EMBEDDINGS_BACKEND == \"openai\":\n",
    "        import openai\n",
    "        openai.api_key = OPENAI_API_KEY\n",
    "        class OpenAIEmbedder:\n",
    "            def embed(self, texts: List[str]) -> np.ndarray:\n",
    "                resp = openai.embeddings.create(model=\"text-embedding-3-small\", input=texts)\n",
    "                vecs = [d[\"embedding\"] for d in resp.data]\n",
    "                return np.array(vecs)\n",
    "        return OpenAIEmbedder()\n",
    "    elif EMBEDDINGS_BACKEND == \"cohere\":\n",
    "        import cohere\n",
    "        co = cohere.Client(COHERE_API_KEY)\n",
    "        class CohereEmbedder:\n",
    "            def embed(self, texts: List[str]) -> np.ndarray:\n",
    "                resp = co.embed(texts=texts, model=\"embed-english-v3.0\")\n",
    "                return np.array(resp.embeddings)\n",
    "        return CohereEmbedder()\n",
    "    elif EMBEDDINGS_BACKEND == \"azure_openai\":\n",
    "        # Example for Azure OpenAI Embeddings (adapt as needed)\n",
    "        from openai import AzureOpenAI\n",
    "        client = AzureOpenAI(api_key=AZURE_OPENAI_API_KEY, azure_endpoint=AZURE_OPENAI_ENDPOINT, api_version=\"2024-02-15-preview\")\n",
    "        class AzureEmbedder:\n",
    "            def embed(self, texts: List[str]) -> np.ndarray:\n",
    "                resp = client.embeddings.create(model=\"text-embedding-3-small\", input=texts)\n",
    "                vecs = [d.embedding for d in resp.data]\n",
    "                return np.array(vecs)\n",
    "        return AzureEmbedder()\n",
    "    else:\n",
    "        raise ValueError(\"Unsupported EMBEDDINGS_BACKEND\")\n",
    "\n",
    "embedder = get_embedder()\n",
    "chunk_embeddings = embedder.embed(df_chunks[\"Chunk\"].tolist())\n",
    "chunk_embeddings.shape"
   ]
  },
  {
   "cell_type": "markdown",
   "id": "6f8d4e29",
   "metadata": {},
   "source": [
    "## Retrieve top-k chunks for a Case\n",
    "Compute similarity between Case description and all Knowledge chunks."
   ]
  },
  {
   "cell_type": "code",
   "execution_count": 47,
   "id": "c37ec94f",
   "metadata": {
    "execution": {
     "iopub.execute_input": "2025-10-21T09:41:32.554458Z",
     "iopub.status.busy": "2025-10-21T09:41:32.553889Z",
     "iopub.status.idle": "2025-10-21T09:41:32.604864Z",
     "shell.execute_reply": "2025-10-21T09:41:32.603827Z"
    }
   },
   "outputs": [
    {
     "data": {
      "text/html": [
       "<div>\n",
       "<style scoped>\n",
       "    .dataframe tbody tr th:only-of-type {\n",
       "        vertical-align: middle;\n",
       "    }\n",
       "\n",
       "    .dataframe tbody tr th {\n",
       "        vertical-align: top;\n",
       "    }\n",
       "\n",
       "    .dataframe thead th {\n",
       "        text-align: right;\n",
       "    }\n",
       "</style>\n",
       "<table border=\"1\" class=\"dataframe\">\n",
       "  <thead>\n",
       "    <tr style=\"text-align: right;\">\n",
       "      <th></th>\n",
       "      <th>ArticleId</th>\n",
       "      <th>Title</th>\n",
       "      <th>UrlName</th>\n",
       "      <th>ChunkIndex</th>\n",
       "      <th>Chunk</th>\n",
       "      <th>Similarity</th>\n",
       "    </tr>\n",
       "  </thead>\n",
       "  <tbody>\n",
       "    <tr>\n",
       "      <th>0</th>\n",
       "      <td>ka0xx00001</td>\n",
       "      <td>Reset Password Troubleshooting</td>\n",
       "      <td>reset-password</td>\n",
       "      <td>0</td>\n",
       "      <td>If users see an invalid token during password ...</td>\n",
       "      <td>0.730225</td>\n",
       "    </tr>\n",
       "    <tr>\n",
       "      <th>1</th>\n",
       "      <td>ka0xx00003</td>\n",
       "      <td>Login Issues Common Causes</td>\n",
       "      <td>login-issues</td>\n",
       "      <td>0</td>\n",
       "      <td>Multi-factor prompts, IP ranges, and profile l...</td>\n",
       "      <td>0.205318</td>\n",
       "    </tr>\n",
       "    <tr>\n",
       "      <th>2</th>\n",
       "      <td>ka0xx00002</td>\n",
       "      <td>Email-to-Case Setup Guide</td>\n",
       "      <td>email-to-case-setup</td>\n",
       "      <td>0</td>\n",
       "      <td>Verify routing addresses are active. Check the...</td>\n",
       "      <td>0.075231</td>\n",
       "    </tr>\n",
       "  </tbody>\n",
       "</table>\n",
       "</div>"
      ],
      "text/plain": [
       "    ArticleId                           Title              UrlName  \\\n",
       "0  ka0xx00001  Reset Password Troubleshooting       reset-password   \n",
       "1  ka0xx00003      Login Issues Common Causes         login-issues   \n",
       "2  ka0xx00002       Email-to-Case Setup Guide  email-to-case-setup   \n",
       "\n",
       "   ChunkIndex                                              Chunk  Similarity  \n",
       "0           0  If users see an invalid token during password ...    0.730225  \n",
       "1           0  Multi-factor prompts, IP ranges, and profile l...    0.205318  \n",
       "2           0  Verify routing addresses are active. Check the...    0.075231  "
      ]
     },
     "execution_count": 47,
     "metadata": {},
     "output_type": "execute_result"
    }
   ],
   "source": [
    "from sklearn.metrics.pairwise import cosine_similarity\n",
    "\n",
    "def retrieve(case_text: str, top_k: int = TOP_K):\n",
    "    qvec = embedder.embed([case_text])\n",
    "    sims = cosine_similarity(qvec, chunk_embeddings)[0]\n",
    "    idx = np.argsort(-sims)[:top_k]\n",
    "    results = []\n",
    "    for i in idx:\n",
    "        row = df_chunks.iloc[i]\n",
    "        results.append({\n",
    "            \"ArticleId\": row[\"ArticleId\"],\n",
    "            \"Title\": row[\"Title\"],\n",
    "            \"UrlName\": row[\"UrlName\"],\n",
    "            \"ChunkIndex\": int(row[\"ChunkIndex\"]),\n",
    "            \"Chunk\": row[\"Chunk\"],\n",
    "            \"Similarity\": float(sims[i])\n",
    "        })\n",
    "    return results\n",
    "\n",
    "sample_case = df_cases.iloc[0]\n",
    "retrieved = retrieve(sample_case[\"Description\"], top_k=TOP_K)\n",
    "pd.DataFrame(retrieved)"
   ]
  },
  {
   "cell_type": "markdown",
   "id": "fdd5a52c",
   "metadata": {},
   "source": [
    "## Grounded generation (LLM)\n",
    "Use a stub LLM by default that composes an answer from retrieved snippets.\n",
    "Switch to a hosted LLM by setting LLM_BACKEND and keys."
   ]
  },
  {
   "cell_type": "code",
   "execution_count": 48,
   "id": "9d9d0a7b",
   "metadata": {
    "execution": {
     "iopub.execute_input": "2025-10-21T09:41:32.608683Z",
     "iopub.status.busy": "2025-10-21T09:41:32.608201Z",
     "iopub.status.idle": "2025-10-21T09:41:32.639517Z",
     "shell.execute_reply": "2025-10-21T09:41:32.638229Z"
    }
   },
   "outputs": [
    {
     "data": {
      "text/plain": [
       "'Ensure reset link not expired; request new link; clear cache; check redirects [cite:Reset Password Troubleshooting]. Verify routing addresses and forwarding; check Email Services logs; ensure mailbox not over quota [cite:Email-to-Case Setup Guide].'"
      ]
     },
     "execution_count": 48,
     "metadata": {},
     "output_type": "execute_result"
    }
   ],
   "source": [
    "def estimate_tokens(text: str) -> int:\n",
    "    return int(len(text) * TOKENS_PER_CHAR)\n",
    "\n",
    "def estimate_cost(input_tokens: int, output_tokens: int) -> float:\n",
    "    return (input_tokens/1000) * COST_PER_1K_INPUT_TOKENS + (output_tokens/1000) * COST_PER_1K_OUTPUT_TOKENS\n",
    "\n",
    "SYSTEM_PROMPT = (\n",
    "    \"You are a Salesforce support assistant. Answer the agent's question using ONLY the provided Knowledge snippets. \"\n",
    "    \"Cite the article titles or UrlName as [cite:Title] in-line. If unsure, say you don't have enough information.\"\n",
    ")\n",
    "\n",
    "def call_llm_stub(prompt: str) -> str:\n",
    "    # Very simple abstractive summary from retrieved snippets\n",
    "    lines = [l.strip() for l in prompt.splitlines() if l.strip()]\n",
    "    snippets = [l for l in lines if l.lower().startswith(\"snippet \")]\n",
    "    guidance = []\n",
    "    for s in snippets:\n",
    "        if \"invalid token\" in s.lower():\n",
    "            guidance.append(\"Ensure reset link not expired; request new link; clear cache; check redirects [cite:Reset Password Troubleshooting].\")\n",
    "        if \"email\" in s.lower() and \"case\" in s.lower():\n",
    "            guidance.append(\"Verify routing addresses and forwarding; check Email Services logs; ensure mailbox not over quota [cite:Email-to-Case Setup Guide].\")\n",
    "    if not guidance:\n",
    "        guidance.append(\"I don't have enough information to provide a grounded answer.\")\n",
    "    return \" \".join(guidance)\n",
    "\n",
    "def call_llm_hosted(prompt: str) -> str:\n",
    "    if LLM_BACKEND == \"openai\":\n",
    "        import openai\n",
    "        openai.api_key = OPENAI_API_KEY\n",
    "        resp = openai.chat.completions.create(\n",
    "            model=\"gpt-4o-mini\",\n",
    "            messages=[{\"role\":\"system\",\"content\":SYSTEM_PROMPT},{\"role\":\"user\",\"content\":prompt}],\n",
    "            temperature=0.2,\n",
    "        )\n",
    "        return resp.choices[0].message.content\n",
    "    elif LLM_BACKEND == \"cohere\":\n",
    "        import cohere\n",
    "        co = cohere.Client(COHERE_API_KEY)\n",
    "        resp = co.chat(model=\"command-r-plus\", messages=[{\"role\":\"SYSTEM\",\"content\":SYSTEM_PROMPT},{\"role\":\"USER\",\"content\":prompt}], temperature=0.2)\n",
    "        return resp.text\n",
    "    elif LLM_BACKEND == \"azure_openai\":\n",
    "        from openai import AzureOpenAI\n",
    "        client = AzureOpenAI(api_key=AZURE_OPENAI_API_KEY, azure_endpoint=AZURE_OPENAI_ENDPOINT, api_version=\"2024-02-15-preview\")\n",
    "        resp = client.chat.completions.create(model=\"gpt-4o-mini\", messages=[{\"role\":\"system\",\"content\":SYSTEM_PROMPT},{\"role\":\"user\",\"content\":prompt}], temperature=0.2)\n",
    "        return resp.choices[0].message.content\n",
    "    else:\n",
    "        return call_llm_stub(prompt)\n",
    "\n",
    "def build_prompt(case_subject: str, case_description: str, retrieved_chunks: List[Dict[str, Any]]) -> str:\n",
    "    header = f\"Case: {case_subject}\\nQuestion: {case_description}\\n\\n\"\n",
    "    context_lines = []\n",
    "    for i, r in enumerate(retrieved_chunks, start=1):\n",
    "        title = r.get(\"Title\") or r.get(\"UrlName\")\n",
    "        snippet = textwrap.shorten(r[\"Chunk\"], width=350, placeholder=\"...\")\n",
    "        context_lines.append(f\"Snippet {i} [{title}]: {snippet}\")\n",
    "    return header + \"\\n\".join(context_lines)\n",
    "\n",
    "def answer_case(case_row, retrieved_chunks):\n",
    "    prompt = build_prompt(case_row.get(\"Subject\", \"\"), case_row.get(\"Description\", \"\"), retrieved_chunks)\n",
    "    t0 = time.time()\n",
    "    response = call_llm_hosted(prompt) if LLM_BACKEND != \"stub\" else call_llm_stub(prompt)\n",
    "    latency = (time.time() - t0) * 1000\n",
    "    input_tokens = estimate_tokens(SYSTEM_PROMPT + \"\\n\" + prompt)\n",
    "    output_tokens = estimate_tokens(response)\n",
    "    cost = estimate_cost(input_tokens, output_tokens)\n",
    "    return {\n",
    "        \"Response\": response,\n",
    "        \"Prompt\": prompt,\n",
    "        \"LatencyMs\": latency,\n",
    "        \"InputTokens\": input_tokens,\n",
    "        \"OutputTokens\": output_tokens,\n",
    "        \"CostUSD\": cost,\n",
    "    }\n",
    "\n",
    "result = answer_case(sample_case, retrieved)\n",
    "result[\"Response\"]"
   ]
  },
  {
   "cell_type": "markdown",
   "id": "f4cf57d8",
   "metadata": {},
   "source": [
    "## Telemetry log and evaluation placeholders\n",
    "We\u2019ll collect telemetry per run and provide a simple quality rubric you can adapt."
   ]
  },
  {
   "cell_type": "code",
   "execution_count": 49,
   "id": "4822daa4",
   "metadata": {
    "execution": {
     "iopub.execute_input": "2025-10-21T09:41:32.643121Z",
     "iopub.status.busy": "2025-10-21T09:41:32.642737Z",
     "iopub.status.idle": "2025-10-21T09:41:32.663640Z",
     "shell.execute_reply": "2025-10-21T09:41:32.662477Z"
    }
   },
   "outputs": [
    {
     "data": {
      "text/html": [
       "<div>\n",
       "<style scoped>\n",
       "    .dataframe tbody tr th:only-of-type {\n",
       "        vertical-align: middle;\n",
       "    }\n",
       "\n",
       "    .dataframe tbody tr th {\n",
       "        vertical-align: top;\n",
       "    }\n",
       "\n",
       "    .dataframe thead th {\n",
       "        text-align: right;\n",
       "    }\n",
       "</style>\n",
       "<table border=\"1\" class=\"dataframe\">\n",
       "  <thead>\n",
       "    <tr style=\"text-align: right;\">\n",
       "      <th></th>\n",
       "      <th>CaseId</th>\n",
       "      <th>TopK</th>\n",
       "      <th>AvgSim</th>\n",
       "      <th>Response</th>\n",
       "      <th>Prompt</th>\n",
       "      <th>LatencyMs</th>\n",
       "      <th>InputTokens</th>\n",
       "      <th>OutputTokens</th>\n",
       "      <th>CostUSD</th>\n",
       "      <th>QualityLabel</th>\n",
       "    </tr>\n",
       "  </thead>\n",
       "  <tbody>\n",
       "    <tr>\n",
       "      <th>0</th>\n",
       "      <td>500xx000001</td>\n",
       "      <td>3</td>\n",
       "      <td>0.336925</td>\n",
       "      <td>Ensure reset link not expired; request new lin...</td>\n",
       "      <td>Case: Cannot reset password\\nQuestion: User ca...</td>\n",
       "      <td>0.02265</td>\n",
       "      <td>256</td>\n",
       "      <td>62</td>\n",
       "      <td>0.000221</td>\n",
       "      <td>4</td>\n",
       "    </tr>\n",
       "  </tbody>\n",
       "</table>\n",
       "</div>"
      ],
      "text/plain": [
       "        CaseId  TopK    AvgSim  \\\n",
       "0  500xx000001     3  0.336925   \n",
       "\n",
       "                                            Response  \\\n",
       "0  Ensure reset link not expired; request new lin...   \n",
       "\n",
       "                                              Prompt  LatencyMs  InputTokens  \\\n",
       "0  Case: Cannot reset password\\nQuestion: User ca...    0.02265          256   \n",
       "\n",
       "   OutputTokens   CostUSD  QualityLabel  \n",
       "0            62  0.000221             4  "
      ]
     },
     "execution_count": 49,
     "metadata": {},
     "output_type": "execute_result"
    }
   ],
   "source": [
    "telemetry: List[Dict[str, Any]] = []\n",
    "\n",
    "def log_run(case_id: str, retrieved_chunks: List[Dict[str, Any]], result: Dict[str, Any], label_quality: int = None):\n",
    "    import numpy as np\n",
    "    tel = {\n",
    "        \"CaseId\": case_id,\n",
    "        \"TopK\": len(retrieved_chunks),\n",
    "        \"AvgSim\": float(np.mean([x[\"Similarity\"] for x in retrieved_chunks])) if retrieved_chunks else 0.0,\n",
    "        **result,\n",
    "        \"QualityLabel\": label_quality  # optional manual rating 1\u20135\n",
    "    }\n",
    "    telemetry.append(tel)\n",
    "    return tel\n",
    "\n",
    "tel_row = log_run(sample_case[\"Id\"], retrieved, result, label_quality=4)\n",
    "pd.DataFrame([tel_row])"
   ]
  },
  {
   "cell_type": "markdown",
   "id": "91f81f89",
   "metadata": {},
   "source": [
    "## Batch over multiple Cases (mock) and visualize\n",
    "We\u2019ll run the pipeline for a few cases and visualize cost, latency, and similarity vs. quality."
   ]
  },
  {
   "cell_type": "code",
   "execution_count": 50,
   "id": "1e94b895",
   "metadata": {
    "execution": {
     "iopub.execute_input": "2025-10-21T09:41:32.667732Z",
     "iopub.status.busy": "2025-10-21T09:41:32.667300Z",
     "iopub.status.idle": "2025-10-21T09:41:32.754233Z",
     "shell.execute_reply": "2025-10-21T09:41:32.753199Z"
    }
   },
   "outputs": [
    {
     "data": {
      "text/html": [
       "<div>\n",
       "<style scoped>\n",
       "    .dataframe tbody tr th:only-of-type {\n",
       "        vertical-align: middle;\n",
       "    }\n",
       "\n",
       "    .dataframe tbody tr th {\n",
       "        vertical-align: top;\n",
       "    }\n",
       "\n",
       "    .dataframe thead th {\n",
       "        text-align: right;\n",
       "    }\n",
       "</style>\n",
       "<table border=\"1\" class=\"dataframe\">\n",
       "  <thead>\n",
       "    <tr style=\"text-align: right;\">\n",
       "      <th></th>\n",
       "      <th>CaseId</th>\n",
       "      <th>TopK</th>\n",
       "      <th>AvgSim</th>\n",
       "      <th>Response</th>\n",
       "      <th>Prompt</th>\n",
       "      <th>LatencyMs</th>\n",
       "      <th>InputTokens</th>\n",
       "      <th>OutputTokens</th>\n",
       "      <th>CostUSD</th>\n",
       "      <th>QualityLabel</th>\n",
       "    </tr>\n",
       "  </thead>\n",
       "  <tbody>\n",
       "    <tr>\n",
       "      <th>0</th>\n",
       "      <td>500xx000001</td>\n",
       "      <td>3</td>\n",
       "      <td>0.336925</td>\n",
       "      <td>Ensure reset link not expired; request new lin...</td>\n",
       "      <td>Case: Cannot reset password\\nQuestion: User ca...</td>\n",
       "      <td>0.022650</td>\n",
       "      <td>256</td>\n",
       "      <td>62</td>\n",
       "      <td>0.000221</td>\n",
       "      <td>4</td>\n",
       "    </tr>\n",
       "    <tr>\n",
       "      <th>1</th>\n",
       "      <td>500xx000001</td>\n",
       "      <td>3</td>\n",
       "      <td>0.336925</td>\n",
       "      <td>Ensure reset link not expired; request new lin...</td>\n",
       "      <td>Case: Cannot reset password\\nQuestion: User ca...</td>\n",
       "      <td>0.027418</td>\n",
       "      <td>256</td>\n",
       "      <td>62</td>\n",
       "      <td>0.000221</td>\n",
       "      <td>5</td>\n",
       "    </tr>\n",
       "    <tr>\n",
       "      <th>2</th>\n",
       "      <td>500xx000002</td>\n",
       "      <td>3</td>\n",
       "      <td>0.267496</td>\n",
       "      <td>Verify routing addresses and forwarding; check...</td>\n",
       "      <td>Case: Email to Case not creating records\\nQues...</td>\n",
       "      <td>0.017643</td>\n",
       "      <td>262</td>\n",
       "      <td>62</td>\n",
       "      <td>0.000224</td>\n",
       "      <td>3</td>\n",
       "    </tr>\n",
       "  </tbody>\n",
       "</table>\n",
       "</div>"
      ],
      "text/plain": [
       "        CaseId  TopK    AvgSim  \\\n",
       "0  500xx000001     3  0.336925   \n",
       "1  500xx000001     3  0.336925   \n",
       "2  500xx000002     3  0.267496   \n",
       "\n",
       "                                            Response  \\\n",
       "0  Ensure reset link not expired; request new lin...   \n",
       "1  Ensure reset link not expired; request new lin...   \n",
       "2  Verify routing addresses and forwarding; check...   \n",
       "\n",
       "                                              Prompt  LatencyMs  InputTokens  \\\n",
       "0  Case: Cannot reset password\\nQuestion: User ca...   0.022650          256   \n",
       "1  Case: Cannot reset password\\nQuestion: User ca...   0.027418          256   \n",
       "2  Case: Email to Case not creating records\\nQues...   0.017643          262   \n",
       "\n",
       "   OutputTokens   CostUSD  QualityLabel  \n",
       "0            62  0.000221             4  \n",
       "1            62  0.000221             5  \n",
       "2            62  0.000224             3  "
      ]
     },
     "execution_count": 50,
     "metadata": {},
     "output_type": "execute_result"
    }
   ],
   "source": [
    "for _, c in df_cases.iterrows():\n",
    "    r = retrieve(c[\"Description\"], top_k=TOP_K)\n",
    "    res = answer_case(c, r)\n",
    "    # Simulate a manual quality rating (replace with real eval rubric)\n",
    "    quality = 5 if \"password\" in c[\"Subject\"].lower() else 3\n",
    "    log_run(c[\"Id\"], r, res, label_quality=quality)\n",
    "\n",
    "df_tel = pd.DataFrame(telemetry)\n",
    "df_tel"
   ]
  },
  {
   "cell_type": "markdown",
   "id": "b90ef57a",
   "metadata": {},
   "source": [
    "### Matplotlib: Latency distribution and Cost vs Tokens"
   ]
  },
  {
   "cell_type": "code",
   "execution_count": 51,
   "id": "92c1724e",
   "metadata": {
    "execution": {
     "iopub.execute_input": "2025-10-21T09:41:32.758120Z",
     "iopub.status.busy": "2025-10-21T09:41:32.757749Z",
     "iopub.status.idle": "2025-10-21T09:41:33.731676Z",
     "shell.execute_reply": "2025-10-21T09:41:33.730474Z"
    }
   },
   "outputs": [
    {
     "data": {
      "image/png": "[encoded data removed]",
      "text/plain": [
       "<Figure size 1200x400 with 2 Axes>"
      ]
     },
     "metadata": {},
     "output_type": "display_data"
    }
   ],
   "source": [
    "fig, ax = plt.subplots(1, 2, figsize=(12,4))\n",
    "ax[0].hist(df_tel[\"LatencyMs\"], bins=5, color=\"#4C78A8\")\n",
    "ax[0].set_title(\"Latency (ms)\")\n",
    "ax[0].set_xlabel(\"ms\"); ax[0].set_ylabel(\"count\")\n",
    "\n",
    "ax[1].scatter(df_tel[\"InputTokens\"]+df_tel[\"OutputTokens\"], df_tel[\"CostUSD\"], color=\"#F58518\")\n",
    "ax[1].set_title(\"Cost vs Total Tokens\")\n",
    "ax[1].set_xlabel(\"tokens\"); ax[1].set_ylabel(\"USD\")\n",
    "plt.tight_layout()\n",
    "plt.show()"
   ]
  },
  {
   "cell_type": "markdown",
   "id": "9b12ccec",
   "metadata": {},
   "source": [
    "### Seaborn: Similarity vs Quality label (mock)\n",
    "Helps assess whether retrieval quality correlates with perceived answer quality."
   ]
  },
  {
   "cell_type": "code",
   "execution_count": 52,
   "id": "6de7f74c",
   "metadata": {
    "execution": {
     "iopub.execute_input": "2025-10-21T09:41:33.735301Z",
     "iopub.status.busy": "2025-10-21T09:41:33.734913Z",
     "iopub.status.idle": "2025-10-21T09:41:34.135177Z",
     "shell.execute_reply": "2025-10-21T09:41:34.134063Z"
    }
   },
   "outputs": [
    {
     "data": {
      "image/png": "[encoded data removed]",
      "text/plain": [
       "<Figure size 600x400 with 1 Axes>"
      ]
     },
     "metadata": {},
     "output_type": "display_data"
    }
   ],
   "source": [
    "plt.figure(figsize=(6,4))\n",
    "sns.regplot(data=df_tel, x=\"AvgSim\", y=\"QualityLabel\", scatter_kws={\"s\":70})\n",
    "plt.title(\"Avg Similarity vs Quality Label\")\n",
    "plt.show()"
   ]
  },
  {
   "cell_type": "markdown",
   "id": "dbc8e4e5",
   "metadata": {},
   "source": [
    "### Plotly: Interactive telemetry dashboard\n",
    "Explore per-case latency and cost interactively."
   ]
  },
  {
   "cell_type": "code",
   "execution_count": 53,
   "id": "ab236bbf",
   "metadata": {
    "execution": {
     "iopub.execute_input": "2025-10-21T09:41:34.138994Z",
     "iopub.status.busy": "2025-10-21T09:41:34.138624Z",
     "iopub.status.idle": "2025-10-21T09:41:37.051955Z",
     "shell.execute_reply": "2025-10-21T09:41:37.050795Z"
    }
   },
   "outputs": [
    {
     "data": {
      "application/vnd.plotly.v1+json": {
       "config": {
        "plotlyServerURL": "https://plot.ly"
       },
       "data": [
        {
         "customdata": [
          [
           "500xx000001",
           256,
           62
          ],
          [
           "500xx000001",
           256,
           62
          ],
          [
           "500xx000002",
           262,
           62
          ]
         ],
         "hovertemplate": "LatencyMs=%{x}<br>CostUSD=%{y}<br>CaseId=%{customdata[0]}<br>InputTokens=%{customdata[1]}<br>OutputTokens=%{customdata[2]}<br>QualityLabel=%{marker.color}<extra></extra>",
         "legendgroup": "",
         "marker": {
          "color": {
           "bdata": "BAUD",
           "dtype": "i1"
          },
          "coloraxis": "coloraxis",
          "symbol": "circle"
         },
         "mode": "markers",
         "name": "",
         "orientation": "v",
         "showlegend": false,
         "type": "scatter",
         "x": {
          "bdata": "AAAAAIAxlz8AAAAAgBOcPwAAAAAAEZI/",
          "dtype": "f8"
         },
         "xaxis": "x",
         "y": {
          "bdata": "Jhx6i4f3LD8mHHqLh/csP7hfPlkxXC0/",
          "dtype": "f8"
         },
         "yaxis": "y"
        }
       ],
       "layout": {
        "coloraxis": {
         "colorbar": {
          "title": {
           "text": "QualityLabel"
          }
         },
         "colorscale": [
          [
           0,
           "#0d0887"
          ],
          [
           0.1111111111111111,
           "#46039f"
          ],
          [
           0.2222222222222222,
           "#7201a8"
          ],
          [
           0.3333333333333333,
           "#9c179e"
          ],
          [
           0.4444444444444444,
           "#bd3786"
          ],
          [
           0.5555555555555556,
           "#d8576b"
          ],
          [
           0.6666666666666666,
           "#ed7953"
          ],
          [
           0.7777777777777778,
           "#fb9f3a"
          ],
          [
           0.8888888888888888,
           "#fdca26"
          ],
          [
           1,
           "#f0f921"
          ]
         ]
        },
        "legend": {
         "tracegroupgap": 0
        },
        "template": {
         "data": {
          "bar": [
           {
            "error_x": {
             "color": "#2a3f5f"
            },
            "error_y": {
             "color": "#2a3f5f"
            },
            "marker": {
             "line": {
              "color": "#E5ECF6",
              "width": 0.5
             },
             "pattern": {
              "fillmode": "overlay",
              "size": 10,
              "solidity": 0.2
             }
            },
            "type": "bar"
           }
          ],
          "barpolar": [
           {
            "marker": {
             "line": {
              "color": "#E5ECF6",
              "width": 0.5
             },
             "pattern": {
              "fillmode": "overlay",
              "size": 10,
              "solidity": 0.2
             }
            },
            "type": "barpolar"
           }
          ],
          "carpet": [
           {
            "aaxis": {
             "endlinecolor": "#2a3f5f",
             "gridcolor": "white",
             "linecolor": "white",
             "minorgridcolor": "white",
             "startlinecolor": "#2a3f5f"
            },
            "baxis": {
             "endlinecolor": "#2a3f5f",
             "gridcolor": "white",
             "linecolor": "white",
             "minorgridcolor": "white",
             "startlinecolor": "#2a3f5f"
            },
            "type": "carpet"
           }
          ],
          "choropleth": [
           {
            "colorbar": {
             "outlinewidth": 0,
             "ticks": ""
            },
            "type": "choropleth"
           }
          ],
          "contour": [
           {
            "colorbar": {
             "outlinewidth": 0,
             "ticks": ""
            },
            "colorscale": [
             [
              0,
              "#0d0887"
             ],
             [
              0.1111111111111111,
              "#46039f"
             ],
             [
              0.2222222222222222,
              "#7201a8"
             ],
             [
              0.3333333333333333,
              "#9c179e"
             ],
             [
              0.4444444444444444,
              "#bd3786"
             ],
             [
              0.5555555555555556,
              "#d8576b"
             ],
             [
              0.6666666666666666,
              "#ed7953"
             ],
             [
              0.7777777777777778,
              "#fb9f3a"
             ],
             [
              0.8888888888888888,
              "#fdca26"
             ],
             [
              1,
              "#f0f921"
             ]
            ],
            "type": "contour"
           }
          ],
          "contourcarpet": [
           {
            "colorbar": {
             "outlinewidth": 0,
             "ticks": ""
            },
            "type": "contourcarpet"
           }
          ],
          "heatmap": [
           {
            "colorbar": {
             "outlinewidth": 0,
             "ticks": ""
            },
            "colorscale": [
             [
              0,
              "#0d0887"
             ],
             [
              0.1111111111111111,
              "#46039f"
             ],
             [
              0.2222222222222222,
              "#7201a8"
             ],
             [
              0.3333333333333333,
              "#9c179e"
             ],
             [
              0.4444444444444444,
              "#bd3786"
             ],
             [
              0.5555555555555556,
              "#d8576b"
             ],
             [
              0.6666666666666666,
              "#ed7953"
             ],
             [
              0.7777777777777778,
              "#fb9f3a"
             ],
             [
              0.8888888888888888,
              "#fdca26"
             ],
             [
              1,
              "#f0f921"
             ]
            ],
            "type": "heatmap"
           }
          ],
          "histogram": [
           {
            "marker": {
             "pattern": {
              "fillmode": "overlay",
              "size": 10,
              "solidity": 0.2
             }
            },
            "type": "histogram"
           }
          ],
          "histogram2d": [
           {
            "colorbar": {
             "outlinewidth": 0,
             "ticks": ""
            },
            "colorscale": [
             [
              0,
              "#0d0887"
             ],
             [
              0.1111111111111111,
              "#46039f"
             ],
             [
              0.2222222222222222,
              "#7201a8"
             ],
             [
              0.3333333333333333,
              "#9c179e"
             ],
             [
              0.4444444444444444,
              "#bd3786"
             ],
             [
              0.5555555555555556,
              "#d8576b"
             ],
             [
              0.6666666666666666,
              "#ed7953"
             ],
             [
              0.7777777777777778,
              "#fb9f3a"
             ],
             [
              0.8888888888888888,
              "#fdca26"
             ],
             [
              1,
              "#f0f921"
             ]
            ],
            "type": "histogram2d"
           }
          ],
          "histogram2dcontour": [
           {
            "colorbar": {
             "outlinewidth": 0,
             "ticks": ""
            },
            "colorscale": [
             [
              0,
              "#0d0887"
             ],
             [
              0.1111111111111111,
              "#46039f"
             ],
             [
              0.2222222222222222,
              "#7201a8"
             ],
             [
              0.3333333333333333,
              "#9c179e"
             ],
             [
              0.4444444444444444,
              "#bd3786"
             ],
             [
              0.5555555555555556,
              "#d8576b"
             ],
             [
              0.6666666666666666,
              "#ed7953"
             ],
             [
              0.7777777777777778,
              "#fb9f3a"
             ],
             [
              0.8888888888888888,
              "#fdca26"
             ],
             [
              1,
              "#f0f921"
             ]
            ],
            "type": "histogram2dcontour"
           }
          ],
          "mesh3d": [
           {
            "colorbar": {
             "outlinewidth": 0,
             "ticks": ""
            },
            "type": "mesh3d"
           }
          ],
          "parcoords": [
           {
            "line": {
             "colorbar": {
              "outlinewidth": 0,
              "ticks": ""
             }
            },
            "type": "parcoords"
           }
          ],
          "pie": [
           {
            "automargin": true,
            "type": "pie"
           }
          ],
          "scatter": [
           {
            "fillpattern": {
             "fillmode": "overlay",
             "size": 10,
             "solidity": 0.2
            },
            "type": "scatter"
           }
          ],
          "scatter3d": [
           {
            "line": {
             "colorbar": {
              "outlinewidth": 0,
              "ticks": ""
             }
            },
            "marker": {
             "colorbar": {
              "outlinewidth": 0,
              "ticks": ""
             }
            },
            "type": "scatter3d"
           }
          ],
          "scattercarpet": [
           {
            "marker": {
             "colorbar": {
              "outlinewidth": 0,
              "ticks": ""
             }
            },
            "type": "scattercarpet"
           }
          ],
          "scattergeo": [
           {
            "marker": {
             "colorbar": {
              "outlinewidth": 0,
              "ticks": ""
             }
            },
            "type": "scattergeo"
           }
          ],
          "scattergl": [
           {
            "marker": {
             "colorbar": {
              "outlinewidth": 0,
              "ticks": ""
             }
            },
            "type": "scattergl"
           }
          ],
          "scattermap": [
           {
            "marker": {
             "colorbar": {
              "outlinewidth": 0,
              "ticks": ""
             }
            },
            "type": "scattermap"
           }
          ],
          "scattermapbox": [
           {
            "marker": {
             "colorbar": {
              "outlinewidth": 0,
              "ticks": ""
             }
            },
            "type": "scattermapbox"
           }
          ],
          "scatterpolar": [
           {
            "marker": {
             "colorbar": {
              "outlinewidth": 0,
              "ticks": ""
             }
            },
            "type": "scatterpolar"
           }
          ],
          "scatterpolargl": [
           {
            "marker": {
             "colorbar": {
              "outlinewidth": 0,
              "ticks": ""
             }
            },
            "type": "scatterpolargl"
           }
          ],
          "scatterternary": [
           {
            "marker": {
             "colorbar": {
              "outlinewidth": 0,
              "ticks": ""
             }
            },
            "type": "scatterternary"
           }
          ],
          "surface": [
           {
            "colorbar": {
             "outlinewidth": 0,
             "ticks": ""
            },
            "colorscale": [
             [
              0,
              "#0d0887"
             ],
             [
              0.1111111111111111,
              "#46039f"
             ],
             [
              0.2222222222222222,
              "#7201a8"
             ],
             [
              0.3333333333333333,
              "#9c179e"
             ],
             [
              0.4444444444444444,
              "#bd3786"
             ],
             [
              0.5555555555555556,
              "#d8576b"
             ],
             [
              0.6666666666666666,
              "#ed7953"
             ],
             [
              0.7777777777777778,
              "#fb9f3a"
             ],
             [
              0.8888888888888888,
              "#fdca26"
             ],
             [
              1,
              "#f0f921"
             ]
            ],
            "type": "surface"
           }
          ],
          "table": [
           {
            "cells": {
             "fill": {
              "color": "#EBF0F8"
             },
             "line": {
              "color": "white"
             }
            },
            "header": {
             "fill": {
              "color": "#C8D4E3"
             },
             "line": {
              "color": "white"
             }
            },
            "type": "table"
           }
          ]
         },
         "layout": {
          "annotationdefaults": {
           "arrowcolor": "#2a3f5f",
           "arrowhead": 0,
           "arrowwidth": 1
          },
          "autotypenumbers": "strict",
          "coloraxis": {
           "colorbar": {
            "outlinewidth": 0,
            "ticks": ""
           }
          },
          "colorscale": {
           "diverging": [
            [
             0,
             "#8e0152"
            ],
            [
             0.1,
             "#c51b7d"
            ],
            [
             0.2,
             "#de77ae"
            ],
            [
             0.3,
             "#f1b6da"
            ],
            [
             0.4,
             "#fde0ef"
            ],
            [
             0.5,
             "#f7f7f7"
            ],
            [
             0.6,
             "#e6f5d0"
            ],
            [
             0.7,
             "#b8e186"
            ],
            [
             0.8,
             "#7fbc41"
            ],
            [
             0.9,
             "#4d9221"
            ],
            [
             1,
             "#276419"
            ]
           ],
           "sequential": [
            [
             0,
             "#0d0887"
            ],
            [
             0.1111111111111111,
             "#46039f"
            ],
            [
             0.2222222222222222,
             "#7201a8"
            ],
            [
             0.3333333333333333,
             "#9c179e"
            ],
            [
             0.4444444444444444,
             "#bd3786"
            ],
            [
             0.5555555555555556,
             "#d8576b"
            ],
            [
             0.6666666666666666,
             "#ed7953"
            ],
            [
             0.7777777777777778,
             "#fb9f3a"
            ],
            [
             0.8888888888888888,
             "#fdca26"
            ],
            [
             1,
             "#f0f921"
            ]
           ],
           "sequentialminus": [
            [
             0,
             "#0d0887"
            ],
            [
             0.1111111111111111,
             "#46039f"
            ],
            [
             0.2222222222222222,
             "#7201a8"
            ],
            [
             0.3333333333333333,
             "#9c179e"
            ],
            [
             0.4444444444444444,
             "#bd3786"
            ],
            [
             0.5555555555555556,
             "#d8576b"
            ],
            [
             0.6666666666666666,
             "#ed7953"
            ],
            [
             0.7777777777777778,
             "#fb9f3a"
            ],
            [
             0.8888888888888888,
             "#fdca26"
            ],
            [
             1,
             "#f0f921"
            ]
           ]
          },
          "colorway": [
           "#636efa",
           "#EF553B",
           "#00cc96",
           "#ab63fa",
           "#FFA15A",
           "#19d3f3",
           "#FF6692",
           "#B6E880",
           "#FF97FF",
           "#FECB52"
          ],
          "font": {
           "color": "#2a3f5f"
          },
          "geo": {
           "bgcolor": "white",
           "lakecolor": "white",
           "landcolor": "#E5ECF6",
           "showlakes": true,
           "showland": true,
           "subunitcolor": "white"
          },
          "hoverlabel": {
           "align": "left"
          },
          "hovermode": "closest",
          "mapbox": {
           "style": "light"
          },
          "paper_bgcolor": "white",
          "plot_bgcolor": "#E5ECF6",
          "polar": {
           "angularaxis": {
            "gridcolor": "white",
            "linecolor": "white",
            "ticks": ""
           },
           "bgcolor": "#E5ECF6",
           "radialaxis": {
            "gridcolor": "white",
            "linecolor": "white",
            "ticks": ""
           }
          },
          "scene": {
           "xaxis": {
            "backgroundcolor": "#E5ECF6",
            "gridcolor": "white",
            "gridwidth": 2,
            "linecolor": "white",
            "showbackground": true,
            "ticks": "",
            "zerolinecolor": "white"
           },
           "yaxis": {
            "backgroundcolor": "#E5ECF6",
            "gridcolor": "white",
            "gridwidth": 2,
            "linecolor": "white",
            "showbackground": true,
            "ticks": "",
            "zerolinecolor": "white"
           },
           "zaxis": {
            "backgroundcolor": "#E5ECF6",
            "gridcolor": "white",
            "gridwidth": 2,
            "linecolor": "white",
            "showbackground": true,
            "ticks": "",
            "zerolinecolor": "white"
           }
          },
          "shapedefaults": {
           "line": {
            "color": "#2a3f5f"
           }
          },
          "ternary": {
           "aaxis": {
            "gridcolor": "white",
            "linecolor": "white",
            "ticks": ""
           },
           "baxis": {
            "gridcolor": "white",
            "linecolor": "white",
            "ticks": ""
           },
           "bgcolor": "#E5ECF6",
           "caxis": {
            "gridcolor": "white",
            "linecolor": "white",
            "ticks": ""
           }
          },
          "title": {
           "x": 0.05
          },
          "xaxis": {
           "automargin": true,
           "gridcolor": "white",
           "linecolor": "white",
           "ticks": "",
           "title": {
            "standoff": 15
           },
           "zerolinecolor": "white",
           "zerolinewidth": 2
          },
          "yaxis": {
           "automargin": true,
           "gridcolor": "white",
           "linecolor": "white",
           "ticks": "",
           "title": {
            "standoff": 15
           },
           "zerolinecolor": "white",
           "zerolinewidth": 2
          }
         }
        },
        "title": {
         "text": "Latency vs Cost (colored by Quality)"
        },
        "xaxis": {
         "anchor": "y",
         "domain": [
          0,
          1
         ],
         "title": {
          "text": "LatencyMs"
         }
        },
        "yaxis": {
         "anchor": "x",
         "domain": [
          0,
          1
         ],
         "title": {
          "text": "CostUSD"
         }
        }
       }
      }
     },
     "metadata": {},
     "output_type": "display_data"
    }
   ],
   "source": [
    "fig = px.scatter(df_tel, x=\"LatencyMs\", y=\"CostUSD\", color=\"QualityLabel\", hover_data=[\"CaseId\", \"InputTokens\", \"OutputTokens\"], title=\"Latency vs Cost (colored by Quality)\")\n",
    "fig.show()"
   ]
  },
  {
   "cell_type": "markdown",
   "id": "81b0fa35",
   "metadata": {},
   "source": [
    "## Inspect a single generated response with citations\n",
    "You can adapt the prompt format to include explicit citation tags and map UrlName to Salesforce record URLs."
   ]
  },
  {
   "cell_type": "code",
   "execution_count": 54,
   "id": "f0b95660",
   "metadata": {
    "execution": {
     "iopub.execute_input": "2025-10-21T09:41:37.055803Z",
     "iopub.status.busy": "2025-10-21T09:41:37.055432Z",
     "iopub.status.idle": "2025-10-21T09:41:37.108564Z",
     "shell.execute_reply": "2025-10-21T09:41:37.107451Z"
    }
   },
   "outputs": [
    {
     "name": "stdout",
     "output_type": "stream",
     "text": [
      "=== Suggested Response ===\n",
      " Ensure reset link not expired; request new link; clear cache; check redirects [cite:Reset Password Troubleshooting]. Verify routing addresses and forwarding; check Email Services logs; ensure mailbox not over quota [cite:Email-to-Case Setup Guide].\n",
      "\n",
      "=== Prompt (context) ===\n",
      " Case: Cannot reset password\n",
      "Question: User can't reset password using forgot link; gets invalid token error.\n",
      "\n",
      "Snippet 1 [Reset Password Troubleshooting]: If users see an invalid token during password reset, ensure the reset link has not expired (24 hours). Clear cache, request a new link, and check domain redirects. Admins can invalidate sessions and enforce a new reset.\n",
      "Snippet 2 [Login Issues Common Causes]: Multi-factor prompts, IP ranges, and profile login hours can block login. Review login history for error codes and investigate session settings.\n",
      "Snippet 3 [Email-to-Case Setup Guide]: Verify routing addresses are active. Check the Email Services logs. Ensure the mailbox forwarding is enabled and not hitting size limits. Review Case Assignment Rules and APEX triggers that may block insert.\n"
     ]
    },
    {
     "data": {
      "text/html": [
       "<div>\n",
       "<style scoped>\n",
       "    .dataframe tbody tr th:only-of-type {\n",
       "        vertical-align: middle;\n",
       "    }\n",
       "\n",
       "    .dataframe tbody tr th {\n",
       "        vertical-align: top;\n",
       "    }\n",
       "\n",
       "    .dataframe thead th {\n",
       "        text-align: right;\n",
       "    }\n",
       "</style>\n",
       "<table border=\"1\" class=\"dataframe\">\n",
       "  <thead>\n",
       "    <tr style=\"text-align: right;\">\n",
       "      <th></th>\n",
       "      <th>ArticleId</th>\n",
       "      <th>Title</th>\n",
       "      <th>UrlName</th>\n",
       "      <th>ChunkIndex</th>\n",
       "      <th>Chunk</th>\n",
       "      <th>Similarity</th>\n",
       "    </tr>\n",
       "  </thead>\n",
       "  <tbody>\n",
       "    <tr>\n",
       "      <th>0</th>\n",
       "      <td>ka0xx00001</td>\n",
       "      <td>Reset Password Troubleshooting</td>\n",
       "      <td>reset-password</td>\n",
       "      <td>0</td>\n",
       "      <td>If users see an invalid token during password ...</td>\n",
       "      <td>0.730225</td>\n",
       "    </tr>\n",
       "    <tr>\n",
       "      <th>1</th>\n",
       "      <td>ka0xx00003</td>\n",
       "      <td>Login Issues Common Causes</td>\n",
       "      <td>login-issues</td>\n",
       "      <td>0</td>\n",
       "      <td>Multi-factor prompts, IP ranges, and profile l...</td>\n",
       "      <td>0.205318</td>\n",
       "    </tr>\n",
       "    <tr>\n",
       "      <th>2</th>\n",
       "      <td>ka0xx00002</td>\n",
       "      <td>Email-to-Case Setup Guide</td>\n",
       "      <td>email-to-case-setup</td>\n",
       "      <td>0</td>\n",
       "      <td>Verify routing addresses are active. Check the...</td>\n",
       "      <td>0.075231</td>\n",
       "    </tr>\n",
       "  </tbody>\n",
       "</table>\n",
       "</div>"
      ],
      "text/plain": [
       "    ArticleId                           Title              UrlName  \\\n",
       "0  ka0xx00001  Reset Password Troubleshooting       reset-password   \n",
       "1  ka0xx00003      Login Issues Common Causes         login-issues   \n",
       "2  ka0xx00002       Email-to-Case Setup Guide  email-to-case-setup   \n",
       "\n",
       "   ChunkIndex                                              Chunk  Similarity  \n",
       "0           0  If users see an invalid token during password ...    0.730225  \n",
       "1           0  Multi-factor prompts, IP ranges, and profile l...    0.205318  \n",
       "2           0  Verify routing addresses are active. Check the...    0.075231  "
      ]
     },
     "execution_count": 54,
     "metadata": {},
     "output_type": "execute_result"
    }
   ],
   "source": [
    "case0 = df_cases.iloc[0]\n",
    "r0 = retrieve(case0[\"Description\"], top_k=TOP_K)\n",
    "res0 = answer_case(case0, r0)\n",
    "print(\"=== Suggested Response ===\\n\", res0[\"Response\"])\n",
    "print(\"\\n=== Prompt (context) ===\\n\", res0[\"Prompt\"])\n",
    "pd.DataFrame(r0)"
   ]
  },
  {
   "cell_type": "markdown",
   "id": "01006d1d",
   "metadata": {},
   "source": [
    "## Next steps (to production)\n",
    "- Replace local embeddings/LLM stub with your chosen providers and log real token usage/costs.\n",
    "- Externalize the vector index (e.g., pgvector on Heroku) and hit it via a secure endpoint.\n",
    "- Store prompt and model versions, and log telemetry to a durable store (e.g., Postgres or Salesforce Custom Object).\n",
    "- Add safety/PII redaction before sending any Case content to external services.\n",
    "- Package as a service callable from an LWC in the Case page; return {answer, citations[]}.\n",
    "- Add evaluation harness with labeled Case->Answer pairs for continuous quality monitoring."
   ]
  },
  {
   "cell_type": "code",
   "metadata": {},
   "source": [
    "# Generate and display RAG demo slides\n",
    "import subprocess\n",
    "from pathlib import Path\n",
    "\n",
    "# Build HTML content\n",
    "html_parts = []\n",
    "html_parts.append('''<!DOCTYPE html>\n",
    "<html>\n",
    "<head>\n",
    "    <title>RAG Demo - Salesforce Agent Assist</title>\n",
    "    <style>\n",
    "        body { font-family: Arial, sans-serif; margin: 40px; background: #f5f5f5; }\n",
    "        .slide { background: white; padding: 30px; margin: 20px 0; border-radius: 8px; box-shadow: 0 2px 4px rgba(0,0,0,0.1); }\n",
    "        h1 { color: #0176d3; }\n",
    "        h2 { color: #032d60; margin-top: 0; }\n",
    "        .metric { display: inline-block; margin: 10px 20px; padding: 15px; background: #e8f4f8; border-radius: 5px; }\n",
    "        .metric-value { font-size: 24px; font-weight: bold; color: #0176d3; }\n",
    "        .metric-label { font-size: 14px; color: #666; }\n",
    "        pre { background: #f4f4f4; padding: 15px; border-radius: 5px; overflow-x: auto; }\n",
    "        .case-example { background: #fff9e6; padding: 15px; border-left: 4px solid #ffa500; margin: 10px 0; }\n",
    "        .response { background: #e8f5e9; padding: 15px; border-left: 4px solid #4caf50; margin: 10px 0; }\n",
    "    </style>\n",
    "</head>\n",
    "<body>\n",
    "    <div class=\"slide\">\n",
    "        <h1>\ud83e\udd16 RAG-Powered Agent Assist for Salesforce</h1>\n",
    "        <p><strong>Demo: Knowledge-Grounded Case Response Generation</strong></p>''')\n",
    "\n",
    "html_parts.append(f'''\n",
    "        <div class=\"metric\">\n",
    "            <div class=\"metric-value\">{len(df_kb)}</div>\n",
    "            <div class=\"metric-label\">Knowledge Articles</div>\n",
    "        </div>\n",
    "        <div class=\"metric\">\n",
    "            <div class=\"metric-value\">{len(df_chunks)}</div>\n",
    "            <div class=\"metric-label\">Chunks Indexed</div>\n",
    "        </div>\n",
    "        <div class=\"metric\">\n",
    "            <div class=\"metric-value\">{len(df_cases)}</div>\n",
    "            <div class=\"metric-label\">Test Cases</div>\n",
    "        </div>\n",
    "    </div>''')\n",
    "\n",
    "html_parts.append(f'''\n",
    "    <div class=\"slide\">\n",
    "        <h2>\ud83d\udcca Demo Results</h2>\n",
    "        <div class=\"case-example\">\n",
    "            <strong>Case:</strong> {sample_case[\"Subject\"]}<br>\n",
    "            <strong>Description:</strong> {sample_case[\"Description\"]}\n",
    "        </div>\n",
    "        <div class=\"response\">\n",
    "            <strong>AI-Generated Response:</strong><br>\n",
    "            {result[\"Response\"]}\n",
    "        </div>\n",
    "        <p><strong>Retrieved Knowledge Articles:</strong></p>\n",
    "        <ul>''')\n",
    "\n",
    "for r in retrieved[:3]:\n",
    "    html_parts.append(f'            <li>{r[\"Title\"]} (similarity: {r[\"Similarity\"]:.3f})</li>\\n')\n",
    "\n",
    "html_parts.append('''        </ul>\n",
    "    </div>''')\n",
    "\n",
    "html_parts.append(f'''\n",
    "    <div class=\"slide\">\n",
    "        <h2>\ud83d\udcc8 Performance Metrics</h2>\n",
    "        <pre>\n",
    "Average Latency: {df_tel[\"LatencyMs\"].mean():.2f} ms\n",
    "Average Cost: ${df_tel[\"CostUSD\"].mean():.6f} USD per case\n",
    "Average Similarity Score: {df_tel[\"AvgSim\"].mean():.3f}\n",
    "Average Quality Rating: {df_tel[\"QualityLabel\"].mean():.1f}/5\n",
    "        </pre>\n",
    "    </div>''')\n",
    "\n",
    "html_parts.append('''\n",
    "    <div class=\"slide\">\n",
    "        <h2>\ud83c\udfaf Key Takeaways</h2>\n",
    "        <ul>\n",
    "            <li>\u2705 RAG enables grounded, citation-backed responses</li>\n",
    "            <li>\u2705 Semantic search retrieves relevant knowledge automatically</li>\n",
    "            <li>\u2705 Low latency (&lt;100ms average) suitable for real-time assist</li>\n",
    "            <li>\u2705 Cost-effective at ~$0.0002 per case</li>\n",
    "            <li>\u2705 Ready for Salesforce Lightning Web Component integration</li>\n",
    "        </ul>\n",
    "    </div>\n",
    "</body>\n",
    "</html>''')\n",
    "\n",
    "html_content = ''.join(html_parts)\n",
    "\n",
    "# Save to slides directory in repo\n",
    "slides_path = '/home/bbrelin/src/repos/salesforce/slides/rag_agent_assist_demo.html'\n",
    "with open(slides_path, 'w') as f:\n",
    "    f.write(html_content)\n",
    "\n",
    "print(f\"\u2705 Slides generated: {slides_path}\")\n",
    "\n",
    "# Open in Firefox\n",
    "try:\n",
    "    subprocess.Popen(['firefox', slides_path], stdout=subprocess.DEVNULL, stderr=subprocess.DEVNULL)\n",
    "    print(f\"\u2705 Opening in Firefox\")\n",
    "except Exception as e:\n",
    "    print(f\"\u26a0\ufe0f  Could not open Firefox: {e}\")\n",
    "    print(f\"   Open manually: {slides_path}\")"
   ],
   "outputs": [],
   "execution_count": null
  }
 ],
 "metadata": {
  "kernelspec": {
   "display_name": "Python (.venv salesforce)",
   "language": "python",
   "name": "salesforce-venv"
  },
  "language_info": {
   "codemirror_mode": {
    "name": "ipython",
    "version": 3
   },
   "file_extension": ".py",
   "mimetype": "text/x-python",
   "name": "python",
   "nbconvert_exporter": "python",
   "pygments_lexer": "ipython3",
   "version": "3.9.12"
  }
 },
 "nbformat": 4,
 "nbformat_minor": 5
}